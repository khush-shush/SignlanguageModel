{
 "cells": [
  {
   "cell_type": "code",
   "execution_count": 2,
   "id": "9d800733",
   "metadata": {},
   "outputs": [
    {
     "name": "stdout",
     "output_type": "stream",
     "text": [
      "Collecting pywinpty==1.1.1\n",
      "  Downloading pywinpty-1.1.1-cp39-none-win_amd64.whl.metadata (5.9 kB)\n",
      "Downloading pywinpty-1.1.1-cp39-none-win_amd64.whl (1.4 MB)\n",
      "   ---------------------------------------- 1.4/1.4 MB 954.4 kB/s eta 0:00:00\n",
      "Installing collected packages: pywinpty\n",
      "  Attempting uninstall: pywinpty\n",
      "    Found existing installation: pywinpty 2.0.2\n",
      "    Uninstalling pywinpty-2.0.2:\n",
      "      Successfully uninstalled pywinpty-2.0.2\n",
      "Successfully installed pywinpty-1.1.1\n"
     ]
    },
    {
     "name": "stderr",
     "output_type": "stream",
     "text": [
      "WARNING: Ignoring invalid distribution -pencv-python (c:\\users\\kuksh\\anaconda3\\lib\\site-packages)\n",
      "WARNING: Ignoring invalid distribution -pencv-python (c:\\users\\kuksh\\anaconda3\\lib\\site-packages)\n",
      "WARNING: Ignoring invalid distribution -pencv-python (c:\\users\\kuksh\\anaconda3\\lib\\site-packages)\n"
     ]
    },
    {
     "name": "stdout",
     "output_type": "stream",
     "text": [
      "Requirement already satisfied: ultralytics in c:\\users\\kuksh\\anaconda3\\lib\\site-packages (8.3.5)\n",
      "Requirement already satisfied: numpy>=1.23.0 in c:\\users\\kuksh\\anaconda3\\lib\\site-packages (from ultralytics) (1.23.5)\n",
      "Requirement already satisfied: matplotlib>=3.3.0 in c:\\users\\kuksh\\anaconda3\\lib\\site-packages (from ultralytics) (3.5.1)\n",
      "Requirement already satisfied: opencv-python>=4.6.0 in c:\\users\\kuksh\\anaconda3\\lib\\site-packages (from ultralytics) (4.10.0.84)\n",
      "Requirement already satisfied: pillow>=7.1.2 in c:\\users\\kuksh\\anaconda3\\lib\\site-packages (from ultralytics) (10.4.0)\n",
      "Requirement already satisfied: pyyaml>=5.3.1 in c:\\users\\kuksh\\anaconda3\\lib\\site-packages (from ultralytics) (6.0)"
     ]
    },
    {
     "name": "stderr",
     "output_type": "stream",
     "text": [
      "WARNING: Ignoring invalid distribution -pencv-python (c:\\users\\kuksh\\anaconda3\\lib\\site-packages)\n",
      "WARNING: Ignoring invalid distribution -pencv-python (c:\\users\\kuksh\\anaconda3\\lib\\site-packages)\n",
      "WARNING: Ignoring invalid distribution -pencv-python (c:\\users\\kuksh\\anaconda3\\lib\\site-packages)\n"
     ]
    },
    {
     "name": "stdout",
     "output_type": "stream",
     "text": [
      "\n",
      "Requirement already satisfied: requests>=2.23.0 in c:\\users\\kuksh\\anaconda3\\lib\\site-packages (from ultralytics) (2.32.3)\n",
      "Requirement already satisfied: scipy>=1.4.1 in c:\\users\\kuksh\\anaconda3\\lib\\site-packages (from ultralytics) (1.13.1)\n",
      "Requirement already satisfied: torch>=1.8.0 in c:\\users\\kuksh\\anaconda3\\lib\\site-packages (from ultralytics) (2.4.1)\n",
      "Requirement already satisfied: torchvision>=0.9.0 in c:\\users\\kuksh\\anaconda3\\lib\\site-packages (from ultralytics) (0.19.1)\n",
      "Requirement already satisfied: tqdm>=4.64.0 in c:\\users\\kuksh\\anaconda3\\lib\\site-packages (from ultralytics) (4.66.5)\n",
      "Requirement already satisfied: psutil in c:\\users\\kuksh\\anaconda3\\lib\\site-packages (from ultralytics) (5.8.0)\n",
      "Requirement already satisfied: py-cpuinfo in c:\\users\\kuksh\\anaconda3\\lib\\site-packages (from ultralytics) (9.0.0)\n",
      "Requirement already satisfied: pandas>=1.1.4 in c:\\users\\kuksh\\anaconda3\\lib\\site-packages (from ultralytics) (1.4.2)\n",
      "Requirement already satisfied: seaborn>=0.11.0 in c:\\users\\kuksh\\anaconda3\\lib\\site-packages (from ultralytics) (0.11.2)\n",
      "Requirement already satisfied: ultralytics-thop>=2.0.0 in c:\\users\\kuksh\\anaconda3\\lib\\site-packages (from ultralytics) (2.0.9)\n",
      "Requirement already satisfied: cycler>=0.10 in c:\\users\\kuksh\\anaconda3\\lib\\site-packages (from matplotlib>=3.3.0->ultralytics) (0.11.0)\n",
      "Requirement already satisfied: fonttools>=4.22.0 in c:\\users\\kuksh\\anaconda3\\lib\\site-packages (from matplotlib>=3.3.0->ultralytics) (4.25.0)\n",
      "Requirement already satisfied: kiwisolver>=1.0.1 in c:\\users\\kuksh\\anaconda3\\lib\\site-packages (from matplotlib>=3.3.0->ultralytics) (1.3.2)\n",
      "Requirement already satisfied: packaging>=20.0 in c:\\users\\kuksh\\anaconda3\\lib\\site-packages (from matplotlib>=3.3.0->ultralytics) (24.1)\n",
      "Requirement already satisfied: pyparsing>=2.2.1 in c:\\users\\kuksh\\anaconda3\\lib\\site-packages (from matplotlib>=3.3.0->ultralytics) (3.0.4)\n",
      "Requirement already satisfied: python-dateutil>=2.7 in c:\\users\\kuksh\\anaconda3\\lib\\site-packages (from matplotlib>=3.3.0->ultralytics) (2.8.2)\n",
      "Requirement already satisfied: pytz>=2020.1 in c:\\users\\kuksh\\anaconda3\\lib\\site-packages (from pandas>=1.1.4->ultralytics) (2021.3)\n",
      "Requirement already satisfied: charset-normalizer<4,>=2 in c:\\users\\kuksh\\anaconda3\\lib\\site-packages (from requests>=2.23.0->ultralytics) (2.0.4)\n",
      "Requirement already satisfied: idna<4,>=2.5 in c:\\users\\kuksh\\anaconda3\\lib\\site-packages (from requests>=2.23.0->ultralytics) (3.3)\n",
      "Requirement already satisfied: urllib3<3,>=1.21.1 in c:\\users\\kuksh\\anaconda3\\lib\\site-packages (from requests>=2.23.0->ultralytics) (1.26.9)\n",
      "Requirement already satisfied: certifi>=2017.4.17 in c:\\users\\kuksh\\anaconda3\\lib\\site-packages (from requests>=2.23.0->ultralytics) (2021.10.8)\n",
      "Requirement already satisfied: filelock in c:\\users\\kuksh\\anaconda3\\lib\\site-packages (from torch>=1.8.0->ultralytics) (3.6.0)\n",
      "Requirement already satisfied: typing-extensions>=4.8.0 in c:\\users\\kuksh\\anaconda3\\lib\\site-packages (from torch>=1.8.0->ultralytics) (4.12.2)\n",
      "Requirement already satisfied: sympy in c:\\users\\kuksh\\anaconda3\\lib\\site-packages (from torch>=1.8.0->ultralytics) (1.10.1)\n",
      "Requirement already satisfied: networkx in c:\\users\\kuksh\\anaconda3\\lib\\site-packages (from torch>=1.8.0->ultralytics) (2.7.1)\n",
      "Requirement already satisfied: jinja2 in c:\\users\\kuksh\\anaconda3\\lib\\site-packages (from torch>=1.8.0->ultralytics) (2.11.3)\n",
      "Requirement already satisfied: fsspec in c:\\users\\kuksh\\anaconda3\\lib\\site-packages (from torch>=1.8.0->ultralytics) (2024.10.0)\n",
      "Requirement already satisfied: colorama in c:\\users\\kuksh\\anaconda3\\lib\\site-packages (from tqdm>=4.64.0->ultralytics) (0.4.4)\n",
      "Requirement already satisfied: six>=1.5 in c:\\users\\kuksh\\anaconda3\\lib\\site-packages (from python-dateutil>=2.7->matplotlib>=3.3.0->ultralytics) (1.16.0)\n",
      "Requirement already satisfied: MarkupSafe>=0.23 in c:\\users\\kuksh\\anaconda3\\lib\\site-packages (from jinja2->torch>=1.8.0->ultralytics) (2.0.1)\n",
      "Requirement already satisfied: mpmath>=0.19 in c:\\users\\kuksh\\anaconda3\\lib\\site-packages (from sympy->torch>=1.8.0->ultralytics) (1.2.1)\n"
     ]
    }
   ],
   "source": [
    "\n",
    "!pip install pywinpty==1.1.1\n",
    "!pip install ultralytics"
   ]
  },
  {
   "cell_type": "code",
   "execution_count": 6,
   "id": "7b5337f3",
   "metadata": {},
   "outputs": [
    {
     "name": "stdout",
     "output_type": "stream",
     "text": [
      "New https://pypi.org/project/ultralytics/8.3.28 available  Update with 'pip install -U ultralytics'\n",
      "Ultralytics 8.3.5  Python-3.9.12 torch-2.4.1+cpu CPU (11th Gen Intel Core(TM) i5-1155G7 2.50GHz)\n",
      "\u001b[34m\u001b[1mengine\\trainer: \u001b[0mtask=detect, mode=train, model=yolov8n.pt, data=C:\\Users\\kuksh\\American Sign Language Letters.v6-raw.yolov8\\data.yaml, epochs=70, time=None, patience=100, batch=16, imgsz=640, save=True, save_period=-1, cache=False, device=None, workers=8, project=None, name=train4, exist_ok=False, pretrained=True, optimizer=auto, verbose=True, seed=0, deterministic=True, single_cls=False, rect=False, cos_lr=False, close_mosaic=10, resume=False, amp=True, fraction=1.0, profile=False, freeze=None, multi_scale=False, overlap_mask=True, mask_ratio=4, dropout=0.0, val=True, split=val, save_json=False, save_hybrid=False, conf=None, iou=0.7, max_det=300, half=False, dnn=False, plots=True, source=None, vid_stride=1, stream_buffer=False, visualize=False, augment=False, agnostic_nms=False, classes=None, retina_masks=False, embed=None, show=False, save_frames=False, save_txt=False, save_conf=False, save_crop=False, show_labels=True, show_conf=True, show_boxes=True, line_width=None, format=torchscript, keras=False, optimize=False, int8=False, dynamic=False, simplify=True, opset=None, workspace=4, nms=False, lr0=0.01, lrf=0.01, momentum=0.937, weight_decay=0.0005, warmup_epochs=3.0, warmup_momentum=0.8, warmup_bias_lr=0.1, box=7.5, cls=0.5, dfl=1.5, pose=12.0, kobj=1.0, label_smoothing=0.0, nbs=64, hsv_h=0.015, hsv_s=0.7, hsv_v=0.4, degrees=0.0, translate=0.1, scale=0.5, shear=0.0, perspective=0.0, flipud=0.0, fliplr=0.5, bgr=0.0, mosaic=1.0, mixup=0.0, copy_paste=0.0, copy_paste_mode=flip, auto_augment=randaugment, erasing=0.4, crop_fraction=1.0, cfg=None, tracker=botsort.yaml, save_dir=runs\\detect\\train4\n",
      "Overriding model.yaml nc=80 with nc=26\n",
      "\n",
      "                   from  n    params  module                                       arguments                     \n",
      "  0                  -1  1       464  ultralytics.nn.modules.conv.Conv             [3, 16, 3, 2]                 \n",
      "  1                  -1  1      4672  ultralytics.nn.modules.conv.Conv             [16, 32, 3, 2]                \n",
      "  2                  -1  1      7360  ultralytics.nn.modules.block.C2f             [32, 32, 1, True]             \n",
      "  3                  -1  1     18560  ultralytics.nn.modules.conv.Conv             [32, 64, 3, 2]                \n",
      "  4                  -1  2     49664  ultralytics.nn.modules.block.C2f             [64, 64, 2, True]             \n",
      "  5                  -1  1     73984  ultralytics.nn.modules.conv.Conv             [64, 128, 3, 2]               \n",
      "  6                  -1  2    197632  ultralytics.nn.modules.block.C2f             [128, 128, 2, True]           \n",
      "  7                  -1  1    295424  ultralytics.nn.modules.conv.Conv             [128, 256, 3, 2]              \n",
      "  8                  -1  1    460288  ultralytics.nn.modules.block.C2f             [256, 256, 1, True]           \n",
      "  9                  -1  1    164608  ultralytics.nn.modules.block.SPPF            [256, 256, 5]                 \n",
      " 10                  -1  1         0  torch.nn.modules.upsampling.Upsample         [None, 2, 'nearest']          \n",
      " 11             [-1, 6]  1         0  ultralytics.nn.modules.conv.Concat           [1]                           \n",
      " 12                  -1  1    148224  ultralytics.nn.modules.block.C2f             [384, 128, 1]                 \n",
      " 13                  -1  1         0  torch.nn.modules.upsampling.Upsample         [None, 2, 'nearest']          \n",
      " 14             [-1, 4]  1         0  ultralytics.nn.modules.conv.Concat           [1]                           \n",
      " 15                  -1  1     37248  ultralytics.nn.modules.block.C2f             [192, 64, 1]                  \n",
      " 16                  -1  1     36992  ultralytics.nn.modules.conv.Conv             [64, 64, 3, 2]                \n",
      " 17            [-1, 12]  1         0  ultralytics.nn.modules.conv.Concat           [1]                           \n",
      " 18                  -1  1    123648  ultralytics.nn.modules.block.C2f             [192, 128, 1]                 \n",
      " 19                  -1  1    147712  ultralytics.nn.modules.conv.Conv             [128, 128, 3, 2]              \n",
      " 20             [-1, 9]  1         0  ultralytics.nn.modules.conv.Concat           [1]                           \n",
      " 21                  -1  1    493056  ultralytics.nn.modules.block.C2f             [384, 256, 1]                 \n",
      " 22        [15, 18, 21]  1    435742  ultralytics.nn.modules.head.Detect           [26, [64, 128, 256]]          \n",
      "Model summary: 249 layers, 2,695,278 parameters, 2,695,262 gradients, 7.0 GFLOPs\n",
      "\n",
      "Transferred 313/391 items from pretrained weights\n",
      "\u001b[34m\u001b[1mTensorBoard: \u001b[0mStart with 'tensorboard --logdir runs\\detect\\train4', view at http://localhost:6006/\n",
      "Freezing layer 'model.22.dfl.conv.weight'\n"
     ]
    },
    {
     "name": "stderr",
     "output_type": "stream",
     "text": [
      "\u001b[34m\u001b[1mtrain: \u001b[0mScanning C:\\Users\\kuksh\\American Sign Language Letters.v6-raw.yolov8\\train\\labels.cache... 504 images, 0 backgro\u001b[0m\n",
      "\u001b[34m\u001b[1mval: \u001b[0mScanning C:\\Users\\kuksh\\American Sign Language Letters.v6-raw.yolov8\\valid\\labels.cache... 144 images, 0 backgroun\u001b[0m"
     ]
    },
    {
     "name": "stdout",
     "output_type": "stream",
     "text": [
      "Plotting labels to runs\\detect\\train4\\labels.jpg... \n"
     ]
    },
    {
     "name": "stderr",
     "output_type": "stream",
     "text": [
      "\n"
     ]
    },
    {
     "name": "stdout",
     "output_type": "stream",
     "text": [
      "\u001b[34m\u001b[1moptimizer:\u001b[0m 'optimizer=auto' found, ignoring 'lr0=0.01' and 'momentum=0.937' and determining best 'optimizer', 'lr0' and 'momentum' automatically... \n",
      "\u001b[34m\u001b[1moptimizer:\u001b[0m AdamW(lr=0.000333, momentum=0.9) with parameter groups 63 weight(decay=0.0), 70 weight(decay=0.0005), 69 bias(decay=0.0)\n",
      "\u001b[34m\u001b[1mTensorBoard: \u001b[0mmodel graph visualization added \n",
      "Image sizes 640 train, 640 val\n",
      "Using 0 dataloader workers\n",
      "Logging results to \u001b[1mruns\\detect\\train4\u001b[0m\n",
      "Starting training for 70 epochs...\n",
      "\n",
      "      Epoch    GPU_mem   box_loss   cls_loss   dfl_loss  Instances       Size\n"
     ]
    },
    {
     "name": "stderr",
     "output_type": "stream",
     "text": [
      "       1/70         0G     0.8555      4.384      1.288         20        640: 100%|██████████| 32/32 [03:08<00:00,  5.\n",
      "                 Class     Images  Instances      Box(P          R      mAP50  mAP50-95): 100%|██████████| 5/5 [00:19<0"
     ]
    },
    {
     "name": "stdout",
     "output_type": "stream",
     "text": [
      "                   all        144        144          0          0          0          0\n"
     ]
    },
    {
     "name": "stderr",
     "output_type": "stream",
     "text": [
      "\n"
     ]
    },
    {
     "name": "stdout",
     "output_type": "stream",
     "text": [
      "\n",
      "      Epoch    GPU_mem   box_loss   cls_loss   dfl_loss  Instances       Size\n"
     ]
    },
    {
     "name": "stderr",
     "output_type": "stream",
     "text": [
      "       2/70         0G     0.6386      4.168      1.129         20        640: 100%|██████████| 32/32 [03:23<00:00,  6.\n",
      "                 Class     Images  Instances      Box(P          R      mAP50  mAP50-95): 100%|██████████| 5/5 [00:16<0"
     ]
    },
    {
     "name": "stdout",
     "output_type": "stream",
     "text": [
      "                   all        144        144     0.0474     0.0873     0.0478     0.0436\n"
     ]
    },
    {
     "name": "stderr",
     "output_type": "stream",
     "text": [
      "\n"
     ]
    },
    {
     "name": "stdout",
     "output_type": "stream",
     "text": [
      "\n",
      "      Epoch    GPU_mem   box_loss   cls_loss   dfl_loss  Instances       Size\n"
     ]
    },
    {
     "name": "stderr",
     "output_type": "stream",
     "text": [
      "       3/70         0G     0.6427      3.985      1.134          9        640: 100%|██████████| 32/32 [03:28<00:00,  6.\n",
      "                 Class     Images  Instances      Box(P          R      mAP50  mAP50-95): 100%|██████████| 5/5 [00:24<0"
     ]
    },
    {
     "name": "stdout",
     "output_type": "stream",
     "text": [
      "                   all        144        144     0.0887      0.742      0.232      0.206\n"
     ]
    },
    {
     "name": "stderr",
     "output_type": "stream",
     "text": [
      "\n"
     ]
    },
    {
     "name": "stdout",
     "output_type": "stream",
     "text": [
      "\n",
      "      Epoch    GPU_mem   box_loss   cls_loss   dfl_loss  Instances       Size\n"
     ]
    },
    {
     "name": "stderr",
     "output_type": "stream",
     "text": [
      "       4/70         0G     0.6555      3.739      1.132         16        640: 100%|██████████| 32/32 [03:59<00:00,  7.\n",
      "                 Class     Images  Instances      Box(P          R      mAP50  mAP50-95): 100%|██████████| 5/5 [00:31<0"
     ]
    },
    {
     "name": "stdout",
     "output_type": "stream",
     "text": [
      "                   all        144        144      0.574      0.132      0.267      0.244\n"
     ]
    },
    {
     "name": "stderr",
     "output_type": "stream",
     "text": [
      "\n"
     ]
    },
    {
     "name": "stdout",
     "output_type": "stream",
     "text": [
      "\n",
      "      Epoch    GPU_mem   box_loss   cls_loss   dfl_loss  Instances       Size\n"
     ]
    },
    {
     "name": "stderr",
     "output_type": "stream",
     "text": [
      "       5/70         0G     0.6895       3.53      1.196         14        640: 100%|██████████| 32/32 [05:03<00:00,  9.\n",
      "                 Class     Images  Instances      Box(P          R      mAP50  mAP50-95): 100%|██████████| 5/5 [00:29<0"
     ]
    },
    {
     "name": "stdout",
     "output_type": "stream",
     "text": [
      "                   all        144        144      0.256      0.388       0.36      0.323\n"
     ]
    },
    {
     "name": "stderr",
     "output_type": "stream",
     "text": [
      "\n"
     ]
    },
    {
     "name": "stdout",
     "output_type": "stream",
     "text": [
      "\n",
      "      Epoch    GPU_mem   box_loss   cls_loss   dfl_loss  Instances       Size\n"
     ]
    },
    {
     "name": "stderr",
     "output_type": "stream",
     "text": [
      "       6/70         0G     0.7079      3.306      1.188         17        640: 100%|██████████| 32/32 [04:52<00:00,  9.\n",
      "                 Class     Images  Instances      Box(P          R      mAP50  mAP50-95): 100%|██████████| 5/5 [00:28<0"
     ]
    },
    {
     "name": "stdout",
     "output_type": "stream",
     "text": [
      "                   all        144        144      0.299      0.446      0.438      0.394\n"
     ]
    },
    {
     "name": "stderr",
     "output_type": "stream",
     "text": [
      "\n"
     ]
    },
    {
     "name": "stdout",
     "output_type": "stream",
     "text": [
      "\n",
      "      Epoch    GPU_mem   box_loss   cls_loss   dfl_loss  Instances       Size\n"
     ]
    },
    {
     "name": "stderr",
     "output_type": "stream",
     "text": [
      "       7/70         0G     0.7043      3.097      1.163         24        640: 100%|██████████| 32/32 [04:57<00:00,  9.\n",
      "                 Class     Images  Instances      Box(P          R      mAP50  mAP50-95): 100%|██████████| 5/5 [00:27<0"
     ]
    },
    {
     "name": "stdout",
     "output_type": "stream",
     "text": [
      "                   all        144        144      0.391       0.45        0.5      0.448\n"
     ]
    },
    {
     "name": "stderr",
     "output_type": "stream",
     "text": [
      "\n"
     ]
    },
    {
     "name": "stdout",
     "output_type": "stream",
     "text": [
      "\n",
      "      Epoch    GPU_mem   box_loss   cls_loss   dfl_loss  Instances       Size\n"
     ]
    },
    {
     "name": "stderr",
     "output_type": "stream",
     "text": [
      "       8/70         0G     0.6668      2.858      1.143         20        640: 100%|██████████| 32/32 [38:57<00:00, 73.\n",
      "                 Class     Images  Instances      Box(P          R      mAP50  mAP50-95): 100%|██████████| 5/5 [00:16<0"
     ]
    },
    {
     "name": "stdout",
     "output_type": "stream",
     "text": [
      "                   all        144        144       0.48      0.504      0.565      0.514\n"
     ]
    },
    {
     "name": "stderr",
     "output_type": "stream",
     "text": [
      "\n"
     ]
    },
    {
     "name": "stdout",
     "output_type": "stream",
     "text": [
      "\n",
      "      Epoch    GPU_mem   box_loss   cls_loss   dfl_loss  Instances       Size\n"
     ]
    },
    {
     "name": "stderr",
     "output_type": "stream",
     "text": [
      "       9/70         0G     0.6766      2.743      1.167         16        640: 100%|██████████| 32/32 [05:11<00:00,  9.\n",
      "                 Class     Images  Instances      Box(P          R      mAP50  mAP50-95): 100%|██████████| 5/5 [00:29<0"
     ]
    },
    {
     "name": "stdout",
     "output_type": "stream",
     "text": [
      "                   all        144        144       0.46      0.581      0.625      0.565\n"
     ]
    },
    {
     "name": "stderr",
     "output_type": "stream",
     "text": [
      "\n"
     ]
    },
    {
     "name": "stdout",
     "output_type": "stream",
     "text": [
      "\n",
      "      Epoch    GPU_mem   box_loss   cls_loss   dfl_loss  Instances       Size\n"
     ]
    },
    {
     "name": "stderr",
     "output_type": "stream",
     "text": [
      "      10/70         0G     0.6613      2.647      1.138         12        640: 100%|██████████| 32/32 [2:14:42<00:00, 2\n",
      "                 Class     Images  Instances      Box(P          R      mAP50  mAP50-95): 100%|██████████| 5/5 [00:18<0"
     ]
    },
    {
     "name": "stdout",
     "output_type": "stream",
     "text": [
      "                   all        144        144      0.542      0.582      0.653      0.598\n"
     ]
    },
    {
     "name": "stderr",
     "output_type": "stream",
     "text": [
      "\n"
     ]
    },
    {
     "name": "stdout",
     "output_type": "stream",
     "text": [
      "\n",
      "      Epoch    GPU_mem   box_loss   cls_loss   dfl_loss  Instances       Size\n"
     ]
    },
    {
     "name": "stderr",
     "output_type": "stream",
     "text": [
      "      11/70         0G     0.6379      2.475       1.12         13        640: 100%|██████████| 32/32 [03:52<00:00,  7.\n",
      "                 Class     Images  Instances      Box(P          R      mAP50  mAP50-95): 100%|██████████| 5/5 [00:20<0"
     ]
    },
    {
     "name": "stdout",
     "output_type": "stream",
     "text": [
      "                   all        144        144      0.545      0.597      0.669      0.616\n"
     ]
    },
    {
     "name": "stderr",
     "output_type": "stream",
     "text": [
      "\n"
     ]
    },
    {
     "name": "stdout",
     "output_type": "stream",
     "text": [
      "\n",
      "      Epoch    GPU_mem   box_loss   cls_loss   dfl_loss  Instances       Size\n"
     ]
    },
    {
     "name": "stderr",
     "output_type": "stream",
     "text": [
      "      12/70         0G     0.6365      2.391      1.118         19        640: 100%|██████████| 32/32 [04:02<00:00,  7.\n",
      "                 Class     Images  Instances      Box(P          R      mAP50  mAP50-95): 100%|██████████| 5/5 [00:22<0"
     ]
    },
    {
     "name": "stdout",
     "output_type": "stream",
     "text": [
      "                   all        144        144      0.623      0.579       0.67       0.61\n"
     ]
    },
    {
     "name": "stderr",
     "output_type": "stream",
     "text": [
      "\n"
     ]
    },
    {
     "name": "stdout",
     "output_type": "stream",
     "text": [
      "\n",
      "      Epoch    GPU_mem   box_loss   cls_loss   dfl_loss  Instances       Size\n"
     ]
    },
    {
     "name": "stderr",
     "output_type": "stream",
     "text": [
      "      13/70         0G     0.6157      2.254      1.111         17        640: 100%|██████████| 32/32 [03:55<00:00,  7.\n",
      "                 Class     Images  Instances      Box(P          R      mAP50  mAP50-95): 100%|██████████| 5/5 [00:21<0"
     ]
    },
    {
     "name": "stdout",
     "output_type": "stream",
     "text": [
      "                   all        144        144       0.81       0.56      0.742      0.671\n"
     ]
    },
    {
     "name": "stderr",
     "output_type": "stream",
     "text": [
      "\n"
     ]
    },
    {
     "name": "stdout",
     "output_type": "stream",
     "text": [
      "\n",
      "      Epoch    GPU_mem   box_loss   cls_loss   dfl_loss  Instances       Size\n"
     ]
    },
    {
     "name": "stderr",
     "output_type": "stream",
     "text": [
      "      14/70         0G     0.5915      2.155      1.088         15        640: 100%|██████████| 32/32 [03:43<00:00,  6.\n",
      "                 Class     Images  Instances      Box(P          R      mAP50  mAP50-95): 100%|██████████| 5/5 [00:17<0"
     ]
    },
    {
     "name": "stdout",
     "output_type": "stream",
     "text": [
      "                   all        144        144      0.639      0.704      0.772      0.707\n"
     ]
    },
    {
     "name": "stderr",
     "output_type": "stream",
     "text": [
      "\n"
     ]
    },
    {
     "name": "stdout",
     "output_type": "stream",
     "text": [
      "\n",
      "      Epoch    GPU_mem   box_loss   cls_loss   dfl_loss  Instances       Size\n"
     ]
    },
    {
     "name": "stderr",
     "output_type": "stream",
     "text": [
      "      15/70         0G     0.5862      2.093      1.073         22        640: 100%|██████████| 32/32 [03:13<00:00,  6.\n",
      "                 Class     Images  Instances      Box(P          R      mAP50  mAP50-95): 100%|██████████| 5/5 [00:18<0"
     ]
    },
    {
     "name": "stdout",
     "output_type": "stream",
     "text": [
      "                   all        144        144       0.72      0.694      0.758      0.696\n"
     ]
    },
    {
     "name": "stderr",
     "output_type": "stream",
     "text": [
      "\n"
     ]
    },
    {
     "name": "stdout",
     "output_type": "stream",
     "text": [
      "\n",
      "      Epoch    GPU_mem   box_loss   cls_loss   dfl_loss  Instances       Size\n"
     ]
    },
    {
     "name": "stderr",
     "output_type": "stream",
     "text": [
      "      16/70         0G     0.6132      2.091      1.115         17        640: 100%|██████████| 32/32 [03:28<00:00,  6.\n",
      "                 Class     Images  Instances      Box(P          R      mAP50  mAP50-95): 100%|██████████| 5/5 [00:19<0"
     ]
    },
    {
     "name": "stdout",
     "output_type": "stream",
     "text": [
      "                   all        144        144      0.625      0.782      0.803      0.729\n"
     ]
    },
    {
     "name": "stderr",
     "output_type": "stream",
     "text": [
      "\n"
     ]
    },
    {
     "name": "stdout",
     "output_type": "stream",
     "text": [
      "\n",
      "      Epoch    GPU_mem   box_loss   cls_loss   dfl_loss  Instances       Size\n"
     ]
    },
    {
     "name": "stderr",
     "output_type": "stream",
     "text": [
      "      17/70         0G     0.5764      1.929      1.068         23        640: 100%|██████████| 32/32 [03:46<00:00,  7.\n",
      "                 Class     Images  Instances      Box(P          R      mAP50  mAP50-95): 100%|██████████| 5/5 [00:19<0"
     ]
    },
    {
     "name": "stdout",
     "output_type": "stream",
     "text": [
      "                   all        144        144      0.711      0.729      0.799       0.73\n"
     ]
    },
    {
     "name": "stderr",
     "output_type": "stream",
     "text": [
      "\n"
     ]
    },
    {
     "name": "stdout",
     "output_type": "stream",
     "text": [
      "\n",
      "      Epoch    GPU_mem   box_loss   cls_loss   dfl_loss  Instances       Size\n"
     ]
    },
    {
     "name": "stderr",
     "output_type": "stream",
     "text": [
      "      18/70         0G     0.5549      1.833      1.049         19        640: 100%|██████████| 32/32 [04:00<00:00,  7.\n",
      "                 Class     Images  Instances      Box(P          R      mAP50  mAP50-95): 100%|██████████| 5/5 [00:21<0"
     ]
    },
    {
     "name": "stdout",
     "output_type": "stream",
     "text": [
      "                   all        144        144      0.617      0.808      0.835      0.773\n"
     ]
    },
    {
     "name": "stderr",
     "output_type": "stream",
     "text": [
      "\n"
     ]
    },
    {
     "name": "stdout",
     "output_type": "stream",
     "text": [
      "\n",
      "      Epoch    GPU_mem   box_loss   cls_loss   dfl_loss  Instances       Size\n"
     ]
    },
    {
     "name": "stderr",
     "output_type": "stream",
     "text": [
      "      19/70         0G     0.5574       1.77      1.069         15        640: 100%|██████████| 32/32 [03:57<00:00,  7.\n",
      "                 Class     Images  Instances      Box(P          R      mAP50  mAP50-95): 100%|██████████| 5/5 [00:22<0"
     ]
    },
    {
     "name": "stdout",
     "output_type": "stream",
     "text": [
      "                   all        144        144      0.685      0.812      0.847      0.775\n"
     ]
    },
    {
     "name": "stderr",
     "output_type": "stream",
     "text": [
      "\n"
     ]
    },
    {
     "name": "stdout",
     "output_type": "stream",
     "text": [
      "\n",
      "      Epoch    GPU_mem   box_loss   cls_loss   dfl_loss  Instances       Size\n"
     ]
    },
    {
     "name": "stderr",
     "output_type": "stream",
     "text": [
      "      20/70         0G     0.5563      1.745      1.072         18        640: 100%|██████████| 32/32 [03:49<00:00,  7.\n",
      "                 Class     Images  Instances      Box(P          R      mAP50  mAP50-95): 100%|██████████| 5/5 [00:22<0"
     ]
    },
    {
     "name": "stdout",
     "output_type": "stream",
     "text": [
      "                   all        144        144      0.714      0.812      0.853      0.785\n"
     ]
    },
    {
     "name": "stderr",
     "output_type": "stream",
     "text": [
      "\n"
     ]
    },
    {
     "name": "stdout",
     "output_type": "stream",
     "text": [
      "\n",
      "      Epoch    GPU_mem   box_loss   cls_loss   dfl_loss  Instances       Size\n"
     ]
    },
    {
     "name": "stderr",
     "output_type": "stream",
     "text": [
      "      21/70         0G     0.5434      1.653      1.053         18        640: 100%|██████████| 32/32 [03:48<00:00,  7.\n",
      "                 Class     Images  Instances      Box(P          R      mAP50  mAP50-95): 100%|██████████| 5/5 [00:19<0"
     ]
    },
    {
     "name": "stdout",
     "output_type": "stream",
     "text": [
      "                   all        144        144      0.817      0.738       0.86      0.802\n"
     ]
    },
    {
     "name": "stderr",
     "output_type": "stream",
     "text": [
      "\n"
     ]
    },
    {
     "name": "stdout",
     "output_type": "stream",
     "text": [
      "\n",
      "      Epoch    GPU_mem   box_loss   cls_loss   dfl_loss  Instances       Size\n"
     ]
    },
    {
     "name": "stderr",
     "output_type": "stream",
     "text": [
      "      22/70         0G     0.5574        1.7      1.059         16        640: 100%|██████████| 32/32 [03:45<00:00,  7.\n",
      "                 Class     Images  Instances      Box(P          R      mAP50  mAP50-95): 100%|██████████| 5/5 [00:19<0"
     ]
    },
    {
     "name": "stdout",
     "output_type": "stream",
     "text": [
      "                   all        144        144      0.809      0.822      0.899      0.827\n"
     ]
    },
    {
     "name": "stderr",
     "output_type": "stream",
     "text": [
      "\n"
     ]
    },
    {
     "name": "stdout",
     "output_type": "stream",
     "text": [
      "\n",
      "      Epoch    GPU_mem   box_loss   cls_loss   dfl_loss  Instances       Size\n"
     ]
    },
    {
     "name": "stderr",
     "output_type": "stream",
     "text": [
      "      23/70         0G     0.5526      1.612      1.072         13        640: 100%|██████████| 32/32 [04:14<00:00,  7.\n",
      "                 Class     Images  Instances      Box(P          R      mAP50  mAP50-95): 100%|██████████| 5/5 [00:28<0"
     ]
    },
    {
     "name": "stdout",
     "output_type": "stream",
     "text": [
      "                   all        144        144      0.817        0.8      0.893      0.829\n"
     ]
    },
    {
     "name": "stderr",
     "output_type": "stream",
     "text": [
      "\n"
     ]
    },
    {
     "name": "stdout",
     "output_type": "stream",
     "text": [
      "\n",
      "      Epoch    GPU_mem   box_loss   cls_loss   dfl_loss  Instances       Size\n"
     ]
    },
    {
     "name": "stderr",
     "output_type": "stream",
     "text": [
      "      24/70         0G     0.5504      1.598      1.058         16        640: 100%|██████████| 32/32 [04:34<00:00,  8.\n",
      "                 Class     Images  Instances      Box(P          R      mAP50  mAP50-95): 100%|██████████| 5/5 [00:27<0"
     ]
    },
    {
     "name": "stdout",
     "output_type": "stream",
     "text": [
      "                   all        144        144      0.804      0.834      0.892      0.831\n"
     ]
    },
    {
     "name": "stderr",
     "output_type": "stream",
     "text": [
      "\n"
     ]
    },
    {
     "name": "stdout",
     "output_type": "stream",
     "text": [
      "\n",
      "      Epoch    GPU_mem   box_loss   cls_loss   dfl_loss  Instances       Size\n"
     ]
    },
    {
     "name": "stderr",
     "output_type": "stream",
     "text": [
      "      25/70         0G     0.5327      1.514      1.043         19        640: 100%|██████████| 32/32 [04:29<00:00,  8.\n",
      "                 Class     Images  Instances      Box(P          R      mAP50  mAP50-95): 100%|██████████| 5/5 [00:26<0"
     ]
    },
    {
     "name": "stdout",
     "output_type": "stream",
     "text": [
      "                   all        144        144      0.791      0.797      0.882      0.828\n"
     ]
    },
    {
     "name": "stderr",
     "output_type": "stream",
     "text": [
      "\n"
     ]
    },
    {
     "name": "stdout",
     "output_type": "stream",
     "text": [
      "\n",
      "      Epoch    GPU_mem   box_loss   cls_loss   dfl_loss  Instances       Size\n"
     ]
    },
    {
     "name": "stderr",
     "output_type": "stream",
     "text": [
      "      26/70         0G     0.5064       1.46      1.019         14        640: 100%|██████████| 32/32 [04:50<00:00,  9.\n",
      "                 Class     Images  Instances      Box(P          R      mAP50  mAP50-95): 100%|██████████| 5/5 [00:30<0"
     ]
    },
    {
     "name": "stdout",
     "output_type": "stream",
     "text": [
      "                   all        144        144      0.769      0.834      0.895       0.83\n"
     ]
    },
    {
     "name": "stderr",
     "output_type": "stream",
     "text": [
      "\n"
     ]
    },
    {
     "name": "stdout",
     "output_type": "stream",
     "text": [
      "\n",
      "      Epoch    GPU_mem   box_loss   cls_loss   dfl_loss  Instances       Size\n"
     ]
    },
    {
     "name": "stderr",
     "output_type": "stream",
     "text": [
      "      27/70         0G     0.5235      1.435      1.023         15        640: 100%|██████████| 32/32 [05:05<00:00,  9.\n",
      "                 Class     Images  Instances      Box(P          R      mAP50  mAP50-95): 100%|██████████| 5/5 [00:29<0"
     ]
    },
    {
     "name": "stdout",
     "output_type": "stream",
     "text": [
      "                   all        144        144      0.785      0.876      0.905       0.84\n"
     ]
    },
    {
     "name": "stderr",
     "output_type": "stream",
     "text": [
      "\n"
     ]
    },
    {
     "name": "stdout",
     "output_type": "stream",
     "text": [
      "\n",
      "      Epoch    GPU_mem   box_loss   cls_loss   dfl_loss  Instances       Size\n"
     ]
    },
    {
     "name": "stderr",
     "output_type": "stream",
     "text": [
      "      28/70         0G     0.5079      1.422      1.018         16        640: 100%|██████████| 32/32 [04:39<00:00,  8.\n",
      "                 Class     Images  Instances      Box(P          R      mAP50  mAP50-95): 100%|██████████| 5/5 [00:27<0"
     ]
    },
    {
     "name": "stdout",
     "output_type": "stream",
     "text": [
      "                   all        144        144      0.826      0.834      0.909      0.854\n"
     ]
    },
    {
     "name": "stderr",
     "output_type": "stream",
     "text": [
      "\n"
     ]
    },
    {
     "name": "stdout",
     "output_type": "stream",
     "text": [
      "\n",
      "      Epoch    GPU_mem   box_loss   cls_loss   dfl_loss  Instances       Size\n"
     ]
    },
    {
     "name": "stderr",
     "output_type": "stream",
     "text": [
      "      29/70         0G     0.4902      1.377      1.015         19        640: 100%|██████████| 32/32 [04:38<00:00,  8.\n",
      "                 Class     Images  Instances      Box(P          R      mAP50  mAP50-95): 100%|██████████| 5/5 [00:28<0"
     ]
    },
    {
     "name": "stdout",
     "output_type": "stream",
     "text": [
      "                   all        144        144      0.886      0.794      0.923       0.86\n"
     ]
    },
    {
     "name": "stderr",
     "output_type": "stream",
     "text": [
      "\n"
     ]
    },
    {
     "name": "stdout",
     "output_type": "stream",
     "text": [
      "\n",
      "      Epoch    GPU_mem   box_loss   cls_loss   dfl_loss  Instances       Size\n"
     ]
    },
    {
     "name": "stderr",
     "output_type": "stream",
     "text": [
      "      30/70         0G     0.5045      1.384       1.01         15        640: 100%|██████████| 32/32 [04:45<00:00,  8.\n",
      "                 Class     Images  Instances      Box(P          R      mAP50  mAP50-95): 100%|██████████| 5/5 [00:28<0"
     ]
    },
    {
     "name": "stdout",
     "output_type": "stream",
     "text": [
      "                   all        144        144      0.856      0.827      0.925       0.86\n"
     ]
    },
    {
     "name": "stderr",
     "output_type": "stream",
     "text": [
      "\n"
     ]
    },
    {
     "name": "stdout",
     "output_type": "stream",
     "text": [
      "\n",
      "      Epoch    GPU_mem   box_loss   cls_loss   dfl_loss  Instances       Size\n"
     ]
    },
    {
     "name": "stderr",
     "output_type": "stream",
     "text": [
      "      31/70         0G     0.4892      1.309      1.013         24        640: 100%|██████████| 32/32 [04:44<00:00,  8.\n",
      "                 Class     Images  Instances      Box(P          R      mAP50  mAP50-95): 100%|██████████| 5/5 [00:28<0"
     ]
    },
    {
     "name": "stdout",
     "output_type": "stream",
     "text": [
      "                   all        144        144      0.798      0.882      0.925      0.852\n"
     ]
    },
    {
     "name": "stderr",
     "output_type": "stream",
     "text": [
      "\n"
     ]
    },
    {
     "name": "stdout",
     "output_type": "stream",
     "text": [
      "\n",
      "      Epoch    GPU_mem   box_loss   cls_loss   dfl_loss  Instances       Size\n"
     ]
    },
    {
     "name": "stderr",
     "output_type": "stream",
     "text": [
      "      32/70         0G     0.5157      1.365      1.029         17        640: 100%|██████████| 32/32 [04:44<00:00,  8.\n",
      "                 Class     Images  Instances      Box(P          R      mAP50  mAP50-95): 100%|██████████| 5/5 [00:28<0"
     ]
    },
    {
     "name": "stdout",
     "output_type": "stream",
     "text": [
      "                   all        144        144      0.831      0.851      0.926      0.847\n"
     ]
    },
    {
     "name": "stderr",
     "output_type": "stream",
     "text": [
      "\n"
     ]
    },
    {
     "name": "stdout",
     "output_type": "stream",
     "text": [
      "\n",
      "      Epoch    GPU_mem   box_loss   cls_loss   dfl_loss  Instances       Size\n"
     ]
    },
    {
     "name": "stderr",
     "output_type": "stream",
     "text": [
      "      33/70         0G     0.4997      1.284      1.011         17        640: 100%|██████████| 32/32 [04:27<00:00,  8.\n",
      "                 Class     Images  Instances      Box(P          R      mAP50  mAP50-95): 100%|██████████| 5/5 [00:20<0"
     ]
    },
    {
     "name": "stdout",
     "output_type": "stream",
     "text": [
      "                   all        144        144       0.83      0.868      0.919      0.851\n"
     ]
    },
    {
     "name": "stderr",
     "output_type": "stream",
     "text": [
      "\n"
     ]
    },
    {
     "name": "stdout",
     "output_type": "stream",
     "text": [
      "\n",
      "      Epoch    GPU_mem   box_loss   cls_loss   dfl_loss  Instances       Size\n"
     ]
    },
    {
     "name": "stderr",
     "output_type": "stream",
     "text": [
      "      34/70         0G     0.4758      1.223      1.003         20        640: 100%|██████████| 32/32 [03:29<00:00,  6.\n",
      "                 Class     Images  Instances      Box(P          R      mAP50  mAP50-95): 100%|██████████| 5/5 [00:28<0"
     ]
    },
    {
     "name": "stdout",
     "output_type": "stream",
     "text": [
      "                   all        144        144      0.822      0.845      0.927      0.865\n"
     ]
    },
    {
     "name": "stderr",
     "output_type": "stream",
     "text": [
      "\n"
     ]
    },
    {
     "name": "stdout",
     "output_type": "stream",
     "text": [
      "\n",
      "      Epoch    GPU_mem   box_loss   cls_loss   dfl_loss  Instances       Size\n"
     ]
    },
    {
     "name": "stderr",
     "output_type": "stream",
     "text": [
      "      35/70         0G     0.4997      1.264      1.012         19        640: 100%|██████████| 32/32 [04:46<00:00,  8.\n",
      "                 Class     Images  Instances      Box(P          R      mAP50  mAP50-95): 100%|██████████| 5/5 [07:15<0"
     ]
    },
    {
     "name": "stdout",
     "output_type": "stream",
     "text": [
      "                   all        144        144      0.859      0.863      0.919      0.863\n"
     ]
    },
    {
     "name": "stderr",
     "output_type": "stream",
     "text": [
      "\n"
     ]
    },
    {
     "name": "stdout",
     "output_type": "stream",
     "text": [
      "\n",
      "      Epoch    GPU_mem   box_loss   cls_loss   dfl_loss  Instances       Size\n"
     ]
    },
    {
     "name": "stderr",
     "output_type": "stream",
     "text": [
      "      36/70         0G     0.4617      1.183      1.004         17        640: 100%|██████████| 32/32 [03:06<00:00,  5.\n",
      "                 Class     Images  Instances      Box(P          R      mAP50  mAP50-95): 100%|██████████| 5/5 [00:17<0"
     ]
    },
    {
     "name": "stdout",
     "output_type": "stream",
     "text": [
      "                   all        144        144      0.827      0.906      0.935       0.87\n"
     ]
    },
    {
     "name": "stderr",
     "output_type": "stream",
     "text": [
      "\n"
     ]
    },
    {
     "name": "stdout",
     "output_type": "stream",
     "text": [
      "\n",
      "      Epoch    GPU_mem   box_loss   cls_loss   dfl_loss  Instances       Size\n"
     ]
    },
    {
     "name": "stderr",
     "output_type": "stream",
     "text": [
      "      37/70         0G     0.4827      1.177      1.001         21        640: 100%|██████████| 32/32 [03:17<00:00,  6.\n",
      "                 Class     Images  Instances      Box(P          R      mAP50  mAP50-95): 100%|██████████| 5/5 [00:15<0"
     ]
    },
    {
     "name": "stdout",
     "output_type": "stream",
     "text": [
      "                   all        144        144      0.891      0.863      0.938      0.868\n"
     ]
    },
    {
     "name": "stderr",
     "output_type": "stream",
     "text": [
      "\n"
     ]
    },
    {
     "name": "stdout",
     "output_type": "stream",
     "text": [
      "\n",
      "      Epoch    GPU_mem   box_loss   cls_loss   dfl_loss  Instances       Size\n"
     ]
    },
    {
     "name": "stderr",
     "output_type": "stream",
     "text": [
      "      38/70         0G     0.5023      1.242      1.014         22        640: 100%|██████████| 32/32 [02:55<00:00,  5.\n",
      "                 Class     Images  Instances      Box(P          R      mAP50  mAP50-95): 100%|██████████| 5/5 [00:15<0"
     ]
    },
    {
     "name": "stdout",
     "output_type": "stream",
     "text": [
      "                   all        144        144      0.861      0.869      0.935      0.878\n"
     ]
    },
    {
     "name": "stderr",
     "output_type": "stream",
     "text": [
      "\n"
     ]
    },
    {
     "name": "stdout",
     "output_type": "stream",
     "text": [
      "\n",
      "      Epoch    GPU_mem   box_loss   cls_loss   dfl_loss  Instances       Size\n"
     ]
    },
    {
     "name": "stderr",
     "output_type": "stream",
     "text": [
      "      39/70         0G     0.4603      1.126     0.9885         17        640: 100%|██████████| 32/32 [02:48<00:00,  5.\n",
      "                 Class     Images  Instances      Box(P          R      mAP50  mAP50-95): 100%|██████████| 5/5 [00:15<0"
     ]
    },
    {
     "name": "stdout",
     "output_type": "stream",
     "text": [
      "                   all        144        144      0.889      0.857      0.934      0.879\n"
     ]
    },
    {
     "name": "stderr",
     "output_type": "stream",
     "text": [
      "\n"
     ]
    },
    {
     "name": "stdout",
     "output_type": "stream",
     "text": [
      "\n",
      "      Epoch    GPU_mem   box_loss   cls_loss   dfl_loss  Instances       Size\n"
     ]
    },
    {
     "name": "stderr",
     "output_type": "stream",
     "text": [
      "      40/70         0G     0.4557      1.112     0.9948         15        640: 100%|██████████| 32/32 [02:54<00:00,  5.\n",
      "                 Class     Images  Instances      Box(P          R      mAP50  mAP50-95): 100%|██████████| 5/5 [00:16<0"
     ]
    },
    {
     "name": "stdout",
     "output_type": "stream",
     "text": [
      "                   all        144        144      0.911      0.823      0.933      0.876\n"
     ]
    },
    {
     "name": "stderr",
     "output_type": "stream",
     "text": [
      "\n"
     ]
    },
    {
     "name": "stdout",
     "output_type": "stream",
     "text": [
      "\n",
      "      Epoch    GPU_mem   box_loss   cls_loss   dfl_loss  Instances       Size\n"
     ]
    },
    {
     "name": "stderr",
     "output_type": "stream",
     "text": [
      "      41/70         0G     0.4633      1.152      1.003         16        640: 100%|██████████| 32/32 [02:54<00:00,  5.\n",
      "                 Class     Images  Instances      Box(P          R      mAP50  mAP50-95): 100%|██████████| 5/5 [00:16<0"
     ]
    },
    {
     "name": "stdout",
     "output_type": "stream",
     "text": [
      "                   all        144        144      0.931      0.845      0.938      0.877\n"
     ]
    },
    {
     "name": "stderr",
     "output_type": "stream",
     "text": [
      "\n"
     ]
    },
    {
     "name": "stdout",
     "output_type": "stream",
     "text": [
      "\n",
      "      Epoch    GPU_mem   box_loss   cls_loss   dfl_loss  Instances       Size\n"
     ]
    },
    {
     "name": "stderr",
     "output_type": "stream",
     "text": [
      "      42/70         0G     0.4482      1.113      0.986         11        640: 100%|██████████| 32/32 [04:13<00:00,  7.\n",
      "                 Class     Images  Instances      Box(P          R      mAP50  mAP50-95): 100%|██████████| 5/5 [00:27<0"
     ]
    },
    {
     "name": "stdout",
     "output_type": "stream",
     "text": [
      "                   all        144        144      0.877      0.802      0.926      0.864\n"
     ]
    },
    {
     "name": "stderr",
     "output_type": "stream",
     "text": [
      "\n"
     ]
    },
    {
     "name": "stdout",
     "output_type": "stream",
     "text": [
      "\n",
      "      Epoch    GPU_mem   box_loss   cls_loss   dfl_loss  Instances       Size\n"
     ]
    },
    {
     "name": "stderr",
     "output_type": "stream",
     "text": [
      "      43/70         0G     0.4758      1.108      1.013         18        640: 100%|██████████| 32/32 [04:38<00:00,  8.\n",
      "                 Class     Images  Instances      Box(P          R      mAP50  mAP50-95): 100%|██████████| 5/5 [00:28<0"
     ]
    },
    {
     "name": "stdout",
     "output_type": "stream",
     "text": [
      "                   all        144        144      0.859      0.879      0.935       0.88\n"
     ]
    },
    {
     "name": "stderr",
     "output_type": "stream",
     "text": [
      "\n"
     ]
    },
    {
     "name": "stdout",
     "output_type": "stream",
     "text": [
      "\n",
      "      Epoch    GPU_mem   box_loss   cls_loss   dfl_loss  Instances       Size\n"
     ]
    },
    {
     "name": "stderr",
     "output_type": "stream",
     "text": [
      "      44/70         0G      0.459      1.094     0.9965         19        640: 100%|██████████| 32/32 [04:42<00:00,  8.\n",
      "                 Class     Images  Instances      Box(P          R      mAP50  mAP50-95): 100%|██████████| 5/5 [00:27<0"
     ]
    },
    {
     "name": "stdout",
     "output_type": "stream",
     "text": [
      "                   all        144        144      0.844      0.881      0.933      0.877\n"
     ]
    },
    {
     "name": "stderr",
     "output_type": "stream",
     "text": [
      "\n"
     ]
    },
    {
     "name": "stdout",
     "output_type": "stream",
     "text": [
      "\n",
      "      Epoch    GPU_mem   box_loss   cls_loss   dfl_loss  Instances       Size\n"
     ]
    },
    {
     "name": "stderr",
     "output_type": "stream",
     "text": [
      "      45/70         0G     0.4544      1.083     0.9968         19        640: 100%|██████████| 32/32 [03:58<00:00,  7.\n",
      "                 Class     Images  Instances      Box(P          R      mAP50  mAP50-95): 100%|██████████| 5/5 [00:13<0"
     ]
    },
    {
     "name": "stdout",
     "output_type": "stream",
     "text": [
      "                   all        144        144      0.877      0.822      0.933      0.875\n"
     ]
    },
    {
     "name": "stderr",
     "output_type": "stream",
     "text": [
      "\n"
     ]
    },
    {
     "name": "stdout",
     "output_type": "stream",
     "text": [
      "\n",
      "      Epoch    GPU_mem   box_loss   cls_loss   dfl_loss  Instances       Size\n"
     ]
    },
    {
     "name": "stderr",
     "output_type": "stream",
     "text": [
      "      46/70         0G     0.4372      1.064     0.9851         19        640: 100%|██████████| 32/32 [02:51<00:00,  5.\n",
      "                 Class     Images  Instances      Box(P          R      mAP50  mAP50-95): 100%|██████████| 5/5 [00:15<0"
     ]
    },
    {
     "name": "stdout",
     "output_type": "stream",
     "text": [
      "                   all        144        144      0.906      0.887      0.944      0.878\n"
     ]
    },
    {
     "name": "stderr",
     "output_type": "stream",
     "text": [
      "\n"
     ]
    },
    {
     "name": "stdout",
     "output_type": "stream",
     "text": [
      "\n",
      "      Epoch    GPU_mem   box_loss   cls_loss   dfl_loss  Instances       Size\n"
     ]
    },
    {
     "name": "stderr",
     "output_type": "stream",
     "text": [
      "      47/70         0G     0.4536      1.062     0.9891         16        640: 100%|██████████| 32/32 [03:45<00:00,  7.\n",
      "                 Class     Images  Instances      Box(P          R      mAP50  mAP50-95): 100%|██████████| 5/5 [00:19<0"
     ]
    },
    {
     "name": "stdout",
     "output_type": "stream",
     "text": [
      "                   all        144        144       0.92       0.84      0.945      0.883\n"
     ]
    },
    {
     "name": "stderr",
     "output_type": "stream",
     "text": [
      "\n"
     ]
    },
    {
     "name": "stdout",
     "output_type": "stream",
     "text": [
      "\n",
      "      Epoch    GPU_mem   box_loss   cls_loss   dfl_loss  Instances       Size\n"
     ]
    },
    {
     "name": "stderr",
     "output_type": "stream",
     "text": [
      "      48/70         0G     0.4289     0.9887     0.9933         17        640: 100%|██████████| 32/32 [04:08<00:00,  7.\n",
      "                 Class     Images  Instances      Box(P          R      mAP50  mAP50-95): 100%|██████████| 5/5 [00:22<0"
     ]
    },
    {
     "name": "stdout",
     "output_type": "stream",
     "text": [
      "                   all        144        144      0.922      0.867       0.95      0.888\n"
     ]
    },
    {
     "name": "stderr",
     "output_type": "stream",
     "text": [
      "\n"
     ]
    },
    {
     "name": "stdout",
     "output_type": "stream",
     "text": [
      "\n",
      "      Epoch    GPU_mem   box_loss   cls_loss   dfl_loss  Instances       Size\n"
     ]
    },
    {
     "name": "stderr",
     "output_type": "stream",
     "text": [
      "      49/70         0G     0.4427      1.027     0.9971         14        640: 100%|██████████| 32/32 [03:24<00:00,  6.\n",
      "                 Class     Images  Instances      Box(P          R      mAP50  mAP50-95): 100%|██████████| 5/5 [00:15<0"
     ]
    },
    {
     "name": "stdout",
     "output_type": "stream",
     "text": [
      "                   all        144        144      0.879       0.87      0.939      0.882\n"
     ]
    },
    {
     "name": "stderr",
     "output_type": "stream",
     "text": [
      "\n"
     ]
    },
    {
     "name": "stdout",
     "output_type": "stream",
     "text": [
      "\n",
      "      Epoch    GPU_mem   box_loss   cls_loss   dfl_loss  Instances       Size\n"
     ]
    },
    {
     "name": "stderr",
     "output_type": "stream",
     "text": [
      "      50/70         0G     0.4411      1.004     0.9842         22        640: 100%|██████████| 32/32 [02:52<00:00,  5.\n",
      "                 Class     Images  Instances      Box(P          R      mAP50  mAP50-95): 100%|██████████| 5/5 [00:14<0"
     ]
    },
    {
     "name": "stdout",
     "output_type": "stream",
     "text": [
      "                   all        144        144      0.863      0.879      0.939      0.871\n"
     ]
    },
    {
     "name": "stderr",
     "output_type": "stream",
     "text": [
      "\n"
     ]
    },
    {
     "name": "stdout",
     "output_type": "stream",
     "text": [
      "\n",
      "      Epoch    GPU_mem   box_loss   cls_loss   dfl_loss  Instances       Size\n"
     ]
    },
    {
     "name": "stderr",
     "output_type": "stream",
     "text": [
      "      51/70         0G     0.4234     0.9865     0.9649         21        640: 100%|██████████| 32/32 [03:03<00:00,  5.\n",
      "                 Class     Images  Instances      Box(P          R      mAP50  mAP50-95): 100%|██████████| 5/5 [00:15<0"
     ]
    },
    {
     "name": "stdout",
     "output_type": "stream",
     "text": [
      "                   all        144        144      0.897      0.877       0.95      0.877\n"
     ]
    },
    {
     "name": "stderr",
     "output_type": "stream",
     "text": [
      "\n"
     ]
    },
    {
     "name": "stdout",
     "output_type": "stream",
     "text": [
      "\n",
      "      Epoch    GPU_mem   box_loss   cls_loss   dfl_loss  Instances       Size\n"
     ]
    },
    {
     "name": "stderr",
     "output_type": "stream",
     "text": [
      "      52/70         0G     0.4071     0.9508     0.9686         20        640: 100%|██████████| 32/32 [03:21<00:00,  6.\n",
      "                 Class     Images  Instances      Box(P          R      mAP50  mAP50-95): 100%|██████████| 5/5 [00:16<0"
     ]
    },
    {
     "name": "stdout",
     "output_type": "stream",
     "text": [
      "                   all        144        144      0.859      0.915      0.947      0.877\n"
     ]
    },
    {
     "name": "stderr",
     "output_type": "stream",
     "text": [
      "\n"
     ]
    },
    {
     "name": "stdout",
     "output_type": "stream",
     "text": [
      "\n",
      "      Epoch    GPU_mem   box_loss   cls_loss   dfl_loss  Instances       Size\n"
     ]
    },
    {
     "name": "stderr",
     "output_type": "stream",
     "text": [
      "      53/70         0G     0.4127      0.947     0.9661         15        640: 100%|██████████| 32/32 [02:53<00:00,  5.\n",
      "                 Class     Images  Instances      Box(P          R      mAP50  mAP50-95): 100%|██████████| 5/5 [00:15<0"
     ]
    },
    {
     "name": "stdout",
     "output_type": "stream",
     "text": [
      "                   all        144        144      0.912      0.893      0.954      0.892\n"
     ]
    },
    {
     "name": "stderr",
     "output_type": "stream",
     "text": [
      "\n"
     ]
    },
    {
     "name": "stdout",
     "output_type": "stream",
     "text": [
      "\n",
      "      Epoch    GPU_mem   box_loss   cls_loss   dfl_loss  Instances       Size\n"
     ]
    },
    {
     "name": "stderr",
     "output_type": "stream",
     "text": [
      "      54/70         0G     0.4268     0.9435     0.9846         17        640: 100%|██████████| 32/32 [02:57<00:00,  5.\n",
      "                 Class     Images  Instances      Box(P          R      mAP50  mAP50-95): 100%|██████████| 5/5 [00:15<0"
     ]
    },
    {
     "name": "stdout",
     "output_type": "stream",
     "text": [
      "                   all        144        144      0.908      0.859      0.949      0.893\n"
     ]
    },
    {
     "name": "stderr",
     "output_type": "stream",
     "text": [
      "\n"
     ]
    },
    {
     "name": "stdout",
     "output_type": "stream",
     "text": [
      "\n",
      "      Epoch    GPU_mem   box_loss   cls_loss   dfl_loss  Instances       Size\n"
     ]
    },
    {
     "name": "stderr",
     "output_type": "stream",
     "text": [
      "      55/70         0G     0.4179     0.9396     0.9656         21        640: 100%|██████████| 32/32 [02:52<00:00,  5.\n",
      "                 Class     Images  Instances      Box(P          R      mAP50  mAP50-95): 100%|██████████| 5/5 [00:15<0"
     ]
    },
    {
     "name": "stdout",
     "output_type": "stream",
     "text": [
      "                   all        144        144      0.877      0.884      0.955      0.889\n"
     ]
    },
    {
     "name": "stderr",
     "output_type": "stream",
     "text": [
      "\n"
     ]
    },
    {
     "name": "stdout",
     "output_type": "stream",
     "text": [
      "\n",
      "      Epoch    GPU_mem   box_loss   cls_loss   dfl_loss  Instances       Size\n"
     ]
    },
    {
     "name": "stderr",
     "output_type": "stream",
     "text": [
      "      56/70         0G      0.421      0.957     0.9671         22        640: 100%|██████████| 32/32 [03:25<00:00,  6.\n",
      "                 Class     Images  Instances      Box(P          R      mAP50  mAP50-95): 100%|██████████| 5/5 [00:16<0"
     ]
    },
    {
     "name": "stdout",
     "output_type": "stream",
     "text": [
      "                   all        144        144      0.912      0.873      0.949      0.884\n"
     ]
    },
    {
     "name": "stderr",
     "output_type": "stream",
     "text": [
      "\n"
     ]
    },
    {
     "name": "stdout",
     "output_type": "stream",
     "text": [
      "\n",
      "      Epoch    GPU_mem   box_loss   cls_loss   dfl_loss  Instances       Size\n"
     ]
    },
    {
     "name": "stderr",
     "output_type": "stream",
     "text": [
      "      57/70         0G     0.4029     0.9109     0.9651         17        640: 100%|██████████| 32/32 [02:52<00:00,  5.\n",
      "                 Class     Images  Instances      Box(P          R      mAP50  mAP50-95): 100%|██████████| 5/5 [00:14<0"
     ]
    },
    {
     "name": "stdout",
     "output_type": "stream",
     "text": [
      "                   all        144        144      0.936      0.852      0.949      0.884\n"
     ]
    },
    {
     "name": "stderr",
     "output_type": "stream",
     "text": [
      "\n"
     ]
    },
    {
     "name": "stdout",
     "output_type": "stream",
     "text": [
      "\n",
      "      Epoch    GPU_mem   box_loss   cls_loss   dfl_loss  Instances       Size\n"
     ]
    },
    {
     "name": "stderr",
     "output_type": "stream",
     "text": [
      "      58/70         0G     0.4153     0.9667     0.9774         15        640: 100%|██████████| 32/32 [02:56<00:00,  5.\n",
      "                 Class     Images  Instances      Box(P          R      mAP50  mAP50-95): 100%|██████████| 5/5 [00:14<0"
     ]
    },
    {
     "name": "stdout",
     "output_type": "stream",
     "text": [
      "                   all        144        144      0.928      0.896      0.952      0.887\n"
     ]
    },
    {
     "name": "stderr",
     "output_type": "stream",
     "text": [
      "\n"
     ]
    },
    {
     "name": "stdout",
     "output_type": "stream",
     "text": [
      "\n",
      "      Epoch    GPU_mem   box_loss   cls_loss   dfl_loss  Instances       Size\n"
     ]
    },
    {
     "name": "stderr",
     "output_type": "stream",
     "text": [
      "      59/70         0G     0.4027       0.93      0.966         23        640: 100%|██████████| 32/32 [02:55<00:00,  5.\n",
      "                 Class     Images  Instances      Box(P          R      mAP50  mAP50-95): 100%|██████████| 5/5 [00:15<0"
     ]
    },
    {
     "name": "stdout",
     "output_type": "stream",
     "text": [
      "                   all        144        144      0.905      0.888      0.954      0.892\n"
     ]
    },
    {
     "name": "stderr",
     "output_type": "stream",
     "text": [
      "\n"
     ]
    },
    {
     "name": "stdout",
     "output_type": "stream",
     "text": [
      "\n",
      "      Epoch    GPU_mem   box_loss   cls_loss   dfl_loss  Instances       Size\n"
     ]
    },
    {
     "name": "stderr",
     "output_type": "stream",
     "text": [
      "      60/70         0G     0.3807     0.8841     0.9503         17        640: 100%|██████████| 32/32 [03:04<00:00,  5.\n",
      "                 Class     Images  Instances      Box(P          R      mAP50  mAP50-95): 100%|██████████| 5/5 [00:15<0"
     ]
    },
    {
     "name": "stdout",
     "output_type": "stream",
     "text": [
      "                   all        144        144      0.901      0.897      0.952      0.892\n"
     ]
    },
    {
     "name": "stderr",
     "output_type": "stream",
     "text": [
      "\n"
     ]
    },
    {
     "name": "stdout",
     "output_type": "stream",
     "text": [
      "Closing dataloader mosaic\n",
      "\n",
      "      Epoch    GPU_mem   box_loss   cls_loss   dfl_loss  Instances       Size\n"
     ]
    },
    {
     "name": "stderr",
     "output_type": "stream",
     "text": [
      "      61/70         0G     0.2676     0.9634     0.8666          8        640: 100%|██████████| 32/32 [03:13<00:00,  6.\n",
      "                 Class     Images  Instances      Box(P          R      mAP50  mAP50-95): 100%|██████████| 5/5 [00:20<0"
     ]
    },
    {
     "name": "stdout",
     "output_type": "stream",
     "text": [
      "                   all        144        144      0.908      0.819      0.939      0.879\n"
     ]
    },
    {
     "name": "stderr",
     "output_type": "stream",
     "text": [
      "\n"
     ]
    },
    {
     "name": "stdout",
     "output_type": "stream",
     "text": [
      "\n",
      "      Epoch    GPU_mem   box_loss   cls_loss   dfl_loss  Instances       Size\n"
     ]
    },
    {
     "name": "stderr",
     "output_type": "stream",
     "text": [
      "      62/70         0G     0.2654     0.9711     0.8643          8        640: 100%|██████████| 32/32 [03:30<00:00,  6.\n",
      "                 Class     Images  Instances      Box(P          R      mAP50  mAP50-95): 100%|██████████| 5/5 [00:19<0"
     ]
    },
    {
     "name": "stdout",
     "output_type": "stream",
     "text": [
      "                   all        144        144      0.867      0.889       0.94      0.879\n"
     ]
    },
    {
     "name": "stderr",
     "output_type": "stream",
     "text": [
      "\n"
     ]
    },
    {
     "name": "stdout",
     "output_type": "stream",
     "text": [
      "\n",
      "      Epoch    GPU_mem   box_loss   cls_loss   dfl_loss  Instances       Size\n"
     ]
    },
    {
     "name": "stderr",
     "output_type": "stream",
     "text": [
      "      63/70         0G     0.2632     0.8768     0.8561          8        640: 100%|██████████| 32/32 [03:39<00:00,  6.\n",
      "                 Class     Images  Instances      Box(P          R      mAP50  mAP50-95): 100%|██████████| 5/5 [00:19<0"
     ]
    },
    {
     "name": "stdout",
     "output_type": "stream",
     "text": [
      "                   all        144        144      0.925      0.828       0.94      0.882\n"
     ]
    },
    {
     "name": "stderr",
     "output_type": "stream",
     "text": [
      "\n"
     ]
    },
    {
     "name": "stdout",
     "output_type": "stream",
     "text": [
      "\n",
      "      Epoch    GPU_mem   box_loss   cls_loss   dfl_loss  Instances       Size\n"
     ]
    },
    {
     "name": "stderr",
     "output_type": "stream",
     "text": [
      "      64/70         0G     0.2499     0.8779     0.8537          8        640: 100%|██████████| 32/32 [03:25<00:00,  6.\n",
      "                 Class     Images  Instances      Box(P          R      mAP50  mAP50-95): 100%|██████████| 5/5 [00:20<0"
     ]
    },
    {
     "name": "stdout",
     "output_type": "stream",
     "text": [
      "                   all        144        144      0.902       0.85      0.938      0.876\n"
     ]
    },
    {
     "name": "stderr",
     "output_type": "stream",
     "text": [
      "\n"
     ]
    },
    {
     "name": "stdout",
     "output_type": "stream",
     "text": [
      "\n",
      "      Epoch    GPU_mem   box_loss   cls_loss   dfl_loss  Instances       Size\n"
     ]
    },
    {
     "name": "stderr",
     "output_type": "stream",
     "text": [
      "      65/70         0G     0.2456     0.8576     0.8477          8        640: 100%|██████████| 32/32 [03:45<00:00,  7.\n",
      "                 Class     Images  Instances      Box(P          R      mAP50  mAP50-95): 100%|██████████| 5/5 [00:15<0"
     ]
    },
    {
     "name": "stdout",
     "output_type": "stream",
     "text": [
      "                   all        144        144      0.893      0.879      0.948      0.887\n"
     ]
    },
    {
     "name": "stderr",
     "output_type": "stream",
     "text": [
      "\n"
     ]
    },
    {
     "name": "stdout",
     "output_type": "stream",
     "text": [
      "\n",
      "      Epoch    GPU_mem   box_loss   cls_loss   dfl_loss  Instances       Size\n"
     ]
    },
    {
     "name": "stderr",
     "output_type": "stream",
     "text": [
      "      66/70         0G     0.2471     0.8407     0.8496          8        640: 100%|██████████| 32/32 [02:56<00:00,  5.\n",
      "                 Class     Images  Instances      Box(P          R      mAP50  mAP50-95): 100%|██████████| 5/5 [00:15<0"
     ]
    },
    {
     "name": "stdout",
     "output_type": "stream",
     "text": [
      "                   all        144        144       0.89      0.878      0.946      0.888\n"
     ]
    },
    {
     "name": "stderr",
     "output_type": "stream",
     "text": [
      "\n"
     ]
    },
    {
     "name": "stdout",
     "output_type": "stream",
     "text": [
      "\n",
      "      Epoch    GPU_mem   box_loss   cls_loss   dfl_loss  Instances       Size\n"
     ]
    },
    {
     "name": "stderr",
     "output_type": "stream",
     "text": [
      "      67/70         0G     0.2309     0.8242      0.841          8        640: 100%|██████████| 32/32 [02:56<00:00,  5.\n",
      "                 Class     Images  Instances      Box(P          R      mAP50  mAP50-95): 100%|██████████| 5/5 [00:15<0"
     ]
    },
    {
     "name": "stdout",
     "output_type": "stream",
     "text": [
      "                   all        144        144      0.913      0.849      0.944      0.887\n"
     ]
    },
    {
     "name": "stderr",
     "output_type": "stream",
     "text": [
      "\n"
     ]
    },
    {
     "name": "stdout",
     "output_type": "stream",
     "text": [
      "\n",
      "      Epoch    GPU_mem   box_loss   cls_loss   dfl_loss  Instances       Size\n"
     ]
    },
    {
     "name": "stderr",
     "output_type": "stream",
     "text": [
      "      68/70         0G     0.2378     0.8207     0.8439          8        640: 100%|██████████| 32/32 [02:55<00:00,  5.\n",
      "                 Class     Images  Instances      Box(P          R      mAP50  mAP50-95): 100%|██████████| 5/5 [00:15<0"
     ]
    },
    {
     "name": "stdout",
     "output_type": "stream",
     "text": [
      "                   all        144        144       0.89      0.872      0.945      0.886\n"
     ]
    },
    {
     "name": "stderr",
     "output_type": "stream",
     "text": [
      "\n"
     ]
    },
    {
     "name": "stdout",
     "output_type": "stream",
     "text": [
      "\n",
      "      Epoch    GPU_mem   box_loss   cls_loss   dfl_loss  Instances       Size\n"
     ]
    },
    {
     "name": "stderr",
     "output_type": "stream",
     "text": [
      "      69/70         0G     0.2344     0.8127     0.8389          8        640: 100%|██████████| 32/32 [03:01<00:00,  5.\n",
      "                 Class     Images  Instances      Box(P          R      mAP50  mAP50-95): 100%|██████████| 5/5 [00:15<0"
     ]
    },
    {
     "name": "stdout",
     "output_type": "stream",
     "text": [
      "                   all        144        144      0.919      0.866      0.947      0.888\n"
     ]
    },
    {
     "name": "stderr",
     "output_type": "stream",
     "text": [
      "\n"
     ]
    },
    {
     "name": "stdout",
     "output_type": "stream",
     "text": [
      "\n",
      "      Epoch    GPU_mem   box_loss   cls_loss   dfl_loss  Instances       Size\n"
     ]
    },
    {
     "name": "stderr",
     "output_type": "stream",
     "text": [
      "      70/70         0G     0.2257     0.8142     0.8358          8        640: 100%|██████████| 32/32 [02:54<00:00,  5.\n",
      "                 Class     Images  Instances      Box(P          R      mAP50  mAP50-95): 100%|██████████| 5/5 [00:15<0"
     ]
    },
    {
     "name": "stdout",
     "output_type": "stream",
     "text": [
      "                   all        144        144      0.894      0.884      0.947      0.888\n"
     ]
    },
    {
     "name": "stderr",
     "output_type": "stream",
     "text": [
      "\n"
     ]
    },
    {
     "name": "stdout",
     "output_type": "stream",
     "text": [
      "\n",
      "70 epochs completed in 7.681 hours.\n",
      "Optimizer stripped from runs\\detect\\train4\\weights\\last.pt, 5.6MB\n",
      "Optimizer stripped from runs\\detect\\train4\\weights\\best.pt, 5.6MB\n",
      "\n",
      "Validating runs\\detect\\train4\\weights\\best.pt...\n",
      "Ultralytics 8.3.5  Python-3.9.12 torch-2.4.1+cpu CPU (11th Gen Intel Core(TM) i5-1155G7 2.50GHz)\n",
      "Model summary (fused): 186 layers, 2,689,438 parameters, 0 gradients, 6.9 GFLOPs\n"
     ]
    },
    {
     "name": "stderr",
     "output_type": "stream",
     "text": [
      "                 Class     Images  Instances      Box(P          R      mAP50  mAP50-95): 100%|██████████| 5/5 [00:14<0\n"
     ]
    },
    {
     "name": "stdout",
     "output_type": "stream",
     "text": [
      "                   all        144        144      0.908      0.861      0.949      0.893\n",
      "                     A          5          5      0.887        0.4      0.795      0.575\n",
      "                     B          9          9          1      0.722      0.995      0.952\n",
      "                     C          3          3          1      0.831      0.995       0.88\n",
      "                     D          6          6      0.848          1      0.948      0.911\n",
      "                     E          4          4      0.935          1      0.995      0.995\n",
      "                     F          8          8          1      0.934      0.995      0.995\n",
      "                     G          5          5       0.82          1      0.995      0.975\n",
      "                     H          9          9          1      0.968      0.995      0.969\n",
      "                     I          2          2      0.789        0.5      0.554      0.554\n",
      "                     J          8          8          1      0.962      0.995      0.707\n",
      "                     K          6          6      0.819      0.764      0.913      0.913\n",
      "                     L          4          4      0.857       0.75      0.945      0.925\n",
      "                     M          8          8      0.863      0.875      0.971      0.891\n",
      "                     N          4          4      0.816          1      0.995      0.958\n",
      "                     O          7          7          1      0.898      0.995      0.942\n",
      "                     P          7          7          1      0.869      0.995       0.87\n",
      "                     Q          4          4      0.963          1      0.995      0.895\n",
      "                     R          7          7          1      0.766      0.964      0.964\n",
      "                     S          4          4      0.942          1      0.995      0.995\n",
      "                     T          6          6          1      0.653      0.942      0.931\n",
      "                     U          7          7      0.829          1      0.995      0.995\n",
      "                     V          5          5      0.569        0.6      0.731      0.688\n",
      "                     W          3          3      0.853          1      0.995       0.94\n",
      "                     X          1          1      0.852          1      0.995      0.895\n",
      "                     Y          8          8          1      0.886      0.995      0.928\n",
      "                     Z          4          4      0.964          1      0.995       0.97\n",
      "Speed: 1.4ms preprocess, 51.7ms inference, 0.0ms loss, 0.5ms postprocess per image\n",
      "Results saved to \u001b[1mruns\\detect\\train4\u001b[0m\n"
     ]
    }
   ],
   "source": [
    "from ultralytics import YOLO\n",
    "\n",
    "# Initialize the YOLO model with pre-trained weights for detection\n",
    "model = YOLO('yolov8n.pt')  # Assuming you are using YOLOv8 small model weights\n",
    "\n",
    "# Train the model with your custom dataset\n",
    "model.train(data=r\"C:\\Users\\kuksh\\American Sign Language Letters.v6-raw.yolov8\\data.yaml\", epochs=70)\n",
    "model.save(\"path_to_save_custom_model.pt\")\n",
    "\n"
   ]
  },
  {
   "cell_type": "code",
   "execution_count": 7,
   "id": "7587472f",
   "metadata": {},
   "outputs": [
    {
     "name": "stdout",
     "output_type": "stream",
     "text": [
      "Ultralytics 8.3.5  Python-3.9.12 torch-2.4.1+cpu CPU (11th Gen Intel Core(TM) i5-1155G7 2.50GHz)\n",
      "Model summary (fused): 186 layers, 2,689,438 parameters, 0 gradients, 6.9 GFLOPs\n"
     ]
    },
    {
     "name": "stderr",
     "output_type": "stream",
     "text": [
      "\u001b[34m\u001b[1mval: \u001b[0mScanning C:\\Users\\kuksh\\American Sign Language Letters.v6-raw.yolov8\\valid\\labels.cache... 144 images, 0 backgroun\u001b[0m\n",
      "                 Class     Images  Instances      Box(P          R      mAP50  mAP50-95): 100%|██████████| 9/9 [00:12<0\n"
     ]
    },
    {
     "name": "stdout",
     "output_type": "stream",
     "text": [
      "                   all        144        144      0.908      0.861      0.949      0.893\n",
      "                     A          5          5      0.887        0.4      0.795      0.575\n",
      "                     B          9          9          1      0.722      0.995      0.952\n",
      "                     C          3          3          1      0.831      0.995       0.88\n",
      "                     D          6          6      0.848          1      0.948      0.911\n",
      "                     E          4          4      0.935          1      0.995      0.995\n",
      "                     F          8          8          1      0.934      0.995      0.995\n",
      "                     G          5          5       0.82          1      0.995      0.975\n",
      "                     H          9          9          1      0.968      0.995      0.969\n",
      "                     I          2          2      0.789        0.5      0.554      0.554\n",
      "                     J          8          8          1      0.962      0.995      0.707\n",
      "                     K          6          6      0.819      0.764      0.913      0.913\n",
      "                     L          4          4      0.857       0.75      0.945      0.925\n",
      "                     M          8          8      0.863      0.875      0.971      0.891\n",
      "                     N          4          4      0.816          1      0.995      0.958\n",
      "                     O          7          7          1      0.898      0.995      0.942\n",
      "                     P          7          7          1      0.869      0.995       0.87\n",
      "                     Q          4          4      0.963          1      0.995      0.895\n",
      "                     R          7          7          1      0.766      0.964      0.964\n",
      "                     S          4          4      0.942          1      0.995      0.995\n",
      "                     T          6          6          1      0.653      0.942      0.931\n",
      "                     U          7          7      0.829          1      0.995      0.995\n",
      "                     V          5          5      0.569        0.6      0.731      0.688\n",
      "                     W          3          3      0.853          1      0.995       0.94\n",
      "                     X          1          1      0.852          1      0.995      0.895\n",
      "                     Y          8          8          1      0.886      0.995      0.928\n",
      "                     Z          4          4      0.964          1      0.995       0.97\n",
      "Speed: 1.1ms preprocess, 45.4ms inference, 0.0ms loss, 0.4ms postprocess per image\n",
      "Results saved to \u001b[1mruns\\detect\\val3\u001b[0m\n",
      "\n",
      "image 1/1 C:\\Users\\kuksh\\American Sign Language Letters.v6-raw.yolov8\\test\\images\\B15_jpg.rf.2c603ed2298b4591244478d4a400c3b2.jpg: 640x480 1 B, 115.3ms\n",
      "Speed: 4.9ms preprocess, 115.3ms inference, 1.4ms postprocess per image at shape (1, 3, 640, 480)\n",
      "Bounding box: (375, 330), (1214, 1734)\n",
      "Center: (794, 1032)\n"
     ]
    },
    {
     "data": {
      "image/png": "[encoded data removed]",
      "text/plain": [
       "<Figure size 864x576 with 1 Axes>"
      ]
     },
     "metadata": {
      "needs_background": "light"
     },
     "output_type": "display_data"
    }
   ],
   "source": [
    "import matplotlib.pyplot as plt\n",
    "import cv2\n",
    "from ultralytics import YOLO\n",
    "\n",
    "# Train the model with your custom dataset (if not already trained)\n",
    "# model.train(data=\"/content/archive/data2.yaml\", epochs=3)\n",
    "model = YOLO('path_to_save_custom_model.pt') \n",
    "# Evaluate model performance on the validation set\n",
    "metrics = model.val(data=r\"C:\\Users\\kuksh\\American Sign Language Letters.v6-raw.yolov8\\data.yaml\")\n",
    "\n",
    "\n",
    "# Predict on an image\n",
    "image_path = r\"C:\\Users\\kuksh\\American Sign Language Letters.v6-raw.yolov8\\test\\images\\B15_jpg.rf.2c603ed2298b4591244478d4a400c3b2.jpg\"\n",
    "results = model(image_path)\n",
    "\n",
    "# Extract bounding box coordinates and their centers\n",
    "bounding_boxes = results[0].boxes.xyxy.numpy()  # Extract bounding boxes as numpy array\n",
    "\n",
    "# Load the image using OpenCV\n",
    "image = cv2.imread(image_path)\n",
    "image = cv2.cvtColor(image, cv2.COLOR_BGR2RGB)\n",
    "\n",
    "# Plot the image with bounding boxes\n",
    "plt.figure(figsize=(12, 8))\n",
    "plt.imshow(image)\n",
    "for box in bounding_boxes:\n",
    "    x1, y1, x2, y2 = int(box[0]), int(box[1]), int(box[2]), int(box[3])\n",
    "    center_x, center_y = (x1 + x2) // 2, (y1 + y2) // 2\n",
    "\n",
    "    # Draw the bounding box\n",
    "    plt.gca().add_patch(plt.Rectangle((x1, y1), x2 - x1, y2 - y1, linewidth=2, edgecolor='red', facecolor='none'))\n",
    "\n",
    "    # Draw the center point\n",
    "    plt.plot(center_x, center_y, 'bo')  # 'bo' stands for blue color and circle marker\n",
    "\n",
    "    # Print bounding box coordinates and center\n",
    "    print(f\"Bounding box: ({x1}, {y1}), ({x2}, {y2})\")\n",
    "    print(f\"Center: ({center_x}, {center_y})\")\n",
    "\n",
    "plt.axis('off')\n",
    "plt.show()\n",
    "\n"
   ]
  },
  {
   "cell_type": "code",
   "execution_count": 9,
   "id": "ed3e5834",
   "metadata": {},
   "outputs": [
    {
     "name": "stdout",
     "output_type": "stream",
     "text": [
      "\n",
      "image 1/1 C:\\Users\\kuksh\\American Sign Language Letters.v6-raw.yolov8\\test\\images\\B15_jpg.rf.2c603ed2298b4591244478d4a400c3b2.jpg: 640x480 1 B, 72.3ms\n",
      "Speed: 3.0ms preprocess, 72.3ms inference, 1.0ms postprocess per image at shape (1, 3, 640, 480)\n"
     ]
    }
   ],
   "source": [
    "\n",
    "\n",
    "# Predict on an image\n",
    "results = model(r\"C:\\Users\\kuksh\\American Sign Language Letters.v6-raw.yolov8\\test\\images\\B15_jpg.rf.2c603ed2298b4591244478d4a400c3b2.jpg\")"
   ]
  },
  {
   "cell_type": "code",
   "execution_count": 11,
   "id": "4296f46c",
   "metadata": {},
   "outputs": [
    {
     "name": "stdout",
     "output_type": "stream",
     "text": [
      "\n",
      "0: 480x640 1 J, 59.3ms\n",
      "Speed: 8.4ms preprocess, 59.3ms inference, 0.0ms postprocess per image at shape (1, 3, 480, 640)\n",
      "Bounding box: (143, 175), (511, 480)\n",
      "Center: (327, 327)\n",
      "\n",
      "0: 480x640 1 J, 63.3ms\n",
      "Speed: 1.0ms preprocess, 63.3ms inference, 1.0ms postprocess per image at shape (1, 3, 480, 640)\n",
      "Bounding box: (132, 172), (501, 480)\n",
      "Center: (316, 326)\n",
      "\n",
      "0: 480x640 (no detections), 69.2ms\n",
      "Speed: 0.9ms preprocess, 69.2ms inference, 1.0ms postprocess per image at shape (1, 3, 480, 640)\n",
      "\n",
      "0: 480x640 1 J, 57.1ms\n",
      "Speed: 0.0ms preprocess, 57.1ms inference, 1.0ms postprocess per image at shape (1, 3, 480, 640)\n",
      "Bounding box: (117, 170), (539, 480)\n",
      "Center: (328, 325)\n",
      "\n",
      "0: 480x640 (no detections), 77.4ms\n",
      "Speed: 1.0ms preprocess, 77.4ms inference, 0.0ms postprocess per image at shape (1, 3, 480, 640)\n",
      "\n",
      "0: 480x640 (no detections), 69.7ms\n",
      "Speed: 0.0ms preprocess, 69.7ms inference, 0.0ms postprocess per image at shape (1, 3, 480, 640)\n",
      "\n",
      "0: 480x640 (no detections), 76.1ms\n",
      "Speed: 2.0ms preprocess, 76.1ms inference, 0.0ms postprocess per image at shape (1, 3, 480, 640)\n",
      "\n",
      "0: 480x640 1 J, 70.9ms\n",
      "Speed: 1.2ms preprocess, 70.9ms inference, 1.1ms postprocess per image at shape (1, 3, 480, 640)\n",
      "Bounding box: (114, 169), (539, 480)\n",
      "Center: (326, 324)\n",
      "\n",
      "0: 480x640 (no detections), 69.4ms\n",
      "Speed: 0.0ms preprocess, 69.4ms inference, 0.8ms postprocess per image at shape (1, 3, 480, 640)\n",
      "\n",
      "0: 480x640 (no detections), 67.9ms\n",
      "Speed: 2.0ms preprocess, 67.9ms inference, 0.0ms postprocess per image at shape (1, 3, 480, 640)\n",
      "\n",
      "0: 480x640 (no detections), 56.0ms\n",
      "Speed: 0.0ms preprocess, 56.0ms inference, 1.0ms postprocess per image at shape (1, 3, 480, 640)\n",
      "\n",
      "0: 480x640 (no detections), 55.7ms\n",
      "Speed: 1.0ms preprocess, 55.7ms inference, 1.0ms postprocess per image at shape (1, 3, 480, 640)\n",
      "\n",
      "0: 480x640 1 J, 53.3ms\n",
      "Speed: 4.0ms preprocess, 53.3ms inference, 1.0ms postprocess per image at shape (1, 3, 480, 640)\n",
      "Bounding box: (142, 169), (576, 480)\n",
      "Center: (359, 324)\n",
      "\n",
      "0: 480x640 1 J, 54.6ms\n",
      "Speed: 0.9ms preprocess, 54.6ms inference, 1.0ms postprocess per image at shape (1, 3, 480, 640)\n",
      "Bounding box: (126, 169), (558, 480)\n",
      "Center: (342, 324)\n",
      "\n",
      "0: 480x640 (no detections), 80.1ms\n",
      "Speed: 0.0ms preprocess, 80.1ms inference, 0.0ms postprocess per image at shape (1, 3, 480, 640)\n",
      "\n",
      "0: 480x640 1 J, 67.3ms\n",
      "Speed: 0.0ms preprocess, 67.3ms inference, 1.0ms postprocess per image at shape (1, 3, 480, 640)\n",
      "Bounding box: (107, 177), (455, 480)\n",
      "Center: (281, 328)\n",
      "\n",
      "0: 480x640 1 J, 47.2ms\n",
      "Speed: 1.0ms preprocess, 47.2ms inference, 0.0ms postprocess per image at shape (1, 3, 480, 640)\n",
      "Bounding box: (106, 181), (434, 480)\n",
      "Center: (270, 330)\n",
      "\n",
      "0: 480x640 1 J, 48.7ms\n",
      "Speed: 1.0ms preprocess, 48.7ms inference, 0.0ms postprocess per image at shape (1, 3, 480, 640)\n",
      "Bounding box: (108, 180), (435, 480)\n",
      "Center: (271, 330)\n",
      "\n",
      "0: 480x640 1 J, 50.3ms\n",
      "Speed: 0.0ms preprocess, 50.3ms inference, 1.0ms postprocess per image at shape (1, 3, 480, 640)\n",
      "Bounding box: (129, 183), (435, 480)\n",
      "Center: (282, 331)\n",
      "\n",
      "0: 480x640 2 Js, 47.6ms\n",
      "Speed: 0.0ms preprocess, 47.6ms inference, 1.0ms postprocess per image at shape (1, 3, 480, 640)\n",
      "Bounding box: (162, 185), (440, 479)\n",
      "Center: (301, 332)\n",
      "Bounding box: (71, 184), (475, 480)\n",
      "Center: (273, 332)\n",
      "\n",
      "0: 480x640 1 J, 49.7ms\n",
      "Speed: 2.0ms preprocess, 49.7ms inference, 1.0ms postprocess per image at shape (1, 3, 480, 640)\n",
      "Bounding box: (71, 183), (433, 480)\n",
      "Center: (252, 331)\n",
      "\n",
      "0: 480x640 1 J, 49.8ms\n",
      "Speed: 0.0ms preprocess, 49.8ms inference, 1.0ms postprocess per image at shape (1, 3, 480, 640)\n",
      "Bounding box: (84, 184), (434, 480)\n",
      "Center: (259, 332)\n",
      "\n",
      "0: 480x640 1 J, 58.0ms\n",
      "Speed: 0.0ms preprocess, 58.0ms inference, 1.0ms postprocess per image at shape (1, 3, 480, 640)\n",
      "Bounding box: (127, 181), (493, 480)\n",
      "Center: (310, 330)\n",
      "\n",
      "0: 480x640 1 J, 59.7ms\n",
      "Speed: 0.0ms preprocess, 59.7ms inference, 0.0ms postprocess per image at shape (1, 3, 480, 640)\n",
      "Bounding box: (77, 183), (440, 480)\n",
      "Center: (258, 331)\n",
      "\n",
      "0: 480x640 1 J, 53.5ms\n",
      "Speed: 0.0ms preprocess, 53.5ms inference, 1.0ms postprocess per image at shape (1, 3, 480, 640)\n",
      "Bounding box: (129, 183), (443, 480)\n",
      "Center: (286, 331)\n",
      "\n",
      "0: 480x640 1 J, 50.7ms\n",
      "Speed: 1.8ms preprocess, 50.7ms inference, 0.0ms postprocess per image at shape (1, 3, 480, 640)\n",
      "Bounding box: (126, 181), (492, 480)\n",
      "Center: (309, 330)\n",
      "\n",
      "0: 480x640 1 J, 50.5ms\n",
      "Speed: 0.0ms preprocess, 50.5ms inference, 0.0ms postprocess per image at shape (1, 3, 480, 640)\n",
      "Bounding box: (85, 180), (524, 480)\n",
      "Center: (304, 330)\n",
      "\n",
      "0: 480x640 2 Js, 68.6ms\n",
      "Speed: 0.0ms preprocess, 68.6ms inference, 1.0ms postprocess per image at shape (1, 3, 480, 640)\n",
      "Bounding box: (93, 179), (525, 480)\n",
      "Center: (309, 329)\n",
      "Bounding box: (167, 182), (455, 480)\n",
      "Center: (311, 331)\n",
      "\n",
      "0: 480x640 1 J, 90.5ms\n",
      "Speed: 2.7ms preprocess, 90.5ms inference, 0.0ms postprocess per image at shape (1, 3, 480, 640)\n",
      "Bounding box: (84, 160), (562, 480)\n",
      "Center: (323, 320)\n",
      "\n",
      "0: 480x640 1 J, 82.7ms\n",
      "Speed: 2.5ms preprocess, 82.7ms inference, 0.0ms postprocess per image at shape (1, 3, 480, 640)\n",
      "Bounding box: (127, 166), (584, 480)\n",
      "Center: (355, 323)\n",
      "\n",
      "0: 480x640 1 J, 98.8ms\n",
      "Speed: 0.0ms preprocess, 98.8ms inference, 1.0ms postprocess per image at shape (1, 3, 480, 640)\n",
      "Bounding box: (118, 164), (603, 480)\n",
      "Center: (360, 322)\n",
      "\n",
      "0: 480x640 (no detections), 79.9ms\n",
      "Speed: 0.6ms preprocess, 79.9ms inference, 1.0ms postprocess per image at shape (1, 3, 480, 640)\n",
      "\n",
      "0: 480x640 1 J, 67.0ms\n",
      "Speed: 2.0ms preprocess, 67.0ms inference, 0.0ms postprocess per image at shape (1, 3, 480, 640)\n",
      "Bounding box: (105, 170), (576, 480)\n",
      "Center: (340, 325)\n",
      "\n",
      "0: 480x640 1 J, 66.2ms\n",
      "Speed: 1.8ms preprocess, 66.2ms inference, 1.0ms postprocess per image at shape (1, 3, 480, 640)\n",
      "Bounding box: (117, 170), (603, 477)\n",
      "Center: (360, 323)\n",
      "\n",
      "0: 480x640 (no detections), 66.3ms\n",
      "Speed: 1.1ms preprocess, 66.3ms inference, 0.0ms postprocess per image at shape (1, 3, 480, 640)\n",
      "\n",
      "0: 480x640 1 J, 63.9ms\n",
      "Speed: 0.0ms preprocess, 63.9ms inference, 1.0ms postprocess per image at shape (1, 3, 480, 640)\n",
      "Bounding box: (163, 213), (424, 479)\n",
      "Center: (293, 346)\n",
      "\n",
      "0: 480x640 1 J, 62.9ms\n",
      "Speed: 0.0ms preprocess, 62.9ms inference, 0.0ms postprocess per image at shape (1, 3, 480, 640)\n",
      "Bounding box: (96, 212), (407, 480)\n",
      "Center: (251, 346)\n",
      "\n",
      "0: 480x640 (no detections), 48.3ms\n",
      "Speed: 1.0ms preprocess, 48.3ms inference, 0.0ms postprocess per image at shape (1, 3, 480, 640)\n",
      "\n",
      "0: 480x640 (no detections), 47.9ms\n",
      "Speed: 0.0ms preprocess, 47.9ms inference, 0.0ms postprocess per image at shape (1, 3, 480, 640)\n",
      "\n",
      "0: 480x640 (no detections), 46.2ms\n",
      "Speed: 0.0ms preprocess, 46.2ms inference, 0.0ms postprocess per image at shape (1, 3, 480, 640)\n",
      "\n",
      "0: 480x640 (no detections), 43.3ms\n",
      "Speed: 0.0ms preprocess, 43.3ms inference, 1.0ms postprocess per image at shape (1, 3, 480, 640)\n",
      "\n",
      "0: 480x640 (no detections), 44.4ms\n",
      "Speed: 0.0ms preprocess, 44.4ms inference, 0.0ms postprocess per image at shape (1, 3, 480, 640)\n",
      "\n",
      "0: 480x640 (no detections), 47.1ms\n",
      "Speed: 0.0ms preprocess, 47.1ms inference, 1.0ms postprocess per image at shape (1, 3, 480, 640)\n",
      "\n",
      "0: 480x640 (no detections), 63.2ms\n",
      "Speed: 1.6ms preprocess, 63.2ms inference, 0.0ms postprocess per image at shape (1, 3, 480, 640)\n",
      "\n",
      "0: 480x640 (no detections), 57.8ms\n",
      "Speed: 2.4ms preprocess, 57.8ms inference, 1.0ms postprocess per image at shape (1, 3, 480, 640)\n",
      "\n",
      "0: 480x640 (no detections), 55.3ms\n",
      "Speed: 3.0ms preprocess, 55.3ms inference, 0.0ms postprocess per image at shape (1, 3, 480, 640)\n",
      "\n",
      "0: 480x640 1 J, 58.0ms\n",
      "Speed: 1.9ms preprocess, 58.0ms inference, 1.3ms postprocess per image at shape (1, 3, 480, 640)\n",
      "Bounding box: (195, 213), (401, 448)\n",
      "Center: (298, 330)\n",
      "\n",
      "0: 480x640 (no detections), 59.3ms\n",
      "Speed: 3.2ms preprocess, 59.3ms inference, 0.0ms postprocess per image at shape (1, 3, 480, 640)\n",
      "\n",
      "0: 480x640 (no detections), 54.6ms\n",
      "Speed: 0.0ms preprocess, 54.6ms inference, 1.2ms postprocess per image at shape (1, 3, 480, 640)\n",
      "\n",
      "0: 480x640 (no detections), 49.2ms\n",
      "Speed: 3.0ms preprocess, 49.2ms inference, 0.0ms postprocess per image at shape (1, 3, 480, 640)\n",
      "\n",
      "0: 480x640 (no detections), 57.6ms\n",
      "Speed: 0.0ms preprocess, 57.6ms inference, 0.0ms postprocess per image at shape (1, 3, 480, 640)\n",
      "\n",
      "0: 480x640 (no detections), 46.2ms\n",
      "Speed: 1.5ms preprocess, 46.2ms inference, 0.0ms postprocess per image at shape (1, 3, 480, 640)\n"
     ]
    },
    {
     "name": "stdout",
     "output_type": "stream",
     "text": [
      "\n",
      "0: 480x640 (no detections), 47.6ms\n",
      "Speed: 0.0ms preprocess, 47.6ms inference, 1.0ms postprocess per image at shape (1, 3, 480, 640)\n",
      "\n",
      "0: 480x640 (no detections), 45.2ms\n",
      "Speed: 2.6ms preprocess, 45.2ms inference, 1.3ms postprocess per image at shape (1, 3, 480, 640)\n",
      "\n",
      "0: 480x640 (no detections), 45.3ms\n",
      "Speed: 0.0ms preprocess, 45.3ms inference, 0.0ms postprocess per image at shape (1, 3, 480, 640)\n",
      "\n",
      "0: 480x640 (no detections), 43.6ms\n",
      "Speed: 0.0ms preprocess, 43.6ms inference, 0.0ms postprocess per image at shape (1, 3, 480, 640)\n",
      "\n",
      "0: 480x640 (no detections), 45.3ms\n",
      "Speed: 1.0ms preprocess, 45.3ms inference, 0.0ms postprocess per image at shape (1, 3, 480, 640)\n",
      "\n",
      "0: 480x640 (no detections), 53.8ms\n",
      "Speed: 0.0ms preprocess, 53.8ms inference, 0.0ms postprocess per image at shape (1, 3, 480, 640)\n",
      "\n",
      "0: 480x640 (no detections), 46.0ms\n",
      "Speed: 0.0ms preprocess, 46.0ms inference, 1.0ms postprocess per image at shape (1, 3, 480, 640)\n",
      "\n",
      "0: 480x640 (no detections), 47.0ms\n",
      "Speed: 0.0ms preprocess, 47.0ms inference, 0.7ms postprocess per image at shape (1, 3, 480, 640)\n",
      "\n",
      "0: 480x640 (no detections), 55.0ms\n",
      "Speed: 0.0ms preprocess, 55.0ms inference, 1.0ms postprocess per image at shape (1, 3, 480, 640)\n",
      "\n",
      "0: 480x640 (no detections), 48.6ms\n",
      "Speed: 0.0ms preprocess, 48.6ms inference, 1.0ms postprocess per image at shape (1, 3, 480, 640)\n",
      "\n",
      "0: 480x640 (no detections), 47.3ms\n",
      "Speed: 0.0ms preprocess, 47.3ms inference, 1.0ms postprocess per image at shape (1, 3, 480, 640)\n",
      "\n",
      "0: 480x640 (no detections), 47.0ms\n",
      "Speed: 0.0ms preprocess, 47.0ms inference, 1.0ms postprocess per image at shape (1, 3, 480, 640)\n",
      "\n",
      "0: 480x640 (no detections), 54.1ms\n",
      "Speed: 0.0ms preprocess, 54.1ms inference, 0.0ms postprocess per image at shape (1, 3, 480, 640)\n",
      "\n",
      "0: 480x640 1 J, 48.3ms\n",
      "Speed: 0.0ms preprocess, 48.3ms inference, 1.0ms postprocess per image at shape (1, 3, 480, 640)\n",
      "Bounding box: (199, 214), (399, 436)\n",
      "Center: (299, 325)\n",
      "\n",
      "0: 480x640 1 J, 44.6ms\n",
      "Speed: 0.0ms preprocess, 44.6ms inference, 1.0ms postprocess per image at shape (1, 3, 480, 640)\n",
      "Bounding box: (200, 215), (399, 429)\n",
      "Center: (299, 322)\n",
      "\n",
      "0: 480x640 (no detections), 45.9ms\n",
      "Speed: 0.0ms preprocess, 45.9ms inference, 0.0ms postprocess per image at shape (1, 3, 480, 640)\n",
      "\n",
      "0: 480x640 1 J, 46.3ms\n",
      "Speed: 1.4ms preprocess, 46.3ms inference, 1.0ms postprocess per image at shape (1, 3, 480, 640)\n",
      "Bounding box: (198, 215), (399, 431)\n",
      "Center: (298, 323)\n",
      "\n",
      "0: 480x640 (no detections), 43.9ms\n",
      "Speed: 2.0ms preprocess, 43.9ms inference, 1.0ms postprocess per image at shape (1, 3, 480, 640)\n",
      "\n",
      "0: 480x640 1 J, 45.7ms\n",
      "Speed: 1.3ms preprocess, 45.7ms inference, 1.0ms postprocess per image at shape (1, 3, 480, 640)\n",
      "Bounding box: (201, 217), (397, 426)\n",
      "Center: (299, 321)\n",
      "\n",
      "0: 480x640 (no detections), 48.3ms\n",
      "Speed: 0.6ms preprocess, 48.3ms inference, 0.0ms postprocess per image at shape (1, 3, 480, 640)\n",
      "\n",
      "0: 480x640 (no detections), 44.1ms\n",
      "Speed: 1.7ms preprocess, 44.1ms inference, 1.0ms postprocess per image at shape (1, 3, 480, 640)\n",
      "\n",
      "0: 480x640 (no detections), 44.8ms\n",
      "Speed: 1.8ms preprocess, 44.8ms inference, 0.0ms postprocess per image at shape (1, 3, 480, 640)\n",
      "\n",
      "0: 480x640 (no detections), 45.3ms\n",
      "Speed: 1.0ms preprocess, 45.3ms inference, 1.0ms postprocess per image at shape (1, 3, 480, 640)\n",
      "\n",
      "0: 480x640 (no detections), 45.1ms\n",
      "Speed: 0.8ms preprocess, 45.1ms inference, 0.0ms postprocess per image at shape (1, 3, 480, 640)\n",
      "\n",
      "0: 480x640 (no detections), 42.6ms\n",
      "Speed: 0.6ms preprocess, 42.6ms inference, 1.0ms postprocess per image at shape (1, 3, 480, 640)\n",
      "\n",
      "0: 480x640 1 J, 49.5ms\n",
      "Speed: 0.0ms preprocess, 49.5ms inference, 1.0ms postprocess per image at shape (1, 3, 480, 640)\n",
      "Bounding box: (199, 215), (401, 432)\n",
      "Center: (300, 323)\n",
      "\n",
      "0: 480x640 (no detections), 48.5ms\n",
      "Speed: 2.0ms preprocess, 48.5ms inference, 1.0ms postprocess per image at shape (1, 3, 480, 640)\n",
      "\n",
      "0: 480x640 (no detections), 56.3ms\n",
      "Speed: 0.6ms preprocess, 56.3ms inference, 0.0ms postprocess per image at shape (1, 3, 480, 640)\n",
      "\n",
      "0: 480x640 (no detections), 49.9ms\n",
      "Speed: 1.8ms preprocess, 49.9ms inference, 1.0ms postprocess per image at shape (1, 3, 480, 640)\n",
      "\n",
      "0: 480x640 (no detections), 61.6ms\n",
      "Speed: 1.9ms preprocess, 61.6ms inference, 0.0ms postprocess per image at shape (1, 3, 480, 640)\n",
      "\n",
      "0: 480x640 (no detections), 54.7ms\n",
      "Speed: 2.7ms preprocess, 54.7ms inference, 0.0ms postprocess per image at shape (1, 3, 480, 640)\n",
      "\n",
      "0: 480x640 (no detections), 68.0ms\n",
      "Speed: 0.0ms preprocess, 68.0ms inference, 1.0ms postprocess per image at shape (1, 3, 480, 640)\n",
      "\n",
      "0: 480x640 (no detections), 47.6ms\n",
      "Speed: 1.0ms preprocess, 47.6ms inference, 0.0ms postprocess per image at shape (1, 3, 480, 640)\n",
      "\n",
      "0: 480x640 (no detections), 48.5ms\n",
      "Speed: 1.7ms preprocess, 48.5ms inference, 1.0ms postprocess per image at shape (1, 3, 480, 640)\n",
      "\n",
      "0: 480x640 (no detections), 48.5ms\n",
      "Speed: 1.6ms preprocess, 48.5ms inference, 1.0ms postprocess per image at shape (1, 3, 480, 640)\n",
      "\n",
      "0: 480x640 (no detections), 45.8ms\n",
      "Speed: 1.9ms preprocess, 45.8ms inference, 0.0ms postprocess per image at shape (1, 3, 480, 640)\n",
      "\n",
      "0: 480x640 (no detections), 44.7ms\n",
      "Speed: 1.7ms preprocess, 44.7ms inference, 1.1ms postprocess per image at shape (1, 3, 480, 640)\n",
      "\n",
      "0: 480x640 (no detections), 45.0ms\n",
      "Speed: 1.5ms preprocess, 45.0ms inference, 1.1ms postprocess per image at shape (1, 3, 480, 640)\n",
      "\n",
      "0: 480x640 (no detections), 51.3ms\n",
      "Speed: 1.5ms preprocess, 51.3ms inference, 0.0ms postprocess per image at shape (1, 3, 480, 640)\n",
      "\n",
      "0: 480x640 (no detections), 43.0ms\n",
      "Speed: 2.0ms preprocess, 43.0ms inference, 1.0ms postprocess per image at shape (1, 3, 480, 640)\n",
      "\n",
      "0: 480x640 (no detections), 49.7ms\n",
      "Speed: 0.0ms preprocess, 49.7ms inference, 0.0ms postprocess per image at shape (1, 3, 480, 640)\n",
      "\n",
      "0: 480x640 (no detections), 46.3ms\n",
      "Speed: 1.8ms preprocess, 46.3ms inference, 0.0ms postprocess per image at shape (1, 3, 480, 640)\n",
      "\n",
      "0: 480x640 (no detections), 42.6ms\n",
      "Speed: 1.5ms preprocess, 42.6ms inference, 1.0ms postprocess per image at shape (1, 3, 480, 640)\n",
      "\n",
      "0: 480x640 1 J, 44.4ms\n",
      "Speed: 1.6ms preprocess, 44.4ms inference, 1.0ms postprocess per image at shape (1, 3, 480, 640)\n",
      "Bounding box: (66, 212), (414, 480)\n",
      "Center: (240, 346)\n",
      "\n",
      "0: 480x640 (no detections), 57.4ms\n",
      "Speed: 1.0ms preprocess, 57.4ms inference, 0.0ms postprocess per image at shape (1, 3, 480, 640)\n",
      "\n",
      "0: 480x640 (no detections), 43.4ms\n",
      "Speed: 1.9ms preprocess, 43.4ms inference, 1.0ms postprocess per image at shape (1, 3, 480, 640)\n",
      "\n",
      "0: 480x640 (no detections), 47.5ms\n",
      "Speed: 2.0ms preprocess, 47.5ms inference, 0.0ms postprocess per image at shape (1, 3, 480, 640)\n",
      "\n",
      "0: 480x640 (no detections), 44.5ms\n",
      "Speed: 1.4ms preprocess, 44.5ms inference, 0.0ms postprocess per image at shape (1, 3, 480, 640)\n",
      "\n",
      "0: 480x640 (no detections), 45.1ms\n",
      "Speed: 1.8ms preprocess, 45.1ms inference, 0.0ms postprocess per image at shape (1, 3, 480, 640)\n",
      "\n",
      "0: 480x640 1 J, 43.9ms\n",
      "Speed: 2.0ms preprocess, 43.9ms inference, 1.0ms postprocess per image at shape (1, 3, 480, 640)\n",
      "Bounding box: (26, 208), (417, 480)\n",
      "Center: (221, 344)\n",
      "\n",
      "0: 480x640 1 J, 42.5ms\n",
      "Speed: 1.8ms preprocess, 42.5ms inference, 0.0ms postprocess per image at shape (1, 3, 480, 640)\n",
      "Bounding box: (9, 201), (425, 480)\n",
      "Center: (217, 340)\n",
      "\n",
      "0: 480x640 (no detections), 46.8ms\n",
      "Speed: 2.4ms preprocess, 46.8ms inference, 1.0ms postprocess per image at shape (1, 3, 480, 640)\n",
      "\n",
      "0: 480x640 (no detections), 45.3ms\n",
      "Speed: 2.3ms preprocess, 45.3ms inference, 0.0ms postprocess per image at shape (1, 3, 480, 640)\n",
      "\n",
      "0: 480x640 (no detections), 44.4ms\n",
      "Speed: 1.5ms preprocess, 44.4ms inference, 0.0ms postprocess per image at shape (1, 3, 480, 640)\n",
      "\n",
      "0: 480x640 (no detections), 45.2ms\n",
      "Speed: 2.0ms preprocess, 45.2ms inference, 0.0ms postprocess per image at shape (1, 3, 480, 640)\n",
      "\n",
      "0: 480x640 (no detections), 45.9ms\n",
      "Speed: 0.6ms preprocess, 45.9ms inference, 0.0ms postprocess per image at shape (1, 3, 480, 640)\n",
      "\n",
      "0: 480x640 (no detections), 50.6ms\n",
      "Speed: 1.7ms preprocess, 50.6ms inference, 0.0ms postprocess per image at shape (1, 3, 480, 640)\n",
      "\n",
      "0: 480x640 (no detections), 45.3ms\n",
      "Speed: 2.1ms preprocess, 45.3ms inference, 0.1ms postprocess per image at shape (1, 3, 480, 640)\n",
      "\n",
      "0: 480x640 (no detections), 46.6ms\n",
      "Speed: 2.0ms preprocess, 46.6ms inference, 1.0ms postprocess per image at shape (1, 3, 480, 640)\n"
     ]
    },
    {
     "name": "stdout",
     "output_type": "stream",
     "text": [
      "\n",
      "0: 480x640 (no detections), 44.5ms\n",
      "Speed: 2.0ms preprocess, 44.5ms inference, 0.0ms postprocess per image at shape (1, 3, 480, 640)\n",
      "\n",
      "0: 480x640 (no detections), 61.3ms\n",
      "Speed: 1.4ms preprocess, 61.3ms inference, 0.0ms postprocess per image at shape (1, 3, 480, 640)\n",
      "\n",
      "0: 480x640 (no detections), 43.3ms\n",
      "Speed: 0.0ms preprocess, 43.3ms inference, 1.0ms postprocess per image at shape (1, 3, 480, 640)\n",
      "\n",
      "0: 480x640 (no detections), 43.3ms\n",
      "Speed: 0.5ms preprocess, 43.3ms inference, 0.5ms postprocess per image at shape (1, 3, 480, 640)\n",
      "\n",
      "0: 480x640 (no detections), 43.5ms\n",
      "Speed: 1.4ms preprocess, 43.5ms inference, 1.0ms postprocess per image at shape (1, 3, 480, 640)\n",
      "\n",
      "0: 480x640 1 J, 45.9ms\n",
      "Speed: 0.0ms preprocess, 45.9ms inference, 1.0ms postprocess per image at shape (1, 3, 480, 640)\n",
      "Bounding box: (87, 71), (509, 480)\n",
      "Center: (298, 275)\n",
      "\n",
      "0: 480x640 (no detections), 41.9ms\n",
      "Speed: 0.0ms preprocess, 41.9ms inference, 1.0ms postprocess per image at shape (1, 3, 480, 640)\n",
      "\n",
      "0: 480x640 1 J, 46.2ms\n",
      "Speed: 0.0ms preprocess, 46.2ms inference, 1.0ms postprocess per image at shape (1, 3, 480, 640)\n",
      "Bounding box: (114, 81), (589, 479)\n",
      "Center: (351, 280)\n",
      "\n",
      "0: 480x640 (no detections), 45.9ms\n",
      "Speed: 0.0ms preprocess, 45.9ms inference, 0.0ms postprocess per image at shape (1, 3, 480, 640)\n",
      "\n",
      "0: 480x640 (no detections), 45.0ms\n",
      "Speed: 0.0ms preprocess, 45.0ms inference, 0.0ms postprocess per image at shape (1, 3, 480, 640)\n",
      "\n",
      "0: 480x640 1 J, 44.3ms\n",
      "Speed: 0.5ms preprocess, 44.3ms inference, 1.0ms postprocess per image at shape (1, 3, 480, 640)\n",
      "Bounding box: (212, 171), (572, 479)\n",
      "Center: (392, 325)\n",
      "\n",
      "0: 480x640 1 J, 43.2ms\n",
      "Speed: 0.5ms preprocess, 43.2ms inference, 1.0ms postprocess per image at shape (1, 3, 480, 640)\n",
      "Bounding box: (142, 154), (584, 480)\n",
      "Center: (363, 317)\n",
      "\n",
      "0: 480x640 1 J, 48.5ms\n",
      "Speed: 0.5ms preprocess, 48.5ms inference, 1.0ms postprocess per image at shape (1, 3, 480, 640)\n",
      "Bounding box: (146, 171), (586, 479)\n",
      "Center: (366, 325)\n",
      "\n",
      "0: 480x640 (no detections), 44.9ms\n",
      "Speed: 2.0ms preprocess, 44.9ms inference, 0.0ms postprocess per image at shape (1, 3, 480, 640)\n",
      "\n",
      "0: 480x640 1 J, 41.5ms\n",
      "Speed: 1.8ms preprocess, 41.5ms inference, 0.0ms postprocess per image at shape (1, 3, 480, 640)\n",
      "Bounding box: (185, 202), (524, 480)\n",
      "Center: (354, 341)\n",
      "\n",
      "0: 480x640 1 J, 46.8ms\n",
      "Speed: 0.0ms preprocess, 46.8ms inference, 1.0ms postprocess per image at shape (1, 3, 480, 640)\n",
      "Bounding box: (165, 198), (546, 480)\n",
      "Center: (355, 339)\n",
      "\n",
      "0: 480x640 (no detections), 45.4ms\n",
      "Speed: 0.0ms preprocess, 45.4ms inference, 0.0ms postprocess per image at shape (1, 3, 480, 640)\n",
      "\n",
      "0: 480x640 (no detections), 43.3ms\n",
      "Speed: 0.7ms preprocess, 43.3ms inference, 1.0ms postprocess per image at shape (1, 3, 480, 640)\n",
      "\n",
      "0: 480x640 1 J, 45.0ms\n",
      "Speed: 0.5ms preprocess, 45.0ms inference, 0.0ms postprocess per image at shape (1, 3, 480, 640)\n",
      "Bounding box: (143, 199), (518, 479)\n",
      "Center: (330, 339)\n",
      "\n",
      "0: 480x640 1 J, 43.8ms\n",
      "Speed: 1.2ms preprocess, 43.8ms inference, 1.0ms postprocess per image at shape (1, 3, 480, 640)\n",
      "Bounding box: (162, 198), (487, 479)\n",
      "Center: (324, 338)\n",
      "\n",
      "0: 480x640 2 Js, 43.3ms\n",
      "Speed: 0.5ms preprocess, 43.3ms inference, 1.0ms postprocess per image at shape (1, 3, 480, 640)\n",
      "Bounding box: (162, 203), (419, 480)\n",
      "Center: (290, 341)\n",
      "Bounding box: (152, 202), (522, 479)\n",
      "Center: (337, 340)\n",
      "\n",
      "0: 480x640 (no detections), 43.9ms\n",
      "Speed: 1.0ms preprocess, 43.9ms inference, 0.0ms postprocess per image at shape (1, 3, 480, 640)\n",
      "\n",
      "0: 480x640 (no detections), 44.6ms\n",
      "Speed: 1.8ms preprocess, 44.6ms inference, 1.0ms postprocess per image at shape (1, 3, 480, 640)\n",
      "\n",
      "0: 480x640 (no detections), 60.7ms\n",
      "Speed: 1.0ms preprocess, 60.7ms inference, 0.0ms postprocess per image at shape (1, 3, 480, 640)\n",
      "\n",
      "0: 480x640 (no detections), 48.2ms\n",
      "Speed: 0.0ms preprocess, 48.2ms inference, 1.0ms postprocess per image at shape (1, 3, 480, 640)\n",
      "\n",
      "0: 480x640 (no detections), 56.6ms\n",
      "Speed: 2.0ms preprocess, 56.6ms inference, 0.0ms postprocess per image at shape (1, 3, 480, 640)\n",
      "\n",
      "0: 480x640 (no detections), 63.6ms\n",
      "Speed: 2.0ms preprocess, 63.6ms inference, 0.0ms postprocess per image at shape (1, 3, 480, 640)\n",
      "\n",
      "0: 480x640 (no detections), 50.0ms\n",
      "Speed: 0.0ms preprocess, 50.0ms inference, 0.0ms postprocess per image at shape (1, 3, 480, 640)\n",
      "\n",
      "0: 480x640 (no detections), 45.0ms\n",
      "Speed: 1.6ms preprocess, 45.0ms inference, 0.0ms postprocess per image at shape (1, 3, 480, 640)\n",
      "\n",
      "0: 480x640 (no detections), 43.3ms\n",
      "Speed: 1.6ms preprocess, 43.3ms inference, 0.0ms postprocess per image at shape (1, 3, 480, 640)\n",
      "\n",
      "0: 480x640 (no detections), 42.9ms\n",
      "Speed: 1.9ms preprocess, 42.9ms inference, 1.0ms postprocess per image at shape (1, 3, 480, 640)\n",
      "\n",
      "0: 480x640 (no detections), 47.6ms\n",
      "Speed: 1.0ms preprocess, 47.6ms inference, 1.0ms postprocess per image at shape (1, 3, 480, 640)\n",
      "\n",
      "0: 480x640 (no detections), 45.9ms\n",
      "Speed: 0.0ms preprocess, 45.9ms inference, 0.0ms postprocess per image at shape (1, 3, 480, 640)\n",
      "\n",
      "0: 480x640 (no detections), 44.1ms\n",
      "Speed: 1.3ms preprocess, 44.1ms inference, 1.0ms postprocess per image at shape (1, 3, 480, 640)\n",
      "\n",
      "0: 480x640 (no detections), 43.7ms\n",
      "Speed: 1.9ms preprocess, 43.7ms inference, 1.0ms postprocess per image at shape (1, 3, 480, 640)\n",
      "\n",
      "0: 480x640 (no detections), 46.8ms\n",
      "Speed: 2.0ms preprocess, 46.8ms inference, 1.4ms postprocess per image at shape (1, 3, 480, 640)\n",
      "\n",
      "0: 480x640 (no detections), 42.1ms\n",
      "Speed: 1.7ms preprocess, 42.1ms inference, 1.0ms postprocess per image at shape (1, 3, 480, 640)\n",
      "\n",
      "0: 480x640 (no detections), 43.2ms\n",
      "Speed: 2.3ms preprocess, 43.2ms inference, 1.0ms postprocess per image at shape (1, 3, 480, 640)\n",
      "\n",
      "0: 480x640 (no detections), 49.4ms\n",
      "Speed: 1.7ms preprocess, 49.4ms inference, 1.0ms postprocess per image at shape (1, 3, 480, 640)\n",
      "\n",
      "0: 480x640 (no detections), 50.4ms\n",
      "Speed: 2.2ms preprocess, 50.4ms inference, 1.0ms postprocess per image at shape (1, 3, 480, 640)\n",
      "\n",
      "0: 480x640 (no detections), 48.5ms\n",
      "Speed: 2.5ms preprocess, 48.5ms inference, 0.0ms postprocess per image at shape (1, 3, 480, 640)\n",
      "\n",
      "0: 480x640 (no detections), 42.8ms\n",
      "Speed: 1.7ms preprocess, 42.8ms inference, 1.0ms postprocess per image at shape (1, 3, 480, 640)\n",
      "\n",
      "0: 480x640 (no detections), 43.5ms\n",
      "Speed: 1.9ms preprocess, 43.5ms inference, 1.0ms postprocess per image at shape (1, 3, 480, 640)\n",
      "\n",
      "0: 480x640 (no detections), 42.5ms\n",
      "Speed: 2.0ms preprocess, 42.5ms inference, 1.0ms postprocess per image at shape (1, 3, 480, 640)\n",
      "\n",
      "0: 480x640 (no detections), 42.5ms\n",
      "Speed: 1.9ms preprocess, 42.5ms inference, 0.0ms postprocess per image at shape (1, 3, 480, 640)\n",
      "\n",
      "0: 480x640 (no detections), 44.2ms\n",
      "Speed: 1.0ms preprocess, 44.2ms inference, 1.0ms postprocess per image at shape (1, 3, 480, 640)\n",
      "\n",
      "0: 480x640 (no detections), 43.7ms\n",
      "Speed: 1.4ms preprocess, 43.7ms inference, 0.0ms postprocess per image at shape (1, 3, 480, 640)\n",
      "\n",
      "0: 480x640 (no detections), 43.6ms\n",
      "Speed: 1.8ms preprocess, 43.6ms inference, 0.0ms postprocess per image at shape (1, 3, 480, 640)\n",
      "\n",
      "0: 480x640 (no detections), 45.6ms\n",
      "Speed: 1.8ms preprocess, 45.6ms inference, 0.4ms postprocess per image at shape (1, 3, 480, 640)\n",
      "\n",
      "0: 480x640 2 Js, 42.4ms\n",
      "Speed: 2.1ms preprocess, 42.4ms inference, 1.0ms postprocess per image at shape (1, 3, 480, 640)\n",
      "Bounding box: (125, 197), (403, 480)\n",
      "Center: (264, 338)\n",
      "Bounding box: (31, 195), (465, 479)\n",
      "Center: (248, 337)\n",
      "\n",
      "0: 480x640 (no detections), 43.6ms\n",
      "Speed: 2.0ms preprocess, 43.6ms inference, 0.0ms postprocess per image at shape (1, 3, 480, 640)\n",
      "\n",
      "0: 480x640 (no detections), 42.9ms\n",
      "Speed: 2.0ms preprocess, 42.9ms inference, 1.0ms postprocess per image at shape (1, 3, 480, 640)\n",
      "\n",
      "0: 480x640 (no detections), 47.8ms\n",
      "Speed: 1.8ms preprocess, 47.8ms inference, 0.0ms postprocess per image at shape (1, 3, 480, 640)\n",
      "\n",
      "0: 480x640 (no detections), 47.5ms\n",
      "Speed: 2.0ms preprocess, 47.5ms inference, 1.0ms postprocess per image at shape (1, 3, 480, 640)\n",
      "\n",
      "0: 480x640 (no detections), 43.4ms\n",
      "Speed: 2.0ms preprocess, 43.4ms inference, 0.0ms postprocess per image at shape (1, 3, 480, 640)\n",
      "\n",
      "0: 480x640 (no detections), 48.2ms\n",
      "Speed: 2.0ms preprocess, 48.2ms inference, 0.0ms postprocess per image at shape (1, 3, 480, 640)\n",
      "\n",
      "0: 480x640 1 J, 44.5ms\n",
      "Speed: 1.0ms preprocess, 44.5ms inference, 1.0ms postprocess per image at shape (1, 3, 480, 640)\n",
      "Bounding box: (45, 198), (404, 478)\n",
      "Center: (224, 338)\n",
      "\n"
     ]
    },
    {
     "name": "stdout",
     "output_type": "stream",
     "text": [
      "0: 480x640 1 J, 43.0ms\n",
      "Speed: 2.0ms preprocess, 43.0ms inference, 1.0ms postprocess per image at shape (1, 3, 480, 640)\n",
      "Bounding box: (55, 198), (411, 479)\n",
      "Center: (233, 338)\n",
      "\n",
      "0: 480x640 1 J, 46.1ms\n",
      "Speed: 0.0ms preprocess, 46.1ms inference, 0.9ms postprocess per image at shape (1, 3, 480, 640)\n",
      "Bounding box: (60, 198), (409, 478)\n",
      "Center: (234, 338)\n",
      "\n",
      "0: 480x640 (no detections), 45.7ms\n",
      "Speed: 0.0ms preprocess, 45.7ms inference, 1.0ms postprocess per image at shape (1, 3, 480, 640)\n",
      "\n",
      "0: 480x640 1 J, 45.4ms\n",
      "Speed: 0.0ms preprocess, 45.4ms inference, 0.0ms postprocess per image at shape (1, 3, 480, 640)\n",
      "Bounding box: (36, 206), (405, 480)\n",
      "Center: (220, 343)\n",
      "\n",
      "0: 480x640 (no detections), 44.7ms\n",
      "Speed: 0.5ms preprocess, 44.7ms inference, 0.0ms postprocess per image at shape (1, 3, 480, 640)\n",
      "\n",
      "0: 480x640 (no detections), 44.7ms\n",
      "Speed: 2.2ms preprocess, 44.7ms inference, 0.0ms postprocess per image at shape (1, 3, 480, 640)\n",
      "\n",
      "0: 480x640 (no detections), 43.4ms\n",
      "Speed: 0.0ms preprocess, 43.4ms inference, 1.0ms postprocess per image at shape (1, 3, 480, 640)\n",
      "\n",
      "0: 480x640 (no detections), 44.5ms\n",
      "Speed: 0.6ms preprocess, 44.5ms inference, 1.0ms postprocess per image at shape (1, 3, 480, 640)\n",
      "\n",
      "0: 480x640 1 Q, 46.5ms\n",
      "Speed: 1.5ms preprocess, 46.5ms inference, 1.0ms postprocess per image at shape (1, 3, 480, 640)\n",
      "Bounding box: (75, 209), (398, 480)\n",
      "Center: (236, 344)\n",
      "\n",
      "0: 480x640 1 Q, 43.6ms\n",
      "Speed: 1.5ms preprocess, 43.6ms inference, 0.0ms postprocess per image at shape (1, 3, 480, 640)\n",
      "Bounding box: (75, 206), (406, 480)\n",
      "Center: (240, 343)\n",
      "\n",
      "0: 480x640 (no detections), 44.1ms\n",
      "Speed: 0.5ms preprocess, 44.1ms inference, 0.0ms postprocess per image at shape (1, 3, 480, 640)\n",
      "\n",
      "0: 480x640 (no detections), 60.3ms\n",
      "Speed: 0.5ms preprocess, 60.3ms inference, 0.0ms postprocess per image at shape (1, 3, 480, 640)\n",
      "\n",
      "0: 480x640 (no detections), 50.7ms\n",
      "Speed: 0.0ms preprocess, 50.7ms inference, 0.0ms postprocess per image at shape (1, 3, 480, 640)\n",
      "\n",
      "0: 480x640 (no detections), 59.9ms\n",
      "Speed: 1.0ms preprocess, 59.9ms inference, 1.0ms postprocess per image at shape (1, 3, 480, 640)\n",
      "\n",
      "0: 480x640 1 Q, 47.9ms\n",
      "Speed: 0.0ms preprocess, 47.9ms inference, 1.0ms postprocess per image at shape (1, 3, 480, 640)\n",
      "Bounding box: (71, 208), (428, 479)\n",
      "Center: (249, 343)\n",
      "\n",
      "0: 480x640 1 Q, 48.6ms\n",
      "Speed: 0.0ms preprocess, 48.6ms inference, 0.0ms postprocess per image at shape (1, 3, 480, 640)\n",
      "Bounding box: (70, 212), (409, 479)\n",
      "Center: (239, 345)\n",
      "\n",
      "0: 480x640 1 Q, 45.4ms\n",
      "Speed: 0.0ms preprocess, 45.4ms inference, 1.0ms postprocess per image at shape (1, 3, 480, 640)\n",
      "Bounding box: (63, 211), (405, 480)\n",
      "Center: (234, 345)\n",
      "\n",
      "0: 480x640 (no detections), 47.0ms\n",
      "Speed: 0.0ms preprocess, 47.0ms inference, 0.0ms postprocess per image at shape (1, 3, 480, 640)\n",
      "\n",
      "0: 480x640 (no detections), 48.3ms\n",
      "Speed: 1.3ms preprocess, 48.3ms inference, 1.0ms postprocess per image at shape (1, 3, 480, 640)\n",
      "\n",
      "0: 480x640 (no detections), 44.4ms\n",
      "Speed: 0.6ms preprocess, 44.4ms inference, 1.0ms postprocess per image at shape (1, 3, 480, 640)\n",
      "\n",
      "0: 480x640 (no detections), 47.4ms\n",
      "Speed: 1.5ms preprocess, 47.4ms inference, 0.0ms postprocess per image at shape (1, 3, 480, 640)\n",
      "\n",
      "0: 480x640 (no detections), 45.9ms\n",
      "Speed: 2.0ms preprocess, 45.9ms inference, 1.0ms postprocess per image at shape (1, 3, 480, 640)\n",
      "\n",
      "0: 480x640 (no detections), 43.8ms\n",
      "Speed: 1.9ms preprocess, 43.8ms inference, 0.0ms postprocess per image at shape (1, 3, 480, 640)\n",
      "\n",
      "0: 480x640 (no detections), 46.0ms\n",
      "Speed: 2.2ms preprocess, 46.0ms inference, 0.0ms postprocess per image at shape (1, 3, 480, 640)\n",
      "\n",
      "0: 480x640 (no detections), 50.1ms\n",
      "Speed: 1.4ms preprocess, 50.1ms inference, 0.0ms postprocess per image at shape (1, 3, 480, 640)\n",
      "\n",
      "0: 480x640 (no detections), 59.4ms\n",
      "Speed: 1.4ms preprocess, 59.4ms inference, 1.0ms postprocess per image at shape (1, 3, 480, 640)\n",
      "\n",
      "0: 480x640 (no detections), 56.9ms\n",
      "Speed: 3.3ms preprocess, 56.9ms inference, 0.0ms postprocess per image at shape (1, 3, 480, 640)\n",
      "\n",
      "0: 480x640 (no detections), 48.9ms\n",
      "Speed: 0.0ms preprocess, 48.9ms inference, 0.0ms postprocess per image at shape (1, 3, 480, 640)\n",
      "\n",
      "0: 480x640 1 Q, 47.1ms\n",
      "Speed: 1.7ms preprocess, 47.1ms inference, 1.0ms postprocess per image at shape (1, 3, 480, 640)\n",
      "Bounding box: (54, 214), (413, 479)\n",
      "Center: (233, 346)\n",
      "\n",
      "0: 480x640 1 Q, 47.7ms\n",
      "Speed: 1.9ms preprocess, 47.7ms inference, 0.0ms postprocess per image at shape (1, 3, 480, 640)\n",
      "Bounding box: (53, 212), (409, 479)\n",
      "Center: (231, 345)\n",
      "\n",
      "0: 480x640 (no detections), 45.6ms\n",
      "Speed: 2.1ms preprocess, 45.6ms inference, 0.0ms postprocess per image at shape (1, 3, 480, 640)\n",
      "\n",
      "0: 480x640 (no detections), 46.9ms\n",
      "Speed: 1.0ms preprocess, 46.9ms inference, 1.4ms postprocess per image at shape (1, 3, 480, 640)\n",
      "\n",
      "0: 480x640 (no detections), 46.7ms\n",
      "Speed: 1.9ms preprocess, 46.7ms inference, 1.0ms postprocess per image at shape (1, 3, 480, 640)\n",
      "\n",
      "0: 480x640 1 Q, 45.8ms\n",
      "Speed: 1.8ms preprocess, 45.8ms inference, 1.0ms postprocess per image at shape (1, 3, 480, 640)\n",
      "Bounding box: (59, 214), (403, 480)\n",
      "Center: (231, 347)\n",
      "\n",
      "0: 480x640 (no detections), 44.4ms\n",
      "Speed: 1.6ms preprocess, 44.4ms inference, 1.1ms postprocess per image at shape (1, 3, 480, 640)\n",
      "\n",
      "0: 480x640 1 Q, 45.1ms\n",
      "Speed: 2.8ms preprocess, 45.1ms inference, 1.0ms postprocess per image at shape (1, 3, 480, 640)\n",
      "Bounding box: (61, 212), (408, 480)\n",
      "Center: (234, 346)\n",
      "\n",
      "0: 480x640 1 Q, 43.1ms\n",
      "Speed: 2.0ms preprocess, 43.1ms inference, 1.0ms postprocess per image at shape (1, 3, 480, 640)\n",
      "Bounding box: (55, 212), (411, 479)\n",
      "Center: (233, 345)\n",
      "\n",
      "0: 480x640 1 Q, 44.1ms\n",
      "Speed: 1.3ms preprocess, 44.1ms inference, 0.0ms postprocess per image at shape (1, 3, 480, 640)\n",
      "Bounding box: (55, 212), (410, 479)\n",
      "Center: (232, 345)\n",
      "\n",
      "0: 480x640 (no detections), 47.3ms\n",
      "Speed: 1.3ms preprocess, 47.3ms inference, 1.0ms postprocess per image at shape (1, 3, 480, 640)\n",
      "\n",
      "0: 480x640 (no detections), 45.9ms\n",
      "Speed: 1.6ms preprocess, 45.9ms inference, 1.0ms postprocess per image at shape (1, 3, 480, 640)\n",
      "\n",
      "0: 480x640 1 Q, 45.8ms\n",
      "Speed: 1.9ms preprocess, 45.8ms inference, 1.0ms postprocess per image at shape (1, 3, 480, 640)\n",
      "Bounding box: (62, 211), (402, 479)\n",
      "Center: (232, 345)\n",
      "\n",
      "0: 480x640 1 Q, 44.7ms\n",
      "Speed: 2.0ms preprocess, 44.7ms inference, 1.0ms postprocess per image at shape (1, 3, 480, 640)\n",
      "Bounding box: (51, 214), (418, 479)\n",
      "Center: (234, 346)\n",
      "\n",
      "0: 480x640 (no detections), 45.6ms\n",
      "Speed: 1.8ms preprocess, 45.6ms inference, 0.0ms postprocess per image at shape (1, 3, 480, 640)\n",
      "\n",
      "0: 480x640 1 Q, 44.4ms\n",
      "Speed: 2.1ms preprocess, 44.4ms inference, 1.1ms postprocess per image at shape (1, 3, 480, 640)\n",
      "Bounding box: (55, 212), (420, 480)\n",
      "Center: (237, 346)\n",
      "\n",
      "0: 480x640 (no detections), 46.6ms\n",
      "Speed: 2.0ms preprocess, 46.6ms inference, 1.0ms postprocess per image at shape (1, 3, 480, 640)\n",
      "\n",
      "0: 480x640 1 Q, 46.4ms\n",
      "Speed: 2.0ms preprocess, 46.4ms inference, 1.0ms postprocess per image at shape (1, 3, 480, 640)\n",
      "Bounding box: (61, 212), (464, 479)\n",
      "Center: (262, 345)\n",
      "\n",
      "0: 480x640 1 Q, 45.2ms\n",
      "Speed: 2.0ms preprocess, 45.2ms inference, 1.0ms postprocess per image at shape (1, 3, 480, 640)\n",
      "Bounding box: (62, 212), (407, 479)\n",
      "Center: (234, 345)\n",
      "\n",
      "0: 480x640 (no detections), 46.7ms\n",
      "Speed: 1.9ms preprocess, 46.7ms inference, 1.0ms postprocess per image at shape (1, 3, 480, 640)\n",
      "\n",
      "0: 480x640 1 Q, 45.0ms\n",
      "Speed: 2.0ms preprocess, 45.0ms inference, 1.0ms postprocess per image at shape (1, 3, 480, 640)\n",
      "Bounding box: (65, 212), (428, 479)\n",
      "Center: (246, 345)\n",
      "\n",
      "0: 480x640 1 Q, 44.5ms\n",
      "Speed: 2.0ms preprocess, 44.5ms inference, 1.1ms postprocess per image at shape (1, 3, 480, 640)\n",
      "Bounding box: (63, 213), (413, 479)\n",
      "Center: (238, 346)\n",
      "\n",
      "0: 480x640 (no detections), 44.0ms\n",
      "Speed: 2.0ms preprocess, 44.0ms inference, 0.0ms postprocess per image at shape (1, 3, 480, 640)\n",
      "\n",
      "0: 480x640 1 Q, 48.1ms\n",
      "Speed: 2.0ms preprocess, 48.1ms inference, 0.0ms postprocess per image at shape (1, 3, 480, 640)\n",
      "Bounding box: (63, 211), (419, 479)\n",
      "Center: (241, 345)\n",
      "\n",
      "0: 480x640 (no detections), 43.4ms\n",
      "Speed: 1.0ms preprocess, 43.4ms inference, 0.0ms postprocess per image at shape (1, 3, 480, 640)\n",
      "\n",
      "0: 480x640 1 Q, 43.9ms\n",
      "Speed: 2.0ms preprocess, 43.9ms inference, 1.6ms postprocess per image at shape (1, 3, 480, 640)\n",
      "Bounding box: (57, 211), (411, 479)\n",
      "Center: (234, 345)\n",
      "\n",
      "0: 480x640 1 Q, 47.4ms\n"
     ]
    },
    {
     "name": "stdout",
     "output_type": "stream",
     "text": [
      "Speed: 2.2ms preprocess, 47.4ms inference, 1.0ms postprocess per image at shape (1, 3, 480, 640)\n",
      "Bounding box: (58, 210), (445, 479)\n",
      "Center: (251, 344)\n",
      "\n",
      "0: 480x640 (no detections), 45.5ms\n",
      "Speed: 2.0ms preprocess, 45.5ms inference, 0.3ms postprocess per image at shape (1, 3, 480, 640)\n",
      "\n",
      "0: 480x640 (no detections), 43.5ms\n",
      "Speed: 2.0ms preprocess, 43.5ms inference, 1.0ms postprocess per image at shape (1, 3, 480, 640)\n",
      "\n",
      "0: 480x640 1 Q, 46.9ms\n",
      "Speed: 0.5ms preprocess, 46.9ms inference, 0.0ms postprocess per image at shape (1, 3, 480, 640)\n",
      "Bounding box: (64, 212), (412, 479)\n",
      "Center: (238, 345)\n",
      "\n",
      "0: 480x640 1 Q, 45.2ms\n",
      "Speed: 2.5ms preprocess, 45.2ms inference, 1.0ms postprocess per image at shape (1, 3, 480, 640)\n",
      "Bounding box: (65, 213), (402, 479)\n",
      "Center: (233, 346)\n",
      "\n",
      "0: 480x640 1 Q, 46.2ms\n",
      "Speed: 0.5ms preprocess, 46.2ms inference, 0.6ms postprocess per image at shape (1, 3, 480, 640)\n",
      "Bounding box: (55, 212), (426, 480)\n",
      "Center: (240, 346)\n",
      "\n",
      "0: 480x640 (no detections), 63.1ms\n",
      "Speed: 0.6ms preprocess, 63.1ms inference, 0.0ms postprocess per image at shape (1, 3, 480, 640)\n",
      "\n",
      "0: 480x640 1 J, 48.7ms\n",
      "Speed: 0.0ms preprocess, 48.7ms inference, 0.0ms postprocess per image at shape (1, 3, 480, 640)\n",
      "Bounding box: (49, 212), (421, 480)\n",
      "Center: (235, 346)\n",
      "\n",
      "0: 480x640 (no detections), 45.8ms\n",
      "Speed: 0.0ms preprocess, 45.8ms inference, 1.0ms postprocess per image at shape (1, 3, 480, 640)\n",
      "\n",
      "0: 480x640 (no detections), 45.4ms\n",
      "Speed: 0.5ms preprocess, 45.4ms inference, 0.0ms postprocess per image at shape (1, 3, 480, 640)\n",
      "\n",
      "0: 480x640 (no detections), 47.7ms\n",
      "Speed: 0.5ms preprocess, 47.7ms inference, 0.0ms postprocess per image at shape (1, 3, 480, 640)\n",
      "\n",
      "0: 480x640 (no detections), 46.2ms\n",
      "Speed: 0.0ms preprocess, 46.2ms inference, 0.5ms postprocess per image at shape (1, 3, 480, 640)\n",
      "\n",
      "0: 480x640 (no detections), 44.0ms\n",
      "Speed: 1.8ms preprocess, 44.0ms inference, 0.0ms postprocess per image at shape (1, 3, 480, 640)\n",
      "\n",
      "0: 480x640 (no detections), 45.3ms\n",
      "Speed: 0.5ms preprocess, 45.3ms inference, 1.0ms postprocess per image at shape (1, 3, 480, 640)\n",
      "\n",
      "0: 480x640 (no detections), 45.6ms\n",
      "Speed: 2.1ms preprocess, 45.6ms inference, 0.0ms postprocess per image at shape (1, 3, 480, 640)\n",
      "\n",
      "0: 480x640 (no detections), 47.8ms\n",
      "Speed: 1.8ms preprocess, 47.8ms inference, 0.0ms postprocess per image at shape (1, 3, 480, 640)\n",
      "\n",
      "0: 480x640 (no detections), 47.7ms\n",
      "Speed: 0.5ms preprocess, 47.7ms inference, 0.0ms postprocess per image at shape (1, 3, 480, 640)\n",
      "\n",
      "0: 480x640 (no detections), 53.3ms\n",
      "Speed: 1.0ms preprocess, 53.3ms inference, 0.0ms postprocess per image at shape (1, 3, 480, 640)\n",
      "\n",
      "0: 480x640 (no detections), 52.3ms\n",
      "Speed: 0.0ms preprocess, 52.3ms inference, 1.0ms postprocess per image at shape (1, 3, 480, 640)\n",
      "\n",
      "0: 480x640 (no detections), 46.0ms\n",
      "Speed: 1.7ms preprocess, 46.0ms inference, 0.0ms postprocess per image at shape (1, 3, 480, 640)\n",
      "\n",
      "0: 480x640 (no detections), 48.9ms\n",
      "Speed: 0.0ms preprocess, 48.9ms inference, 0.0ms postprocess per image at shape (1, 3, 480, 640)\n",
      "\n",
      "0: 480x640 (no detections), 44.9ms\n",
      "Speed: 2.0ms preprocess, 44.9ms inference, 1.0ms postprocess per image at shape (1, 3, 480, 640)\n",
      "\n",
      "0: 480x640 (no detections), 48.3ms\n",
      "Speed: 2.0ms preprocess, 48.3ms inference, 0.0ms postprocess per image at shape (1, 3, 480, 640)\n",
      "\n",
      "0: 480x640 (no detections), 44.8ms\n",
      "Speed: 1.3ms preprocess, 44.8ms inference, 0.0ms postprocess per image at shape (1, 3, 480, 640)\n",
      "\n",
      "0: 480x640 (no detections), 45.1ms\n",
      "Speed: 1.6ms preprocess, 45.1ms inference, 1.0ms postprocess per image at shape (1, 3, 480, 640)\n",
      "\n",
      "0: 480x640 (no detections), 43.6ms\n",
      "Speed: 1.8ms preprocess, 43.6ms inference, 1.0ms postprocess per image at shape (1, 3, 480, 640)\n",
      "\n",
      "0: 480x640 (no detections), 45.0ms\n",
      "Speed: 0.8ms preprocess, 45.0ms inference, 1.0ms postprocess per image at shape (1, 3, 480, 640)\n",
      "\n",
      "0: 480x640 (no detections), 43.9ms\n",
      "Speed: 2.0ms preprocess, 43.9ms inference, 1.0ms postprocess per image at shape (1, 3, 480, 640)\n",
      "\n",
      "0: 480x640 (no detections), 45.6ms\n",
      "Speed: 1.5ms preprocess, 45.6ms inference, 0.0ms postprocess per image at shape (1, 3, 480, 640)\n",
      "\n",
      "0: 480x640 1 J, 45.9ms\n",
      "Speed: 1.0ms preprocess, 45.9ms inference, 0.0ms postprocess per image at shape (1, 3, 480, 640)\n",
      "Bounding box: (69, 250), (274, 480)\n",
      "Center: (171, 365)\n",
      "\n",
      "0: 480x640 1 J, 48.3ms\n",
      "Speed: 0.5ms preprocess, 48.3ms inference, 0.0ms postprocess per image at shape (1, 3, 480, 640)\n",
      "Bounding box: (68, 330), (277, 480)\n",
      "Center: (172, 405)\n",
      "\n",
      "0: 480x640 (no detections), 46.1ms\n",
      "Speed: 1.9ms preprocess, 46.1ms inference, 1.0ms postprocess per image at shape (1, 3, 480, 640)\n",
      "\n",
      "0: 480x640 1 J, 43.7ms\n",
      "Speed: 1.5ms preprocess, 43.7ms inference, 1.0ms postprocess per image at shape (1, 3, 480, 640)\n",
      "Bounding box: (66, 332), (287, 480)\n",
      "Center: (176, 406)\n",
      "\n",
      "0: 480x640 (no detections), 46.0ms\n",
      "Speed: 1.9ms preprocess, 46.0ms inference, 0.0ms postprocess per image at shape (1, 3, 480, 640)\n",
      "\n",
      "0: 480x640 1 J, 69.5ms\n",
      "Speed: 2.2ms preprocess, 69.5ms inference, 1.2ms postprocess per image at shape (1, 3, 480, 640)\n",
      "Bounding box: (67, 323), (287, 480)\n",
      "Center: (177, 401)\n",
      "\n",
      "0: 480x640 1 J, 73.4ms\n",
      "Speed: 2.4ms preprocess, 73.4ms inference, 1.0ms postprocess per image at shape (1, 3, 480, 640)\n",
      "Bounding box: (66, 248), (323, 480)\n",
      "Center: (194, 364)\n",
      "\n",
      "0: 480x640 (no detections), 48.7ms\n",
      "Speed: 0.0ms preprocess, 48.7ms inference, 1.0ms postprocess per image at shape (1, 3, 480, 640)\n",
      "\n",
      "0: 480x640 (no detections), 52.1ms\n",
      "Speed: 2.1ms preprocess, 52.1ms inference, 1.0ms postprocess per image at shape (1, 3, 480, 640)\n",
      "\n",
      "0: 480x640 (no detections), 63.0ms\n",
      "Speed: 1.9ms preprocess, 63.0ms inference, 0.0ms postprocess per image at shape (1, 3, 480, 640)\n",
      "\n",
      "0: 480x640 (no detections), 67.0ms\n",
      "Speed: 1.1ms preprocess, 67.0ms inference, 0.6ms postprocess per image at shape (1, 3, 480, 640)\n",
      "\n",
      "0: 480x640 (no detections), 55.0ms\n",
      "Speed: 1.4ms preprocess, 55.0ms inference, 0.0ms postprocess per image at shape (1, 3, 480, 640)\n",
      "\n",
      "0: 480x640 (no detections), 57.8ms\n",
      "Speed: 1.0ms preprocess, 57.8ms inference, 0.0ms postprocess per image at shape (1, 3, 480, 640)\n",
      "\n",
      "0: 480x640 (no detections), 59.8ms\n",
      "Speed: 1.1ms preprocess, 59.8ms inference, 0.0ms postprocess per image at shape (1, 3, 480, 640)\n",
      "\n",
      "0: 480x640 1 J, 48.5ms\n",
      "Speed: 2.4ms preprocess, 48.5ms inference, 0.0ms postprocess per image at shape (1, 3, 480, 640)\n",
      "Bounding box: (66, 251), (322, 480)\n",
      "Center: (194, 365)\n",
      "\n",
      "0: 480x640 1 J, 44.5ms\n",
      "Speed: 1.5ms preprocess, 44.5ms inference, 1.1ms postprocess per image at shape (1, 3, 480, 640)\n",
      "Bounding box: (67, 314), (281, 480)\n",
      "Center: (174, 397)\n",
      "\n",
      "0: 480x640 (no detections), 52.6ms\n",
      "Speed: 1.9ms preprocess, 52.6ms inference, 1.0ms postprocess per image at shape (1, 3, 480, 640)\n",
      "\n",
      "0: 480x640 (no detections), 59.0ms\n",
      "Speed: 2.5ms preprocess, 59.0ms inference, 0.5ms postprocess per image at shape (1, 3, 480, 640)\n",
      "\n",
      "0: 480x640 (no detections), 72.2ms\n",
      "Speed: 2.9ms preprocess, 72.2ms inference, 0.0ms postprocess per image at shape (1, 3, 480, 640)\n",
      "\n",
      "0: 480x640 1 J, 64.2ms\n",
      "Speed: 2.1ms preprocess, 64.2ms inference, 1.0ms postprocess per image at shape (1, 3, 480, 640)\n",
      "Bounding box: (59, 291), (391, 480)\n",
      "Center: (225, 385)\n",
      "\n",
      "0: 480x640 (no detections), 50.4ms\n",
      "Speed: 2.0ms preprocess, 50.4ms inference, 0.0ms postprocess per image at shape (1, 3, 480, 640)\n",
      "\n",
      "0: 480x640 (no detections), 58.3ms\n",
      "Speed: 1.7ms preprocess, 58.3ms inference, 0.0ms postprocess per image at shape (1, 3, 480, 640)\n",
      "\n",
      "0: 480x640 (no detections), 59.2ms\n",
      "Speed: 3.3ms preprocess, 59.2ms inference, 0.0ms postprocess per image at shape (1, 3, 480, 640)\n",
      "\n",
      "0: 480x640 (no detections), 52.1ms\n",
      "Speed: 2.2ms preprocess, 52.1ms inference, 1.0ms postprocess per image at shape (1, 3, 480, 640)\n",
      "\n",
      "0: 480x640 (no detections), 45.7ms\n",
      "Speed: 2.2ms preprocess, 45.7ms inference, 1.0ms postprocess per image at shape (1, 3, 480, 640)\n",
      "\n",
      "0: 480x640 (no detections), 69.9ms\n",
      "Speed: 2.0ms preprocess, 69.9ms inference, 1.5ms postprocess per image at shape (1, 3, 480, 640)\n",
      "\n",
      "0: 480x640 (no detections), 58.3ms\n",
      "Speed: 2.0ms preprocess, 58.3ms inference, 0.0ms postprocess per image at shape (1, 3, 480, 640)\n",
      "\n",
      "0: 480x640 1 J, 56.7ms\n",
      "Speed: 2.5ms preprocess, 56.7ms inference, 1.1ms postprocess per image at shape (1, 3, 480, 640)\n",
      "Bounding box: (63, 339), (276, 480)\n",
      "Center: (169, 409)\n",
      "\n",
      "0: 480x640 (no detections), 60.4ms\n"
     ]
    },
    {
     "name": "stdout",
     "output_type": "stream",
     "text": [
      "Speed: 0.0ms preprocess, 60.4ms inference, 0.7ms postprocess per image at shape (1, 3, 480, 640)\n",
      "\n",
      "0: 480x640 (no detections), 67.0ms\n",
      "Speed: 1.4ms preprocess, 67.0ms inference, 0.6ms postprocess per image at shape (1, 3, 480, 640)\n",
      "\n",
      "0: 480x640 (no detections), 54.7ms\n",
      "Speed: 2.1ms preprocess, 54.7ms inference, 0.0ms postprocess per image at shape (1, 3, 480, 640)\n",
      "\n",
      "0: 480x640 (no detections), 51.3ms\n",
      "Speed: 1.4ms preprocess, 51.3ms inference, 1.0ms postprocess per image at shape (1, 3, 480, 640)\n",
      "\n",
      "0: 480x640 (no detections), 48.0ms\n",
      "Speed: 1.0ms preprocess, 48.0ms inference, 0.0ms postprocess per image at shape (1, 3, 480, 640)\n",
      "\n",
      "0: 480x640 (no detections), 45.4ms\n",
      "Speed: 0.0ms preprocess, 45.4ms inference, 1.0ms postprocess per image at shape (1, 3, 480, 640)\n",
      "\n",
      "0: 480x640 (no detections), 48.8ms\n",
      "Speed: 0.5ms preprocess, 48.8ms inference, 0.0ms postprocess per image at shape (1, 3, 480, 640)\n",
      "\n",
      "0: 480x640 (no detections), 48.9ms\n",
      "Speed: 0.5ms preprocess, 48.9ms inference, 1.0ms postprocess per image at shape (1, 3, 480, 640)\n",
      "\n",
      "0: 480x640 (no detections), 51.4ms\n",
      "Speed: 0.5ms preprocess, 51.4ms inference, 0.0ms postprocess per image at shape (1, 3, 480, 640)\n",
      "\n",
      "0: 480x640 (no detections), 58.9ms\n",
      "Speed: 2.0ms preprocess, 58.9ms inference, 1.1ms postprocess per image at shape (1, 3, 480, 640)\n",
      "\n",
      "0: 480x640 (no detections), 68.2ms\n",
      "Speed: 0.7ms preprocess, 68.2ms inference, 1.4ms postprocess per image at shape (1, 3, 480, 640)\n",
      "\n",
      "0: 480x640 (no detections), 58.1ms\n",
      "Speed: 1.3ms preprocess, 58.1ms inference, 1.4ms postprocess per image at shape (1, 3, 480, 640)\n",
      "\n",
      "0: 480x640 (no detections), 57.2ms\n",
      "Speed: 2.7ms preprocess, 57.2ms inference, 1.8ms postprocess per image at shape (1, 3, 480, 640)\n",
      "\n",
      "0: 480x640 (no detections), 57.9ms\n",
      "Speed: 3.5ms preprocess, 57.9ms inference, 0.0ms postprocess per image at shape (1, 3, 480, 640)\n",
      "\n",
      "0: 480x640 (no detections), 49.6ms\n",
      "Speed: 3.3ms preprocess, 49.6ms inference, 1.0ms postprocess per image at shape (1, 3, 480, 640)\n",
      "\n",
      "0: 480x640 (no detections), 47.9ms\n",
      "Speed: 0.0ms preprocess, 47.9ms inference, 0.0ms postprocess per image at shape (1, 3, 480, 640)\n",
      "\n",
      "0: 480x640 (no detections), 46.8ms\n",
      "Speed: 2.4ms preprocess, 46.8ms inference, 1.0ms postprocess per image at shape (1, 3, 480, 640)\n",
      "\n",
      "0: 480x640 (no detections), 46.0ms\n",
      "Speed: 1.4ms preprocess, 46.0ms inference, 0.2ms postprocess per image at shape (1, 3, 480, 640)\n",
      "\n",
      "0: 480x640 (no detections), 54.8ms\n",
      "Speed: 1.2ms preprocess, 54.8ms inference, 1.0ms postprocess per image at shape (1, 3, 480, 640)\n",
      "\n",
      "0: 480x640 (no detections), 69.2ms\n",
      "Speed: 2.4ms preprocess, 69.2ms inference, 0.0ms postprocess per image at shape (1, 3, 480, 640)\n",
      "\n",
      "0: 480x640 (no detections), 62.4ms\n",
      "Speed: 2.3ms preprocess, 62.4ms inference, 0.0ms postprocess per image at shape (1, 3, 480, 640)\n",
      "\n",
      "0: 480x640 1 J, 47.0ms\n",
      "Speed: 1.0ms preprocess, 47.0ms inference, 1.0ms postprocess per image at shape (1, 3, 480, 640)\n",
      "Bounding box: (50, 204), (430, 480)\n",
      "Center: (240, 342)\n",
      "\n",
      "0: 480x640 1 J, 59.0ms\n",
      "Speed: 2.2ms preprocess, 59.0ms inference, 1.1ms postprocess per image at shape (1, 3, 480, 640)\n",
      "Bounding box: (63, 212), (442, 480)\n",
      "Center: (252, 346)\n",
      "\n",
      "0: 480x640 (no detections), 58.6ms\n",
      "Speed: 3.3ms preprocess, 58.6ms inference, 1.3ms postprocess per image at shape (1, 3, 480, 640)\n",
      "\n",
      "0: 480x640 (no detections), 51.4ms\n",
      "Speed: 0.0ms preprocess, 51.4ms inference, 0.0ms postprocess per image at shape (1, 3, 480, 640)\n",
      "\n",
      "0: 480x640 (no detections), 48.6ms\n",
      "Speed: 1.6ms preprocess, 48.6ms inference, 1.0ms postprocess per image at shape (1, 3, 480, 640)\n",
      "\n",
      "0: 480x640 (no detections), 46.0ms\n",
      "Speed: 1.0ms preprocess, 46.0ms inference, 1.0ms postprocess per image at shape (1, 3, 480, 640)\n",
      "\n",
      "0: 480x640 (no detections), 57.2ms\n",
      "Speed: 2.2ms preprocess, 57.2ms inference, 0.0ms postprocess per image at shape (1, 3, 480, 640)\n",
      "\n",
      "0: 480x640 (no detections), 57.8ms\n",
      "Speed: 2.9ms preprocess, 57.8ms inference, 0.0ms postprocess per image at shape (1, 3, 480, 640)\n",
      "\n",
      "0: 480x640 (no detections), 50.7ms\n",
      "Speed: 1.7ms preprocess, 50.7ms inference, 0.0ms postprocess per image at shape (1, 3, 480, 640)\n",
      "\n",
      "0: 480x640 (no detections), 50.1ms\n",
      "Speed: 0.0ms preprocess, 50.1ms inference, 1.0ms postprocess per image at shape (1, 3, 480, 640)\n",
      "\n",
      "0: 480x640 (no detections), 48.4ms\n",
      "Speed: 2.0ms preprocess, 48.4ms inference, 0.0ms postprocess per image at shape (1, 3, 480, 640)\n",
      "\n",
      "0: 480x640 (no detections), 48.9ms\n",
      "Speed: 1.9ms preprocess, 48.9ms inference, 0.0ms postprocess per image at shape (1, 3, 480, 640)\n",
      "\n",
      "0: 480x640 (no detections), 44.8ms\n",
      "Speed: 1.9ms preprocess, 44.8ms inference, 0.0ms postprocess per image at shape (1, 3, 480, 640)\n",
      "\n",
      "0: 480x640 1 K, 46.0ms\n",
      "Speed: 1.7ms preprocess, 46.0ms inference, 1.0ms postprocess per image at shape (1, 3, 480, 640)\n",
      "Bounding box: (116, 233), (457, 480)\n",
      "Center: (286, 356)\n",
      "\n",
      "0: 480x640 (no detections), 48.3ms\n",
      "Speed: 1.9ms preprocess, 48.3ms inference, 1.0ms postprocess per image at shape (1, 3, 480, 640)\n",
      "\n",
      "0: 480x640 (no detections), 57.6ms\n",
      "Speed: 2.4ms preprocess, 57.6ms inference, 1.0ms postprocess per image at shape (1, 3, 480, 640)\n",
      "\n",
      "0: 480x640 (no detections), 70.0ms\n",
      "Speed: 1.8ms preprocess, 70.0ms inference, 1.0ms postprocess per image at shape (1, 3, 480, 640)\n",
      "\n",
      "0: 480x640 (no detections), 67.1ms\n",
      "Speed: 1.8ms preprocess, 67.1ms inference, 0.0ms postprocess per image at shape (1, 3, 480, 640)\n",
      "\n",
      "0: 480x640 1 J, 56.5ms\n",
      "Speed: 1.8ms preprocess, 56.5ms inference, 1.5ms postprocess per image at shape (1, 3, 480, 640)\n",
      "Bounding box: (115, 231), (300, 480)\n",
      "Center: (207, 355)\n",
      "\n",
      "0: 480x640 (no detections), 49.9ms\n",
      "Speed: 0.0ms preprocess, 49.9ms inference, 0.0ms postprocess per image at shape (1, 3, 480, 640)\n",
      "\n",
      "0: 480x640 1 K, 44.8ms\n",
      "Speed: 2.1ms preprocess, 44.8ms inference, 1.4ms postprocess per image at shape (1, 3, 480, 640)\n",
      "Bounding box: (101, 227), (410, 479)\n",
      "Center: (255, 353)\n",
      "\n",
      "0: 480x640 (no detections), 54.8ms\n",
      "Speed: 2.0ms preprocess, 54.8ms inference, 1.0ms postprocess per image at shape (1, 3, 480, 640)\n",
      "\n",
      "0: 480x640 (no detections), 59.3ms\n",
      "Speed: 1.4ms preprocess, 59.3ms inference, 1.1ms postprocess per image at shape (1, 3, 480, 640)\n",
      "\n",
      "0: 480x640 (no detections), 55.4ms\n",
      "Speed: 1.1ms preprocess, 55.4ms inference, 1.0ms postprocess per image at shape (1, 3, 480, 640)\n",
      "\n",
      "0: 480x640 (no detections), 47.6ms\n",
      "Speed: 2.0ms preprocess, 47.6ms inference, 1.0ms postprocess per image at shape (1, 3, 480, 640)\n",
      "\n",
      "0: 480x640 1 J, 48.6ms\n",
      "Speed: 1.4ms preprocess, 48.6ms inference, 1.0ms postprocess per image at shape (1, 3, 480, 640)\n",
      "Bounding box: (115, 233), (313, 480)\n",
      "Center: (214, 356)\n",
      "\n",
      "0: 480x640 (no detections), 45.6ms\n",
      "Speed: 2.0ms preprocess, 45.6ms inference, 0.0ms postprocess per image at shape (1, 3, 480, 640)\n",
      "\n",
      "0: 480x640 (no detections), 46.8ms\n",
      "Speed: 1.9ms preprocess, 46.8ms inference, 0.0ms postprocess per image at shape (1, 3, 480, 640)\n",
      "\n",
      "0: 480x640 (no detections), 46.5ms\n",
      "Speed: 2.3ms preprocess, 46.5ms inference, 0.0ms postprocess per image at shape (1, 3, 480, 640)\n",
      "\n",
      "0: 480x640 (no detections), 50.8ms\n",
      "Speed: 0.0ms preprocess, 50.8ms inference, 0.0ms postprocess per image at shape (1, 3, 480, 640)\n",
      "\n",
      "0: 480x640 (no detections), 49.4ms\n",
      "Speed: 0.0ms preprocess, 49.4ms inference, 0.0ms postprocess per image at shape (1, 3, 480, 640)\n",
      "\n",
      "0: 480x640 (no detections), 49.1ms\n",
      "Speed: 2.0ms preprocess, 49.1ms inference, 1.0ms postprocess per image at shape (1, 3, 480, 640)\n",
      "\n",
      "0: 480x640 (no detections), 65.5ms\n",
      "Speed: 2.1ms preprocess, 65.5ms inference, 0.0ms postprocess per image at shape (1, 3, 480, 640)\n",
      "\n",
      "0: 480x640 1 J, 51.6ms\n",
      "Speed: 2.1ms preprocess, 51.6ms inference, 1.0ms postprocess per image at shape (1, 3, 480, 640)\n",
      "Bounding box: (25, 253), (240, 480)\n",
      "Center: (132, 366)\n",
      "\n",
      "0: 480x640 (no detections), 52.9ms\n",
      "Speed: 2.7ms preprocess, 52.9ms inference, 1.0ms postprocess per image at shape (1, 3, 480, 640)\n",
      "\n",
      "0: 480x640 1 J, 47.4ms\n",
      "Speed: 2.2ms preprocess, 47.4ms inference, 0.0ms postprocess per image at shape (1, 3, 480, 640)\n",
      "Bounding box: (0, 257), (234, 479)\n",
      "Center: (117, 368)\n",
      "\n",
      "0: 480x640 1 J, 46.6ms\n",
      "Speed: 2.0ms preprocess, 46.6ms inference, 1.0ms postprocess per image at shape (1, 3, 480, 640)\n",
      "Bounding box: (1, 259), (230, 480)\n",
      "Center: (115, 369)\n",
      "\n",
      "0: 480x640 1 J, 48.4ms\n",
      "Speed: 1.7ms preprocess, 48.4ms inference, 0.0ms postprocess per image at shape (1, 3, 480, 640)\n",
      "Bounding box: (0, 247), (228, 479)\n",
      "Center: (114, 363)\n",
      "\n"
     ]
    },
    {
     "name": "stdout",
     "output_type": "stream",
     "text": [
      "0: 480x640 1 J, 51.1ms\n",
      "Speed: 2.1ms preprocess, 51.1ms inference, 1.0ms postprocess per image at shape (1, 3, 480, 640)\n",
      "Bounding box: (0, 261), (229, 479)\n",
      "Center: (114, 370)\n",
      "\n",
      "0: 480x640 1 J, 46.9ms\n",
      "Speed: 0.5ms preprocess, 46.9ms inference, 1.0ms postprocess per image at shape (1, 3, 480, 640)\n",
      "Bounding box: (0, 228), (231, 480)\n",
      "Center: (115, 354)\n",
      "\n",
      "0: 480x640 1 J, 49.7ms\n",
      "Speed: 0.5ms preprocess, 49.7ms inference, 0.0ms postprocess per image at shape (1, 3, 480, 640)\n",
      "Bounding box: (61, 263), (229, 479)\n",
      "Center: (145, 371)\n",
      "\n",
      "0: 480x640 1 J, 45.4ms\n",
      "Speed: 2.2ms preprocess, 45.4ms inference, 1.0ms postprocess per image at shape (1, 3, 480, 640)\n",
      "Bounding box: (47, 263), (230, 479)\n",
      "Center: (138, 371)\n",
      "\n",
      "0: 480x640 1 J, 48.5ms\n",
      "Speed: 0.0ms preprocess, 48.5ms inference, 1.0ms postprocess per image at shape (1, 3, 480, 640)\n",
      "Bounding box: (44, 261), (229, 479)\n",
      "Center: (136, 370)\n",
      "\n",
      "0: 480x640 1 J, 47.0ms\n",
      "Speed: 0.0ms preprocess, 47.0ms inference, 1.0ms postprocess per image at shape (1, 3, 480, 640)\n",
      "Bounding box: (17, 260), (229, 479)\n",
      "Center: (123, 369)\n",
      "\n",
      "0: 480x640 1 J, 47.0ms\n",
      "Speed: 1.1ms preprocess, 47.0ms inference, 1.3ms postprocess per image at shape (1, 3, 480, 640)\n",
      "Bounding box: (0, 247), (225, 480)\n",
      "Center: (112, 363)\n",
      "\n",
      "0: 480x640 1 J, 46.5ms\n",
      "Speed: 0.5ms preprocess, 46.5ms inference, 1.0ms postprocess per image at shape (1, 3, 480, 640)\n",
      "Bounding box: (0, 205), (228, 479)\n",
      "Center: (114, 342)\n",
      "\n",
      "0: 480x640 (no detections), 47.8ms\n",
      "Speed: 2.1ms preprocess, 47.8ms inference, 1.0ms postprocess per image at shape (1, 3, 480, 640)\n",
      "\n",
      "0: 480x640 1 J, 50.9ms\n",
      "Speed: 2.3ms preprocess, 50.9ms inference, 1.0ms postprocess per image at shape (1, 3, 480, 640)\n",
      "Bounding box: (29, 244), (223, 480)\n",
      "Center: (126, 362)\n",
      "\n",
      "0: 480x640 1 J, 47.5ms\n",
      "Speed: 2.1ms preprocess, 47.5ms inference, 1.0ms postprocess per image at shape (1, 3, 480, 640)\n",
      "Bounding box: (0, 145), (223, 480)\n",
      "Center: (111, 312)\n",
      "\n",
      "0: 480x640 2 Js, 47.5ms\n",
      "Speed: 0.5ms preprocess, 47.5ms inference, 1.0ms postprocess per image at shape (1, 3, 480, 640)\n",
      "Bounding box: (0, 234), (217, 480)\n",
      "Center: (108, 357)\n",
      "Bounding box: (0, 110), (216, 480)\n",
      "Center: (108, 295)\n",
      "\n",
      "0: 480x640 1 J, 54.5ms\n",
      "Speed: 0.8ms preprocess, 54.5ms inference, 1.0ms postprocess per image at shape (1, 3, 480, 640)\n",
      "Bounding box: (0, 111), (215, 480)\n",
      "Center: (107, 295)\n",
      "\n",
      "0: 480x640 1 J, 53.6ms\n",
      "Speed: 2.0ms preprocess, 53.6ms inference, 1.0ms postprocess per image at shape (1, 3, 480, 640)\n",
      "Bounding box: (0, 261), (215, 480)\n",
      "Center: (107, 370)\n",
      "\n",
      "0: 480x640 1 J, 48.7ms\n",
      "Speed: 1.3ms preprocess, 48.7ms inference, 1.0ms postprocess per image at shape (1, 3, 480, 640)\n",
      "Bounding box: (0, 233), (215, 480)\n",
      "Center: (107, 356)\n",
      "\n",
      "0: 480x640 1 J, 47.8ms\n",
      "Speed: 1.1ms preprocess, 47.8ms inference, 1.0ms postprocess per image at shape (1, 3, 480, 640)\n",
      "Bounding box: (10, 267), (219, 480)\n",
      "Center: (114, 373)\n",
      "\n",
      "0: 480x640 (no detections), 47.2ms\n",
      "Speed: 1.3ms preprocess, 47.2ms inference, 1.0ms postprocess per image at shape (1, 3, 480, 640)\n",
      "\n",
      "0: 480x640 (no detections), 47.1ms\n",
      "Speed: 0.5ms preprocess, 47.1ms inference, 0.0ms postprocess per image at shape (1, 3, 480, 640)\n",
      "\n",
      "0: 480x640 (no detections), 46.4ms\n",
      "Speed: 2.0ms preprocess, 46.4ms inference, 0.0ms postprocess per image at shape (1, 3, 480, 640)\n",
      "\n",
      "0: 480x640 (no detections), 47.4ms\n",
      "Speed: 2.2ms preprocess, 47.4ms inference, 1.2ms postprocess per image at shape (1, 3, 480, 640)\n",
      "\n",
      "0: 480x640 (no detections), 46.9ms\n",
      "Speed: 1.7ms preprocess, 46.9ms inference, 1.0ms postprocess per image at shape (1, 3, 480, 640)\n",
      "\n",
      "0: 480x640 (no detections), 47.3ms\n",
      "Speed: 2.2ms preprocess, 47.3ms inference, 0.0ms postprocess per image at shape (1, 3, 480, 640)\n",
      "\n",
      "0: 480x640 (no detections), 50.1ms\n",
      "Speed: 1.7ms preprocess, 50.1ms inference, 0.0ms postprocess per image at shape (1, 3, 480, 640)\n",
      "\n",
      "0: 480x640 1 J, 47.1ms\n",
      "Speed: 1.9ms preprocess, 47.1ms inference, 1.0ms postprocess per image at shape (1, 3, 480, 640)\n",
      "Bounding box: (0, 283), (200, 480)\n",
      "Center: (100, 381)\n",
      "\n",
      "0: 480x640 (no detections), 45.5ms\n",
      "Speed: 1.5ms preprocess, 45.5ms inference, 0.2ms postprocess per image at shape (1, 3, 480, 640)\n",
      "\n",
      "0: 480x640 (no detections), 47.5ms\n",
      "Speed: 1.5ms preprocess, 47.5ms inference, 1.0ms postprocess per image at shape (1, 3, 480, 640)\n",
      "\n",
      "0: 480x640 (no detections), 48.0ms\n",
      "Speed: 2.0ms preprocess, 48.0ms inference, 1.0ms postprocess per image at shape (1, 3, 480, 640)\n",
      "\n",
      "0: 480x640 (no detections), 46.9ms\n",
      "Speed: 2.2ms preprocess, 46.9ms inference, 1.0ms postprocess per image at shape (1, 3, 480, 640)\n",
      "\n",
      "0: 480x640 (no detections), 48.4ms\n",
      "Speed: 2.0ms preprocess, 48.4ms inference, 0.0ms postprocess per image at shape (1, 3, 480, 640)\n",
      "\n",
      "0: 480x640 (no detections), 51.7ms\n",
      "Speed: 2.0ms preprocess, 51.7ms inference, 0.0ms postprocess per image at shape (1, 3, 480, 640)\n",
      "\n",
      "0: 480x640 (no detections), 53.0ms\n",
      "Speed: 1.6ms preprocess, 53.0ms inference, 0.0ms postprocess per image at shape (1, 3, 480, 640)\n",
      "\n",
      "0: 480x640 (no detections), 54.0ms\n",
      "Speed: 2.2ms preprocess, 54.0ms inference, 0.0ms postprocess per image at shape (1, 3, 480, 640)\n",
      "\n",
      "0: 480x640 (no detections), 58.8ms\n",
      "Speed: 2.5ms preprocess, 58.8ms inference, 1.0ms postprocess per image at shape (1, 3, 480, 640)\n",
      "\n",
      "0: 480x640 (no detections), 54.4ms\n",
      "Speed: 1.4ms preprocess, 54.4ms inference, 1.0ms postprocess per image at shape (1, 3, 480, 640)\n",
      "\n",
      "0: 480x640 (no detections), 59.3ms\n",
      "Speed: 2.3ms preprocess, 59.3ms inference, 1.0ms postprocess per image at shape (1, 3, 480, 640)\n",
      "\n",
      "0: 480x640 (no detections), 60.6ms\n",
      "Speed: 2.0ms preprocess, 60.6ms inference, 0.0ms postprocess per image at shape (1, 3, 480, 640)\n",
      "\n",
      "0: 480x640 (no detections), 57.7ms\n",
      "Speed: 2.6ms preprocess, 57.7ms inference, 0.0ms postprocess per image at shape (1, 3, 480, 640)\n",
      "\n",
      "0: 480x640 (no detections), 62.3ms\n",
      "Speed: 2.2ms preprocess, 62.3ms inference, 0.0ms postprocess per image at shape (1, 3, 480, 640)\n",
      "\n",
      "0: 480x640 (no detections), 61.7ms\n",
      "Speed: 2.2ms preprocess, 61.7ms inference, 0.0ms postprocess per image at shape (1, 3, 480, 640)\n",
      "\n",
      "0: 480x640 (no detections), 57.9ms\n",
      "Speed: 2.7ms preprocess, 57.9ms inference, 1.0ms postprocess per image at shape (1, 3, 480, 640)\n",
      "\n",
      "0: 480x640 (no detections), 60.9ms\n",
      "Speed: 2.0ms preprocess, 60.9ms inference, 0.0ms postprocess per image at shape (1, 3, 480, 640)\n",
      "\n",
      "0: 480x640 (no detections), 60.1ms\n",
      "Speed: 2.0ms preprocess, 60.1ms inference, 0.0ms postprocess per image at shape (1, 3, 480, 640)\n",
      "\n",
      "0: 480x640 (no detections), 54.7ms\n",
      "Speed: 1.0ms preprocess, 54.7ms inference, 1.0ms postprocess per image at shape (1, 3, 480, 640)\n",
      "\n",
      "0: 480x640 (no detections), 56.1ms\n",
      "Speed: 2.6ms preprocess, 56.1ms inference, 0.0ms postprocess per image at shape (1, 3, 480, 640)\n",
      "\n",
      "0: 480x640 (no detections), 56.2ms\n",
      "Speed: 2.0ms preprocess, 56.2ms inference, 0.0ms postprocess per image at shape (1, 3, 480, 640)\n",
      "\n",
      "0: 480x640 (no detections), 62.6ms\n",
      "Speed: 0.0ms preprocess, 62.6ms inference, 0.0ms postprocess per image at shape (1, 3, 480, 640)\n",
      "\n",
      "0: 480x640 (no detections), 60.9ms\n",
      "Speed: 1.0ms preprocess, 60.9ms inference, 0.6ms postprocess per image at shape (1, 3, 480, 640)\n",
      "\n",
      "0: 480x640 (no detections), 58.6ms\n",
      "Speed: 2.2ms preprocess, 58.6ms inference, 1.0ms postprocess per image at shape (1, 3, 480, 640)\n",
      "\n",
      "0: 480x640 (no detections), 97.6ms\n",
      "Speed: 1.7ms preprocess, 97.6ms inference, 1.0ms postprocess per image at shape (1, 3, 480, 640)\n",
      "\n",
      "0: 480x640 (no detections), 65.2ms\n",
      "Speed: 0.0ms preprocess, 65.2ms inference, 0.0ms postprocess per image at shape (1, 3, 480, 640)\n",
      "\n",
      "0: 480x640 (no detections), 67.2ms\n",
      "Speed: 2.7ms preprocess, 67.2ms inference, 1.0ms postprocess per image at shape (1, 3, 480, 640)\n",
      "\n",
      "0: 480x640 (no detections), 60.2ms\n",
      "Speed: 0.0ms preprocess, 60.2ms inference, 13.6ms postprocess per image at shape (1, 3, 480, 640)\n",
      "\n",
      "0: 480x640 (no detections), 61.1ms\n",
      "Speed: 0.0ms preprocess, 61.1ms inference, 0.0ms postprocess per image at shape (1, 3, 480, 640)\n",
      "\n",
      "0: 480x640 (no detections), 58.9ms\n",
      "Speed: 0.0ms preprocess, 58.9ms inference, 0.0ms postprocess per image at shape (1, 3, 480, 640)\n",
      "\n",
      "0: 480x640 (no detections), 49.6ms\n",
      "Speed: 3.0ms preprocess, 49.6ms inference, 0.0ms postprocess per image at shape (1, 3, 480, 640)\n",
      "\n",
      "0: 480x640 (no detections), 62.9ms\n",
      "Speed: 2.0ms preprocess, 62.9ms inference, 0.0ms postprocess per image at shape (1, 3, 480, 640)\n",
      "\n",
      "0: 480x640 (no detections), 59.7ms\n"
     ]
    },
    {
     "name": "stdout",
     "output_type": "stream",
     "text": [
      "Speed: 0.0ms preprocess, 59.7ms inference, 0.0ms postprocess per image at shape (1, 3, 480, 640)\n",
      "\n",
      "0: 480x640 (no detections), 63.8ms\n",
      "Speed: 0.0ms preprocess, 63.8ms inference, 0.0ms postprocess per image at shape (1, 3, 480, 640)\n",
      "\n",
      "0: 480x640 1 J, 46.9ms\n",
      "Speed: 2.0ms preprocess, 46.9ms inference, 0.0ms postprocess per image at shape (1, 3, 480, 640)\n",
      "Bounding box: (211, 154), (640, 480)\n",
      "Center: (425, 317)\n",
      "\n",
      "0: 480x640 (no detections), 47.1ms\n",
      "Speed: 2.0ms preprocess, 47.1ms inference, 0.0ms postprocess per image at shape (1, 3, 480, 640)\n",
      "\n",
      "0: 480x640 (no detections), 48.4ms\n",
      "Speed: 2.0ms preprocess, 48.4ms inference, 0.0ms postprocess per image at shape (1, 3, 480, 640)\n",
      "\n",
      "0: 480x640 (no detections), 67.2ms\n",
      "Speed: 0.0ms preprocess, 67.2ms inference, 1.0ms postprocess per image at shape (1, 3, 480, 640)\n",
      "\n",
      "0: 480x640 (no detections), 54.3ms\n",
      "Speed: 3.0ms preprocess, 54.3ms inference, 11.6ms postprocess per image at shape (1, 3, 480, 640)\n",
      "\n",
      "0: 480x640 (no detections), 63.4ms\n",
      "Speed: 2.5ms preprocess, 63.4ms inference, 1.0ms postprocess per image at shape (1, 3, 480, 640)\n",
      "\n",
      "0: 480x640 (no detections), 64.1ms\n",
      "Speed: 1.0ms preprocess, 64.1ms inference, 0.0ms postprocess per image at shape (1, 3, 480, 640)\n",
      "\n",
      "0: 480x640 (no detections), 63.6ms\n",
      "Speed: 2.9ms preprocess, 63.6ms inference, 0.0ms postprocess per image at shape (1, 3, 480, 640)\n",
      "\n",
      "0: 480x640 (no detections), 61.4ms\n",
      "Speed: 3.0ms preprocess, 61.4ms inference, 0.0ms postprocess per image at shape (1, 3, 480, 640)\n",
      "\n",
      "0: 480x640 (no detections), 55.9ms\n",
      "Speed: 2.0ms preprocess, 55.9ms inference, 0.0ms postprocess per image at shape (1, 3, 480, 640)\n",
      "\n",
      "0: 480x640 (no detections), 64.9ms\n",
      "Speed: 0.0ms preprocess, 64.9ms inference, 0.0ms postprocess per image at shape (1, 3, 480, 640)\n",
      "\n",
      "0: 480x640 (no detections), 46.3ms\n",
      "Speed: 2.0ms preprocess, 46.3ms inference, 0.0ms postprocess per image at shape (1, 3, 480, 640)\n",
      "\n",
      "0: 480x640 (no detections), 46.6ms\n",
      "Speed: 2.0ms preprocess, 46.6ms inference, 0.0ms postprocess per image at shape (1, 3, 480, 640)\n",
      "\n",
      "0: 480x640 (no detections), 65.1ms\n",
      "Speed: 2.0ms preprocess, 65.1ms inference, 1.0ms postprocess per image at shape (1, 3, 480, 640)\n",
      "\n",
      "0: 480x640 (no detections), 64.0ms\n",
      "Speed: 2.0ms preprocess, 64.0ms inference, 0.0ms postprocess per image at shape (1, 3, 480, 640)\n",
      "\n",
      "0: 480x640 (no detections), 57.4ms\n",
      "Speed: 0.0ms preprocess, 57.4ms inference, 0.0ms postprocess per image at shape (1, 3, 480, 640)\n",
      "\n",
      "0: 480x640 (no detections), 48.1ms\n",
      "Speed: 2.0ms preprocess, 48.1ms inference, 0.0ms postprocess per image at shape (1, 3, 480, 640)\n",
      "\n",
      "0: 480x640 (no detections), 55.7ms\n",
      "Speed: 0.0ms preprocess, 55.7ms inference, 0.0ms postprocess per image at shape (1, 3, 480, 640)\n",
      "\n",
      "0: 480x640 (no detections), 48.8ms\n",
      "Speed: 0.0ms preprocess, 48.8ms inference, 0.0ms postprocess per image at shape (1, 3, 480, 640)\n",
      "\n",
      "0: 480x640 (no detections), 66.8ms\n",
      "Speed: 2.0ms preprocess, 66.8ms inference, 0.0ms postprocess per image at shape (1, 3, 480, 640)\n",
      "\n",
      "0: 480x640 (no detections), 56.6ms\n",
      "Speed: 0.0ms preprocess, 56.6ms inference, 0.0ms postprocess per image at shape (1, 3, 480, 640)\n",
      "\n",
      "0: 480x640 (no detections), 47.0ms\n",
      "Speed: 2.0ms preprocess, 47.0ms inference, 0.0ms postprocess per image at shape (1, 3, 480, 640)\n",
      "\n",
      "0: 480x640 (no detections), 62.8ms\n",
      "Speed: 0.0ms preprocess, 62.8ms inference, 0.8ms postprocess per image at shape (1, 3, 480, 640)\n",
      "\n",
      "0: 480x640 (no detections), 63.3ms\n",
      "Speed: 0.0ms preprocess, 63.3ms inference, 0.0ms postprocess per image at shape (1, 3, 480, 640)\n",
      "\n",
      "0: 480x640 (no detections), 57.0ms\n",
      "Speed: 0.0ms preprocess, 57.0ms inference, 0.0ms postprocess per image at shape (1, 3, 480, 640)\n",
      "\n",
      "0: 480x640 (no detections), 46.8ms\n",
      "Speed: 2.0ms preprocess, 46.8ms inference, 0.0ms postprocess per image at shape (1, 3, 480, 640)\n",
      "\n",
      "0: 480x640 (no detections), 60.4ms\n",
      "Speed: 0.0ms preprocess, 60.4ms inference, 0.0ms postprocess per image at shape (1, 3, 480, 640)\n",
      "\n",
      "0: 480x640 (no detections), 44.7ms\n",
      "Speed: 2.0ms preprocess, 44.7ms inference, 14.9ms postprocess per image at shape (1, 3, 480, 640)\n",
      "\n",
      "0: 480x640 (no detections), 47.0ms\n",
      "Speed: 0.0ms preprocess, 47.0ms inference, 0.0ms postprocess per image at shape (1, 3, 480, 640)\n",
      "\n",
      "0: 480x640 (no detections), 50.1ms\n",
      "Speed: 0.0ms preprocess, 50.1ms inference, 0.0ms postprocess per image at shape (1, 3, 480, 640)\n",
      "\n",
      "0: 480x640 (no detections), 46.8ms\n",
      "Speed: 2.0ms preprocess, 46.8ms inference, 0.0ms postprocess per image at shape (1, 3, 480, 640)\n",
      "\n",
      "0: 480x640 (no detections), 47.1ms\n",
      "Speed: 2.0ms preprocess, 47.1ms inference, 0.0ms postprocess per image at shape (1, 3, 480, 640)\n",
      "\n",
      "0: 480x640 (no detections), 63.6ms\n",
      "Speed: 2.0ms preprocess, 63.6ms inference, 0.0ms postprocess per image at shape (1, 3, 480, 640)\n",
      "\n",
      "0: 480x640 (no detections), 58.9ms\n",
      "Speed: 0.0ms preprocess, 58.9ms inference, 0.0ms postprocess per image at shape (1, 3, 480, 640)\n",
      "\n",
      "0: 480x640 (no detections), 46.3ms\n",
      "Speed: 3.5ms preprocess, 46.3ms inference, 14.8ms postprocess per image at shape (1, 3, 480, 640)\n",
      "\n",
      "0: 480x640 (no detections), 61.2ms\n",
      "Speed: 0.0ms preprocess, 61.2ms inference, 1.0ms postprocess per image at shape (1, 3, 480, 640)\n",
      "\n",
      "0: 480x640 (no detections), 60.6ms\n",
      "Speed: 0.0ms preprocess, 60.6ms inference, 1.0ms postprocess per image at shape (1, 3, 480, 640)\n",
      "\n",
      "0: 480x640 (no detections), 46.7ms\n",
      "Speed: 2.0ms preprocess, 46.7ms inference, 0.0ms postprocess per image at shape (1, 3, 480, 640)\n",
      "\n",
      "0: 480x640 (no detections), 65.4ms\n",
      "Speed: 0.0ms preprocess, 65.4ms inference, 1.0ms postprocess per image at shape (1, 3, 480, 640)\n",
      "\n",
      "0: 480x640 (no detections), 62.9ms\n",
      "Speed: 3.0ms preprocess, 62.9ms inference, 1.0ms postprocess per image at shape (1, 3, 480, 640)\n",
      "\n",
      "0: 480x640 (no detections), 59.2ms\n",
      "Speed: 3.0ms preprocess, 59.2ms inference, 0.0ms postprocess per image at shape (1, 3, 480, 640)\n",
      "\n",
      "0: 480x640 (no detections), 65.5ms\n",
      "Speed: 2.3ms preprocess, 65.5ms inference, 0.0ms postprocess per image at shape (1, 3, 480, 640)\n",
      "\n",
      "0: 480x640 (no detections), 61.9ms\n",
      "Speed: 2.0ms preprocess, 61.9ms inference, 0.0ms postprocess per image at shape (1, 3, 480, 640)\n",
      "\n",
      "0: 480x640 (no detections), 62.7ms\n",
      "Speed: 3.0ms preprocess, 62.7ms inference, 0.0ms postprocess per image at shape (1, 3, 480, 640)\n",
      "\n",
      "0: 480x640 (no detections), 61.7ms\n",
      "Speed: 2.0ms preprocess, 61.7ms inference, 0.5ms postprocess per image at shape (1, 3, 480, 640)\n",
      "\n",
      "0: 480x640 (no detections), 66.9ms\n",
      "Speed: 2.5ms preprocess, 66.9ms inference, 0.0ms postprocess per image at shape (1, 3, 480, 640)\n",
      "\n",
      "0: 480x640 (no detections), 77.1ms\n",
      "Speed: 2.4ms preprocess, 77.1ms inference, 0.0ms postprocess per image at shape (1, 3, 480, 640)\n",
      "\n",
      "0: 480x640 (no detections), 67.1ms\n",
      "Speed: 2.1ms preprocess, 67.1ms inference, 0.0ms postprocess per image at shape (1, 3, 480, 640)\n",
      "\n",
      "0: 480x640 (no detections), 43.4ms\n",
      "Speed: 2.0ms preprocess, 43.4ms inference, 0.0ms postprocess per image at shape (1, 3, 480, 640)\n",
      "\n",
      "0: 480x640 (no detections), 61.9ms\n",
      "Speed: 0.0ms preprocess, 61.9ms inference, 1.0ms postprocess per image at shape (1, 3, 480, 640)\n",
      "\n",
      "0: 480x640 (no detections), 61.0ms\n",
      "Speed: 0.0ms preprocess, 61.0ms inference, 0.0ms postprocess per image at shape (1, 3, 480, 640)\n",
      "\n",
      "0: 480x640 (no detections), 63.9ms\n",
      "Speed: 2.0ms preprocess, 63.9ms inference, 0.0ms postprocess per image at shape (1, 3, 480, 640)\n",
      "\n",
      "0: 480x640 (no detections), 61.9ms\n",
      "Speed: 3.1ms preprocess, 61.9ms inference, 1.0ms postprocess per image at shape (1, 3, 480, 640)\n",
      "\n",
      "0: 480x640 (no detections), 91.7ms\n",
      "Speed: 2.0ms preprocess, 91.7ms inference, 0.0ms postprocess per image at shape (1, 3, 480, 640)\n",
      "\n",
      "0: 480x640 (no detections), 63.9ms\n",
      "Speed: 2.0ms preprocess, 63.9ms inference, 0.0ms postprocess per image at shape (1, 3, 480, 640)\n",
      "\n",
      "0: 480x640 (no detections), 61.5ms\n",
      "Speed: 3.0ms preprocess, 61.5ms inference, 0.0ms postprocess per image at shape (1, 3, 480, 640)\n",
      "\n",
      "0: 480x640 (no detections), 61.2ms\n",
      "Speed: 2.0ms preprocess, 61.2ms inference, 0.0ms postprocess per image at shape (1, 3, 480, 640)\n",
      "\n",
      "0: 480x640 (no detections), 65.3ms\n",
      "Speed: 2.7ms preprocess, 65.3ms inference, 0.0ms postprocess per image at shape (1, 3, 480, 640)\n",
      "\n",
      "0: 480x640 (no detections), 68.9ms\n",
      "Speed: 2.0ms preprocess, 68.9ms inference, 0.0ms postprocess per image at shape (1, 3, 480, 640)\n",
      "\n",
      "0: 480x640 (no detections), 61.2ms\n",
      "Speed: 2.1ms preprocess, 61.2ms inference, 1.0ms postprocess per image at shape (1, 3, 480, 640)\n"
     ]
    },
    {
     "name": "stdout",
     "output_type": "stream",
     "text": [
      "\n",
      "0: 480x640 (no detections), 65.7ms\n",
      "Speed: 0.0ms preprocess, 65.7ms inference, 0.0ms postprocess per image at shape (1, 3, 480, 640)\n",
      "\n",
      "0: 480x640 (no detections), 62.9ms\n",
      "Speed: 2.0ms preprocess, 62.9ms inference, 0.0ms postprocess per image at shape (1, 3, 480, 640)\n",
      "\n",
      "0: 480x640 (no detections), 59.0ms\n",
      "Speed: 1.0ms preprocess, 59.0ms inference, 1.0ms postprocess per image at shape (1, 3, 480, 640)\n",
      "\n",
      "0: 480x640 (no detections), 61.8ms\n",
      "Speed: 1.9ms preprocess, 61.8ms inference, 0.0ms postprocess per image at shape (1, 3, 480, 640)\n",
      "\n",
      "0: 480x640 (no detections), 62.0ms\n",
      "Speed: 1.0ms preprocess, 62.0ms inference, 1.0ms postprocess per image at shape (1, 3, 480, 640)\n",
      "\n",
      "0: 480x640 (no detections), 58.7ms\n",
      "Speed: 2.2ms preprocess, 58.7ms inference, 1.0ms postprocess per image at shape (1, 3, 480, 640)\n",
      "\n",
      "0: 480x640 (no detections), 60.5ms\n",
      "Speed: 3.1ms preprocess, 60.5ms inference, 0.0ms postprocess per image at shape (1, 3, 480, 640)\n",
      "\n",
      "0: 480x640 (no detections), 63.9ms\n",
      "Speed: 0.5ms preprocess, 63.9ms inference, 0.0ms postprocess per image at shape (1, 3, 480, 640)\n",
      "\n",
      "0: 480x640 (no detections), 61.3ms\n",
      "Speed: 2.0ms preprocess, 61.3ms inference, 1.0ms postprocess per image at shape (1, 3, 480, 640)\n",
      "\n",
      "0: 480x640 (no detections), 62.3ms\n",
      "Speed: 2.0ms preprocess, 62.3ms inference, 1.0ms postprocess per image at shape (1, 3, 480, 640)\n",
      "\n",
      "0: 480x640 (no detections), 61.7ms\n",
      "Speed: 1.0ms preprocess, 61.7ms inference, 1.0ms postprocess per image at shape (1, 3, 480, 640)\n",
      "\n",
      "0: 480x640 (no detections), 62.6ms\n",
      "Speed: 2.8ms preprocess, 62.6ms inference, 0.0ms postprocess per image at shape (1, 3, 480, 640)\n",
      "\n",
      "0: 480x640 (no detections), 65.4ms\n",
      "Speed: 2.0ms preprocess, 65.4ms inference, 0.0ms postprocess per image at shape (1, 3, 480, 640)\n",
      "\n",
      "0: 480x640 (no detections), 61.3ms\n",
      "Speed: 0.0ms preprocess, 61.3ms inference, 1.0ms postprocess per image at shape (1, 3, 480, 640)\n",
      "\n",
      "0: 480x640 (no detections), 46.6ms\n",
      "Speed: 2.4ms preprocess, 46.6ms inference, 0.0ms postprocess per image at shape (1, 3, 480, 640)\n",
      "\n",
      "0: 480x640 (no detections), 63.0ms\n",
      "Speed: 0.0ms preprocess, 63.0ms inference, 0.0ms postprocess per image at shape (1, 3, 480, 640)\n",
      "\n",
      "0: 480x640 (no detections), 68.1ms\n",
      "Speed: 2.0ms preprocess, 68.1ms inference, 1.0ms postprocess per image at shape (1, 3, 480, 640)\n",
      "\n",
      "0: 480x640 (no detections), 62.8ms\n",
      "Speed: 2.9ms preprocess, 62.8ms inference, 1.0ms postprocess per image at shape (1, 3, 480, 640)\n",
      "\n",
      "0: 480x640 (no detections), 59.4ms\n",
      "Speed: 2.0ms preprocess, 59.4ms inference, 0.5ms postprocess per image at shape (1, 3, 480, 640)\n",
      "\n",
      "0: 480x640 (no detections), 62.1ms\n",
      "Speed: 2.0ms preprocess, 62.1ms inference, 1.0ms postprocess per image at shape (1, 3, 480, 640)\n",
      "\n",
      "0: 480x640 (no detections), 61.5ms\n",
      "Speed: 1.8ms preprocess, 61.5ms inference, 0.0ms postprocess per image at shape (1, 3, 480, 640)\n",
      "\n",
      "0: 480x640 (no detections), 60.5ms\n",
      "Speed: 2.0ms preprocess, 60.5ms inference, 0.0ms postprocess per image at shape (1, 3, 480, 640)\n",
      "\n",
      "0: 480x640 (no detections), 61.4ms\n",
      "Speed: 2.0ms preprocess, 61.4ms inference, 1.0ms postprocess per image at shape (1, 3, 480, 640)\n",
      "\n",
      "0: 480x640 (no detections), 59.5ms\n",
      "Speed: 2.0ms preprocess, 59.5ms inference, 0.0ms postprocess per image at shape (1, 3, 480, 640)\n",
      "\n",
      "0: 480x640 (no detections), 60.1ms\n",
      "Speed: 2.0ms preprocess, 60.1ms inference, 0.0ms postprocess per image at shape (1, 3, 480, 640)\n",
      "\n",
      "0: 480x640 (no detections), 63.8ms\n",
      "Speed: 2.2ms preprocess, 63.8ms inference, 0.0ms postprocess per image at shape (1, 3, 480, 640)\n",
      "\n",
      "0: 480x640 (no detections), 54.7ms\n",
      "Speed: 1.9ms preprocess, 54.7ms inference, 1.0ms postprocess per image at shape (1, 3, 480, 640)\n",
      "\n",
      "0: 480x640 (no detections), 53.2ms\n",
      "Speed: 2.0ms preprocess, 53.2ms inference, 0.0ms postprocess per image at shape (1, 3, 480, 640)\n",
      "\n",
      "0: 480x640 (no detections), 53.8ms\n",
      "Speed: 2.0ms preprocess, 53.8ms inference, 0.0ms postprocess per image at shape (1, 3, 480, 640)\n",
      "\n",
      "0: 480x640 (no detections), 57.7ms\n",
      "Speed: 2.0ms preprocess, 57.7ms inference, 1.0ms postprocess per image at shape (1, 3, 480, 640)\n",
      "\n",
      "0: 480x640 (no detections), 62.3ms\n",
      "Speed: 0.0ms preprocess, 62.3ms inference, 1.0ms postprocess per image at shape (1, 3, 480, 640)\n",
      "\n",
      "0: 480x640 (no detections), 64.3ms\n",
      "Speed: 1.0ms preprocess, 64.3ms inference, 0.0ms postprocess per image at shape (1, 3, 480, 640)\n",
      "\n",
      "0: 480x640 (no detections), 56.7ms\n",
      "Speed: 2.0ms preprocess, 56.7ms inference, 0.0ms postprocess per image at shape (1, 3, 480, 640)\n",
      "\n",
      "0: 480x640 (no detections), 62.5ms\n",
      "Speed: 3.0ms preprocess, 62.5ms inference, 0.0ms postprocess per image at shape (1, 3, 480, 640)\n",
      "\n",
      "0: 480x640 (no detections), 61.4ms\n",
      "Speed: 0.0ms preprocess, 61.4ms inference, 0.0ms postprocess per image at shape (1, 3, 480, 640)\n",
      "\n",
      "0: 480x640 (no detections), 65.9ms\n",
      "Speed: 3.0ms preprocess, 65.9ms inference, 1.4ms postprocess per image at shape (1, 3, 480, 640)\n",
      "\n",
      "0: 480x640 (no detections), 68.8ms\n",
      "Speed: 2.6ms preprocess, 68.8ms inference, 0.0ms postprocess per image at shape (1, 3, 480, 640)\n",
      "\n",
      "0: 480x640 (no detections), 63.6ms\n",
      "Speed: 1.0ms preprocess, 63.6ms inference, 1.0ms postprocess per image at shape (1, 3, 480, 640)\n",
      "\n",
      "0: 480x640 (no detections), 64.1ms\n",
      "Speed: 0.0ms preprocess, 64.1ms inference, 0.0ms postprocess per image at shape (1, 3, 480, 640)\n",
      "\n",
      "0: 480x640 (no detections), 60.6ms\n",
      "Speed: 3.0ms preprocess, 60.6ms inference, 0.0ms postprocess per image at shape (1, 3, 480, 640)\n",
      "\n",
      "0: 480x640 (no detections), 63.6ms\n",
      "Speed: 2.0ms preprocess, 63.6ms inference, 0.0ms postprocess per image at shape (1, 3, 480, 640)\n",
      "\n",
      "0: 480x640 (no detections), 58.7ms\n",
      "Speed: 2.0ms preprocess, 58.7ms inference, 1.0ms postprocess per image at shape (1, 3, 480, 640)\n",
      "\n",
      "0: 480x640 (no detections), 54.0ms\n",
      "Speed: 2.0ms preprocess, 54.0ms inference, 0.0ms postprocess per image at shape (1, 3, 480, 640)\n",
      "\n",
      "0: 480x640 (no detections), 56.4ms\n",
      "Speed: 2.0ms preprocess, 56.4ms inference, 0.0ms postprocess per image at shape (1, 3, 480, 640)\n",
      "\n",
      "0: 480x640 (no detections), 60.3ms\n",
      "Speed: 3.9ms preprocess, 60.3ms inference, 1.0ms postprocess per image at shape (1, 3, 480, 640)\n",
      "\n",
      "0: 480x640 (no detections), 61.4ms\n",
      "Speed: 2.0ms preprocess, 61.4ms inference, 0.0ms postprocess per image at shape (1, 3, 480, 640)\n",
      "\n",
      "0: 480x640 (no detections), 56.9ms\n",
      "Speed: 0.0ms preprocess, 56.9ms inference, 0.0ms postprocess per image at shape (1, 3, 480, 640)\n",
      "\n",
      "0: 480x640 (no detections), 62.9ms\n",
      "Speed: 3.0ms preprocess, 62.9ms inference, 1.0ms postprocess per image at shape (1, 3, 480, 640)\n",
      "\n",
      "0: 480x640 (no detections), 60.1ms\n",
      "Speed: 2.0ms preprocess, 60.1ms inference, 0.0ms postprocess per image at shape (1, 3, 480, 640)\n",
      "\n",
      "0: 480x640 (no detections), 58.9ms\n",
      "Speed: 2.4ms preprocess, 58.9ms inference, 0.0ms postprocess per image at shape (1, 3, 480, 640)\n",
      "\n",
      "0: 480x640 (no detections), 60.5ms\n",
      "Speed: 2.0ms preprocess, 60.5ms inference, 1.1ms postprocess per image at shape (1, 3, 480, 640)\n",
      "\n",
      "0: 480x640 (no detections), 58.2ms\n",
      "Speed: 3.1ms preprocess, 58.2ms inference, 0.0ms postprocess per image at shape (1, 3, 480, 640)\n",
      "\n",
      "0: 480x640 (no detections), 62.5ms\n",
      "Speed: 2.0ms preprocess, 62.5ms inference, 0.0ms postprocess per image at shape (1, 3, 480, 640)\n",
      "\n",
      "0: 480x640 (no detections), 63.9ms\n",
      "Speed: 0.0ms preprocess, 63.9ms inference, 0.0ms postprocess per image at shape (1, 3, 480, 640)\n",
      "\n",
      "0: 480x640 (no detections), 55.4ms\n",
      "Speed: 2.0ms preprocess, 55.4ms inference, 1.0ms postprocess per image at shape (1, 3, 480, 640)\n",
      "\n",
      "0: 480x640 (no detections), 72.8ms\n",
      "Speed: 2.0ms preprocess, 72.8ms inference, 0.0ms postprocess per image at shape (1, 3, 480, 640)\n",
      "\n",
      "0: 480x640 (no detections), 61.0ms\n",
      "Speed: 2.0ms preprocess, 61.0ms inference, 1.0ms postprocess per image at shape (1, 3, 480, 640)\n",
      "\n",
      "0: 480x640 (no detections), 61.7ms\n",
      "Speed: 2.0ms preprocess, 61.7ms inference, 0.0ms postprocess per image at shape (1, 3, 480, 640)\n",
      "\n",
      "0: 480x640 (no detections), 64.2ms\n",
      "Speed: 2.0ms preprocess, 64.2ms inference, 0.0ms postprocess per image at shape (1, 3, 480, 640)\n",
      "\n",
      "0: 480x640 (no detections), 64.0ms\n",
      "Speed: 0.0ms preprocess, 64.0ms inference, 1.0ms postprocess per image at shape (1, 3, 480, 640)\n",
      "\n",
      "0: 480x640 (no detections), 62.8ms\n",
      "Speed: 2.0ms preprocess, 62.8ms inference, 1.0ms postprocess per image at shape (1, 3, 480, 640)\n",
      "\n",
      "0: 480x640 (no detections), 59.8ms\n",
      "Speed: 2.0ms preprocess, 59.8ms inference, 1.0ms postprocess per image at shape (1, 3, 480, 640)\n"
     ]
    },
    {
     "name": "stdout",
     "output_type": "stream",
     "text": [
      "\n",
      "0: 480x640 (no detections), 62.0ms\n",
      "Speed: 1.0ms preprocess, 62.0ms inference, 1.0ms postprocess per image at shape (1, 3, 480, 640)\n",
      "\n",
      "0: 480x640 (no detections), 51.6ms\n",
      "Speed: 1.7ms preprocess, 51.6ms inference, 0.0ms postprocess per image at shape (1, 3, 480, 640)\n",
      "\n",
      "0: 480x640 (no detections), 62.3ms\n",
      "Speed: 0.0ms preprocess, 62.3ms inference, 0.0ms postprocess per image at shape (1, 3, 480, 640)\n",
      "\n",
      "0: 480x640 (no detections), 62.6ms\n",
      "Speed: 0.0ms preprocess, 62.6ms inference, 1.0ms postprocess per image at shape (1, 3, 480, 640)\n",
      "\n",
      "0: 480x640 (no detections), 63.2ms\n",
      "Speed: 2.5ms preprocess, 63.2ms inference, 0.0ms postprocess per image at shape (1, 3, 480, 640)\n",
      "\n",
      "0: 480x640 (no detections), 58.8ms\n",
      "Speed: 1.0ms preprocess, 58.8ms inference, 1.0ms postprocess per image at shape (1, 3, 480, 640)\n",
      "\n",
      "0: 480x640 (no detections), 56.2ms\n",
      "Speed: 1.0ms preprocess, 56.2ms inference, 0.0ms postprocess per image at shape (1, 3, 480, 640)\n",
      "\n",
      "0: 480x640 (no detections), 57.2ms\n",
      "Speed: 0.0ms preprocess, 57.2ms inference, 0.0ms postprocess per image at shape (1, 3, 480, 640)\n",
      "\n",
      "0: 480x640 (no detections), 61.2ms\n",
      "Speed: 3.4ms preprocess, 61.2ms inference, 0.0ms postprocess per image at shape (1, 3, 480, 640)\n",
      "\n",
      "0: 480x640 (no detections), 57.3ms\n",
      "Speed: 0.0ms preprocess, 57.3ms inference, 0.0ms postprocess per image at shape (1, 3, 480, 640)\n",
      "\n",
      "0: 480x640 (no detections), 63.2ms\n",
      "Speed: 2.0ms preprocess, 63.2ms inference, 0.0ms postprocess per image at shape (1, 3, 480, 640)\n",
      "\n",
      "0: 480x640 (no detections), 59.9ms\n",
      "Speed: 1.0ms preprocess, 59.9ms inference, 0.0ms postprocess per image at shape (1, 3, 480, 640)\n",
      "\n",
      "0: 480x640 (no detections), 53.8ms\n",
      "Speed: 2.4ms preprocess, 53.8ms inference, 1.0ms postprocess per image at shape (1, 3, 480, 640)\n",
      "\n",
      "0: 480x640 (no detections), 61.8ms\n",
      "Speed: 0.0ms preprocess, 61.8ms inference, 1.0ms postprocess per image at shape (1, 3, 480, 640)\n",
      "\n",
      "0: 480x640 (no detections), 64.2ms\n",
      "Speed: 2.0ms preprocess, 64.2ms inference, 0.0ms postprocess per image at shape (1, 3, 480, 640)\n",
      "\n",
      "0: 480x640 (no detections), 56.3ms\n",
      "Speed: 1.0ms preprocess, 56.3ms inference, 0.0ms postprocess per image at shape (1, 3, 480, 640)\n",
      "\n",
      "0: 480x640 (no detections), 59.8ms\n",
      "Speed: 3.0ms preprocess, 59.8ms inference, 0.0ms postprocess per image at shape (1, 3, 480, 640)\n",
      "\n",
      "0: 480x640 (no detections), 59.7ms\n",
      "Speed: 1.0ms preprocess, 59.7ms inference, 0.0ms postprocess per image at shape (1, 3, 480, 640)\n",
      "\n",
      "0: 480x640 (no detections), 56.8ms\n",
      "Speed: 2.0ms preprocess, 56.8ms inference, 1.0ms postprocess per image at shape (1, 3, 480, 640)\n",
      "\n",
      "0: 480x640 (no detections), 64.5ms\n",
      "Speed: 2.0ms preprocess, 64.5ms inference, 0.0ms postprocess per image at shape (1, 3, 480, 640)\n",
      "\n",
      "0: 480x640 (no detections), 59.5ms\n",
      "Speed: 1.8ms preprocess, 59.5ms inference, 1.0ms postprocess per image at shape (1, 3, 480, 640)\n",
      "\n",
      "0: 480x640 (no detections), 59.8ms\n",
      "Speed: 3.0ms preprocess, 59.8ms inference, 0.0ms postprocess per image at shape (1, 3, 480, 640)\n",
      "\n",
      "0: 480x640 (no detections), 62.8ms\n",
      "Speed: 2.0ms preprocess, 62.8ms inference, 0.6ms postprocess per image at shape (1, 3, 480, 640)\n",
      "\n",
      "0: 480x640 (no detections), 62.4ms\n",
      "Speed: 2.0ms preprocess, 62.4ms inference, 0.0ms postprocess per image at shape (1, 3, 480, 640)\n",
      "\n",
      "0: 480x640 (no detections), 57.6ms\n",
      "Speed: 2.0ms preprocess, 57.6ms inference, 0.0ms postprocess per image at shape (1, 3, 480, 640)\n",
      "\n",
      "0: 480x640 (no detections), 54.8ms\n",
      "Speed: 1.0ms preprocess, 54.8ms inference, 0.0ms postprocess per image at shape (1, 3, 480, 640)\n",
      "\n",
      "0: 480x640 (no detections), 50.9ms\n",
      "Speed: 2.0ms preprocess, 50.9ms inference, 1.0ms postprocess per image at shape (1, 3, 480, 640)\n",
      "\n",
      "0: 480x640 (no detections), 56.2ms\n",
      "Speed: 3.1ms preprocess, 56.2ms inference, 1.0ms postprocess per image at shape (1, 3, 480, 640)\n",
      "\n",
      "0: 480x640 (no detections), 49.9ms\n",
      "Speed: 3.7ms preprocess, 49.9ms inference, 0.0ms postprocess per image at shape (1, 3, 480, 640)\n",
      "\n",
      "0: 480x640 (no detections), 64.2ms\n",
      "Speed: 0.0ms preprocess, 64.2ms inference, 0.0ms postprocess per image at shape (1, 3, 480, 640)\n",
      "\n",
      "0: 480x640 (no detections), 64.3ms\n",
      "Speed: 0.0ms preprocess, 64.3ms inference, 0.0ms postprocess per image at shape (1, 3, 480, 640)\n",
      "\n",
      "0: 480x640 (no detections), 56.2ms\n",
      "Speed: 2.0ms preprocess, 56.2ms inference, 0.0ms postprocess per image at shape (1, 3, 480, 640)\n",
      "\n",
      "0: 480x640 (no detections), 54.3ms\n",
      "Speed: 2.0ms preprocess, 54.3ms inference, 0.0ms postprocess per image at shape (1, 3, 480, 640)\n",
      "\n",
      "0: 480x640 (no detections), 61.3ms\n",
      "Speed: 3.7ms preprocess, 61.3ms inference, 1.0ms postprocess per image at shape (1, 3, 480, 640)\n",
      "\n",
      "0: 480x640 (no detections), 62.4ms\n",
      "Speed: 0.0ms preprocess, 62.4ms inference, 0.0ms postprocess per image at shape (1, 3, 480, 640)\n",
      "\n",
      "0: 480x640 (no detections), 60.8ms\n",
      "Speed: 2.0ms preprocess, 60.8ms inference, 1.0ms postprocess per image at shape (1, 3, 480, 640)\n",
      "\n",
      "0: 480x640 (no detections), 61.9ms\n",
      "Speed: 1.0ms preprocess, 61.9ms inference, 1.0ms postprocess per image at shape (1, 3, 480, 640)\n",
      "\n",
      "0: 480x640 (no detections), 60.7ms\n",
      "Speed: 1.0ms preprocess, 60.7ms inference, 0.0ms postprocess per image at shape (1, 3, 480, 640)\n",
      "\n",
      "0: 480x640 (no detections), 63.8ms\n",
      "Speed: 1.7ms preprocess, 63.8ms inference, 0.0ms postprocess per image at shape (1, 3, 480, 640)\n",
      "\n",
      "0: 480x640 (no detections), 61.9ms\n",
      "Speed: 2.0ms preprocess, 61.9ms inference, 1.0ms postprocess per image at shape (1, 3, 480, 640)\n",
      "\n",
      "0: 480x640 (no detections), 63.6ms\n",
      "Speed: 1.9ms preprocess, 63.6ms inference, 0.5ms postprocess per image at shape (1, 3, 480, 640)\n",
      "\n",
      "0: 480x640 (no detections), 65.4ms\n",
      "Speed: 2.0ms preprocess, 65.4ms inference, 0.0ms postprocess per image at shape (1, 3, 480, 640)\n",
      "\n",
      "0: 480x640 (no detections), 56.2ms\n",
      "Speed: 2.0ms preprocess, 56.2ms inference, 1.0ms postprocess per image at shape (1, 3, 480, 640)\n",
      "\n",
      "0: 480x640 (no detections), 53.3ms\n",
      "Speed: 2.0ms preprocess, 53.3ms inference, 0.0ms postprocess per image at shape (1, 3, 480, 640)\n",
      "\n",
      "0: 480x640 (no detections), 56.8ms\n",
      "Speed: 1.0ms preprocess, 56.8ms inference, 0.0ms postprocess per image at shape (1, 3, 480, 640)\n",
      "\n",
      "0: 480x640 (no detections), 64.3ms\n",
      "Speed: 2.0ms preprocess, 64.3ms inference, 1.0ms postprocess per image at shape (1, 3, 480, 640)\n",
      "\n",
      "0: 480x640 (no detections), 60.8ms\n",
      "Speed: 2.0ms preprocess, 60.8ms inference, 0.0ms postprocess per image at shape (1, 3, 480, 640)\n",
      "\n",
      "0: 480x640 (no detections), 62.0ms\n",
      "Speed: 0.0ms preprocess, 62.0ms inference, 0.0ms postprocess per image at shape (1, 3, 480, 640)\n",
      "\n",
      "0: 480x640 (no detections), 62.7ms\n",
      "Speed: 2.0ms preprocess, 62.7ms inference, 1.0ms postprocess per image at shape (1, 3, 480, 640)\n",
      "\n",
      "0: 480x640 (no detections), 62.3ms\n",
      "Speed: 2.0ms preprocess, 62.3ms inference, 0.0ms postprocess per image at shape (1, 3, 480, 640)\n",
      "\n",
      "0: 480x640 (no detections), 62.6ms\n",
      "Speed: 0.0ms preprocess, 62.6ms inference, 0.0ms postprocess per image at shape (1, 3, 480, 640)\n",
      "\n",
      "0: 480x640 (no detections), 63.2ms\n",
      "Speed: 2.0ms preprocess, 63.2ms inference, 0.0ms postprocess per image at shape (1, 3, 480, 640)\n",
      "\n",
      "0: 480x640 (no detections), 67.1ms\n",
      "Speed: 0.0ms preprocess, 67.1ms inference, 1.0ms postprocess per image at shape (1, 3, 480, 640)\n",
      "\n",
      "0: 480x640 (no detections), 60.9ms\n",
      "Speed: 0.0ms preprocess, 60.9ms inference, 0.5ms postprocess per image at shape (1, 3, 480, 640)\n",
      "\n",
      "0: 480x640 (no detections), 62.3ms\n",
      "Speed: 2.9ms preprocess, 62.3ms inference, 1.0ms postprocess per image at shape (1, 3, 480, 640)\n",
      "\n",
      "0: 480x640 (no detections), 62.8ms\n",
      "Speed: 2.0ms preprocess, 62.8ms inference, 0.0ms postprocess per image at shape (1, 3, 480, 640)\n",
      "\n",
      "0: 480x640 (no detections), 91.5ms\n",
      "Speed: 2.0ms preprocess, 91.5ms inference, 0.0ms postprocess per image at shape (1, 3, 480, 640)\n",
      "\n",
      "0: 480x640 (no detections), 61.2ms\n",
      "Speed: 3.0ms preprocess, 61.2ms inference, 1.0ms postprocess per image at shape (1, 3, 480, 640)\n",
      "\n",
      "0: 480x640 (no detections), 63.6ms\n",
      "Speed: 2.0ms preprocess, 63.6ms inference, 1.0ms postprocess per image at shape (1, 3, 480, 640)\n",
      "\n",
      "0: 480x640 (no detections), 54.4ms\n",
      "Speed: 2.0ms preprocess, 54.4ms inference, 0.0ms postprocess per image at shape (1, 3, 480, 640)\n",
      "\n",
      "0: 480x640 (no detections), 55.7ms\n",
      "Speed: 2.0ms preprocess, 55.7ms inference, 1.0ms postprocess per image at shape (1, 3, 480, 640)\n",
      "\n",
      "0: 480x640 (no detections), 59.4ms\n",
      "Speed: 3.0ms preprocess, 59.4ms inference, 1.0ms postprocess per image at shape (1, 3, 480, 640)\n"
     ]
    },
    {
     "name": "stdout",
     "output_type": "stream",
     "text": [
      "\n",
      "0: 480x640 (no detections), 62.0ms\n",
      "Speed: 2.0ms preprocess, 62.0ms inference, 0.0ms postprocess per image at shape (1, 3, 480, 640)\n",
      "\n",
      "0: 480x640 (no detections), 50.7ms\n",
      "Speed: 2.0ms preprocess, 50.7ms inference, 0.0ms postprocess per image at shape (1, 3, 480, 640)\n",
      "\n",
      "0: 480x640 (no detections), 63.2ms\n",
      "Speed: 2.0ms preprocess, 63.2ms inference, 0.0ms postprocess per image at shape (1, 3, 480, 640)\n",
      "\n",
      "0: 480x640 (no detections), 62.5ms\n",
      "Speed: 1.0ms preprocess, 62.5ms inference, 1.0ms postprocess per image at shape (1, 3, 480, 640)\n",
      "\n",
      "0: 480x640 (no detections), 62.6ms\n",
      "Speed: 2.2ms preprocess, 62.6ms inference, 1.0ms postprocess per image at shape (1, 3, 480, 640)\n",
      "\n",
      "0: 480x640 (no detections), 64.5ms\n",
      "Speed: 0.5ms preprocess, 64.5ms inference, 0.0ms postprocess per image at shape (1, 3, 480, 640)\n",
      "\n",
      "0: 480x640 (no detections), 67.5ms\n",
      "Speed: 0.0ms preprocess, 67.5ms inference, 0.0ms postprocess per image at shape (1, 3, 480, 640)\n",
      "\n",
      "0: 480x640 (no detections), 58.2ms\n",
      "Speed: 2.0ms preprocess, 58.2ms inference, 0.0ms postprocess per image at shape (1, 3, 480, 640)\n",
      "\n",
      "0: 480x640 (no detections), 53.7ms\n",
      "Speed: 1.3ms preprocess, 53.7ms inference, 1.0ms postprocess per image at shape (1, 3, 480, 640)\n",
      "\n",
      "0: 480x640 (no detections), 56.6ms\n",
      "Speed: 2.4ms preprocess, 56.6ms inference, 0.0ms postprocess per image at shape (1, 3, 480, 640)\n",
      "\n",
      "0: 480x640 (no detections), 58.5ms\n",
      "Speed: 2.1ms preprocess, 58.5ms inference, 1.0ms postprocess per image at shape (1, 3, 480, 640)\n",
      "\n",
      "0: 480x640 (no detections), 65.2ms\n",
      "Speed: 0.0ms preprocess, 65.2ms inference, 0.0ms postprocess per image at shape (1, 3, 480, 640)\n",
      "\n",
      "0: 480x640 (no detections), 53.2ms\n",
      "Speed: 3.0ms preprocess, 53.2ms inference, 0.0ms postprocess per image at shape (1, 3, 480, 640)\n",
      "\n",
      "0: 480x640 (no detections), 62.1ms\n",
      "Speed: 0.0ms preprocess, 62.1ms inference, 0.0ms postprocess per image at shape (1, 3, 480, 640)\n",
      "\n",
      "0: 480x640 (no detections), 61.5ms\n",
      "Speed: 0.0ms preprocess, 61.5ms inference, 0.0ms postprocess per image at shape (1, 3, 480, 640)\n",
      "\n",
      "0: 480x640 (no detections), 60.8ms\n",
      "Speed: 2.6ms preprocess, 60.8ms inference, 0.0ms postprocess per image at shape (1, 3, 480, 640)\n",
      "\n",
      "0: 480x640 (no detections), 55.6ms\n",
      "Speed: 0.0ms preprocess, 55.6ms inference, 1.0ms postprocess per image at shape (1, 3, 480, 640)\n",
      "\n",
      "0: 480x640 (no detections), 61.3ms\n",
      "Speed: 2.0ms preprocess, 61.3ms inference, 1.0ms postprocess per image at shape (1, 3, 480, 640)\n",
      "\n",
      "0: 480x640 (no detections), 58.4ms\n",
      "Speed: 2.5ms preprocess, 58.4ms inference, 0.0ms postprocess per image at shape (1, 3, 480, 640)\n",
      "\n",
      "0: 480x640 (no detections), 53.4ms\n",
      "Speed: 2.9ms preprocess, 53.4ms inference, 0.0ms postprocess per image at shape (1, 3, 480, 640)\n",
      "\n",
      "0: 480x640 (no detections), 60.9ms\n",
      "Speed: 2.0ms preprocess, 60.9ms inference, 1.0ms postprocess per image at shape (1, 3, 480, 640)\n",
      "\n",
      "0: 480x640 (no detections), 57.1ms\n",
      "Speed: 1.0ms preprocess, 57.1ms inference, 1.0ms postprocess per image at shape (1, 3, 480, 640)\n",
      "\n",
      "0: 480x640 (no detections), 56.0ms\n",
      "Speed: 2.0ms preprocess, 56.0ms inference, 1.0ms postprocess per image at shape (1, 3, 480, 640)\n",
      "\n",
      "0: 480x640 (no detections), 63.2ms\n",
      "Speed: 0.0ms preprocess, 63.2ms inference, 0.0ms postprocess per image at shape (1, 3, 480, 640)\n",
      "\n",
      "0: 480x640 (no detections), 55.7ms\n",
      "Speed: 2.3ms preprocess, 55.7ms inference, 0.0ms postprocess per image at shape (1, 3, 480, 640)\n",
      "\n",
      "0: 480x640 (no detections), 63.1ms\n",
      "Speed: 2.0ms preprocess, 63.1ms inference, 0.0ms postprocess per image at shape (1, 3, 480, 640)\n",
      "\n",
      "0: 480x640 (no detections), 60.3ms\n",
      "Speed: 0.0ms preprocess, 60.3ms inference, 0.0ms postprocess per image at shape (1, 3, 480, 640)\n",
      "\n",
      "0: 480x640 (no detections), 63.1ms\n",
      "Speed: 2.0ms preprocess, 63.1ms inference, 0.0ms postprocess per image at shape (1, 3, 480, 640)\n",
      "\n",
      "0: 480x640 (no detections), 59.2ms\n",
      "Speed: 0.0ms preprocess, 59.2ms inference, 0.0ms postprocess per image at shape (1, 3, 480, 640)\n",
      "\n",
      "0: 480x640 (no detections), 56.6ms\n",
      "Speed: 2.5ms preprocess, 56.6ms inference, 1.0ms postprocess per image at shape (1, 3, 480, 640)\n",
      "\n",
      "0: 480x640 (no detections), 51.5ms\n",
      "Speed: 2.5ms preprocess, 51.5ms inference, 1.0ms postprocess per image at shape (1, 3, 480, 640)\n",
      "\n",
      "0: 480x640 (no detections), 63.1ms\n",
      "Speed: 0.0ms preprocess, 63.1ms inference, 1.0ms postprocess per image at shape (1, 3, 480, 640)\n",
      "\n",
      "0: 480x640 (no detections), 65.8ms\n",
      "Speed: 0.0ms preprocess, 65.8ms inference, 0.0ms postprocess per image at shape (1, 3, 480, 640)\n",
      "\n",
      "0: 480x640 (no detections), 52.2ms\n",
      "Speed: 2.8ms preprocess, 52.2ms inference, 0.0ms postprocess per image at shape (1, 3, 480, 640)\n",
      "\n",
      "0: 480x640 (no detections), 63.2ms\n",
      "Speed: 0.0ms preprocess, 63.2ms inference, 0.0ms postprocess per image at shape (1, 3, 480, 640)\n",
      "\n",
      "0: 480x640 (no detections), 46.8ms\n",
      "Speed: 2.0ms preprocess, 46.8ms inference, 0.0ms postprocess per image at shape (1, 3, 480, 640)\n",
      "\n",
      "0: 480x640 (no detections), 45.8ms\n",
      "Speed: 2.0ms preprocess, 45.8ms inference, 0.0ms postprocess per image at shape (1, 3, 480, 640)\n",
      "\n",
      "0: 480x640 (no detections), 60.3ms\n",
      "Speed: 1.5ms preprocess, 60.3ms inference, 1.0ms postprocess per image at shape (1, 3, 480, 640)\n",
      "\n",
      "0: 480x640 (no detections), 56.6ms\n",
      "Speed: 2.0ms preprocess, 56.6ms inference, 1.4ms postprocess per image at shape (1, 3, 480, 640)\n",
      "\n",
      "0: 480x640 (no detections), 63.9ms\n",
      "Speed: 2.0ms preprocess, 63.9ms inference, 0.0ms postprocess per image at shape (1, 3, 480, 640)\n",
      "\n",
      "0: 480x640 (no detections), 63.0ms\n",
      "Speed: 3.0ms preprocess, 63.0ms inference, 0.0ms postprocess per image at shape (1, 3, 480, 640)\n",
      "\n",
      "0: 480x640 (no detections), 60.9ms\n",
      "Speed: 0.0ms preprocess, 60.9ms inference, 1.0ms postprocess per image at shape (1, 3, 480, 640)\n",
      "\n",
      "0: 480x640 (no detections), 63.2ms\n",
      "Speed: 2.5ms preprocess, 63.2ms inference, 0.0ms postprocess per image at shape (1, 3, 480, 640)\n",
      "\n",
      "0: 480x640 (no detections), 64.7ms\n",
      "Speed: 2.0ms preprocess, 64.7ms inference, 0.0ms postprocess per image at shape (1, 3, 480, 640)\n",
      "\n",
      "0: 480x640 (no detections), 56.4ms\n",
      "Speed: 1.0ms preprocess, 56.4ms inference, 0.0ms postprocess per image at shape (1, 3, 480, 640)\n",
      "\n",
      "0: 480x640 (no detections), 56.9ms\n",
      "Speed: 0.0ms preprocess, 56.9ms inference, 0.0ms postprocess per image at shape (1, 3, 480, 640)\n",
      "\n",
      "0: 480x640 (no detections), 46.8ms\n",
      "Speed: 1.0ms preprocess, 46.8ms inference, 0.0ms postprocess per image at shape (1, 3, 480, 640)\n",
      "\n",
      "0: 480x640 (no detections), 54.5ms\n",
      "Speed: 2.0ms preprocess, 54.5ms inference, 1.0ms postprocess per image at shape (1, 3, 480, 640)\n",
      "\n",
      "0: 480x640 (no detections), 58.9ms\n",
      "Speed: 3.0ms preprocess, 58.9ms inference, 0.0ms postprocess per image at shape (1, 3, 480, 640)\n",
      "\n",
      "0: 480x640 (no detections), 59.4ms\n",
      "Speed: 2.0ms preprocess, 59.4ms inference, 1.0ms postprocess per image at shape (1, 3, 480, 640)\n",
      "\n",
      "0: 480x640 1 J, 63.6ms\n",
      "Speed: 1.0ms preprocess, 63.6ms inference, 0.0ms postprocess per image at shape (1, 3, 480, 640)\n",
      "Bounding box: (186, 214), (412, 470)\n",
      "Center: (299, 342)\n",
      "\n",
      "0: 480x640 (no detections), 58.7ms\n",
      "Speed: 0.0ms preprocess, 58.7ms inference, 0.0ms postprocess per image at shape (1, 3, 480, 640)\n",
      "\n",
      "0: 480x640 (no detections), 63.4ms\n",
      "Speed: 2.5ms preprocess, 63.4ms inference, 0.0ms postprocess per image at shape (1, 3, 480, 640)\n",
      "\n",
      "0: 480x640 (no detections), 59.5ms\n",
      "Speed: 2.0ms preprocess, 59.5ms inference, 1.0ms postprocess per image at shape (1, 3, 480, 640)\n",
      "\n",
      "0: 480x640 (no detections), 53.0ms\n",
      "Speed: 2.0ms preprocess, 53.0ms inference, 0.0ms postprocess per image at shape (1, 3, 480, 640)\n",
      "\n",
      "0: 480x640 (no detections), 76.3ms\n",
      "Speed: 0.0ms preprocess, 76.3ms inference, 0.0ms postprocess per image at shape (1, 3, 480, 640)\n",
      "\n",
      "0: 480x640 (no detections), 62.3ms\n",
      "Speed: 4.0ms preprocess, 62.3ms inference, 0.0ms postprocess per image at shape (1, 3, 480, 640)\n",
      "\n",
      "0: 480x640 (no detections), 45.6ms\n",
      "Speed: 2.5ms preprocess, 45.6ms inference, 0.0ms postprocess per image at shape (1, 3, 480, 640)\n",
      "\n",
      "0: 480x640 (no detections), 65.4ms\n",
      "Speed: 2.0ms preprocess, 65.4ms inference, 0.0ms postprocess per image at shape (1, 3, 480, 640)\n",
      "\n",
      "0: 480x640 (no detections), 62.5ms\n",
      "Speed: 2.0ms preprocess, 62.5ms inference, 0.0ms postprocess per image at shape (1, 3, 480, 640)\n",
      "\n",
      "0: 480x640 (no detections), 66.2ms\n",
      "Speed: 0.0ms preprocess, 66.2ms inference, 0.0ms postprocess per image at shape (1, 3, 480, 640)\n",
      "\n",
      "0: 480x640 (no detections), 63.3ms\n"
     ]
    },
    {
     "name": "stdout",
     "output_type": "stream",
     "text": [
      "Speed: 2.0ms preprocess, 63.3ms inference, 0.0ms postprocess per image at shape (1, 3, 480, 640)\n",
      "\n",
      "0: 480x640 (no detections), 62.5ms\n",
      "Speed: 2.5ms preprocess, 62.5ms inference, 0.0ms postprocess per image at shape (1, 3, 480, 640)\n",
      "\n",
      "0: 480x640 (no detections), 53.5ms\n",
      "Speed: 0.0ms preprocess, 53.5ms inference, 1.0ms postprocess per image at shape (1, 3, 480, 640)\n",
      "\n",
      "0: 480x640 (no detections), 57.0ms\n",
      "Speed: 0.0ms preprocess, 57.0ms inference, 1.0ms postprocess per image at shape (1, 3, 480, 640)\n",
      "\n",
      "0: 480x640 (no detections), 60.7ms\n",
      "Speed: 2.4ms preprocess, 60.7ms inference, 0.0ms postprocess per image at shape (1, 3, 480, 640)\n",
      "\n",
      "0: 480x640 (no detections), 62.3ms\n",
      "Speed: 3.1ms preprocess, 62.3ms inference, 0.0ms postprocess per image at shape (1, 3, 480, 640)\n",
      "\n",
      "0: 480x640 (no detections), 61.8ms\n",
      "Speed: 0.0ms preprocess, 61.8ms inference, 0.0ms postprocess per image at shape (1, 3, 480, 640)\n",
      "\n",
      "0: 480x640 (no detections), 62.2ms\n",
      "Speed: 2.3ms preprocess, 62.2ms inference, 0.0ms postprocess per image at shape (1, 3, 480, 640)\n",
      "\n",
      "0: 480x640 (no detections), 53.0ms\n",
      "Speed: 2.1ms preprocess, 53.0ms inference, 1.0ms postprocess per image at shape (1, 3, 480, 640)\n",
      "\n",
      "0: 480x640 (no detections), 55.7ms\n",
      "Speed: 2.0ms preprocess, 55.7ms inference, 0.0ms postprocess per image at shape (1, 3, 480, 640)\n",
      "\n",
      "0: 480x640 (no detections), 62.4ms\n",
      "Speed: 3.3ms preprocess, 62.4ms inference, 0.0ms postprocess per image at shape (1, 3, 480, 640)\n",
      "\n",
      "0: 480x640 (no detections), 43.9ms\n",
      "Speed: 3.3ms preprocess, 43.9ms inference, 0.0ms postprocess per image at shape (1, 3, 480, 640)\n",
      "\n",
      "0: 480x640 (no detections), 49.1ms\n",
      "Speed: 0.0ms preprocess, 49.1ms inference, 0.0ms postprocess per image at shape (1, 3, 480, 640)\n",
      "\n",
      "0: 480x640 (no detections), 48.9ms\n",
      "Speed: 0.0ms preprocess, 48.9ms inference, 0.0ms postprocess per image at shape (1, 3, 480, 640)\n",
      "\n",
      "0: 480x640 (no detections), 46.9ms\n",
      "Speed: 2.0ms preprocess, 46.9ms inference, 0.0ms postprocess per image at shape (1, 3, 480, 640)\n",
      "\n",
      "0: 480x640 (no detections), 46.9ms\n",
      "Speed: 2.0ms preprocess, 46.9ms inference, 0.0ms postprocess per image at shape (1, 3, 480, 640)\n",
      "\n",
      "0: 480x640 (no detections), 47.5ms\n",
      "Speed: 2.0ms preprocess, 47.5ms inference, 0.0ms postprocess per image at shape (1, 3, 480, 640)\n",
      "\n",
      "0: 480x640 (no detections), 62.3ms\n",
      "Speed: 2.4ms preprocess, 62.3ms inference, 0.0ms postprocess per image at shape (1, 3, 480, 640)\n",
      "\n",
      "0: 480x640 (no detections), 51.4ms\n",
      "Speed: 2.0ms preprocess, 51.4ms inference, 0.0ms postprocess per image at shape (1, 3, 480, 640)\n",
      "\n",
      "0: 480x640 (no detections), 63.5ms\n",
      "Speed: 2.0ms preprocess, 63.5ms inference, 0.0ms postprocess per image at shape (1, 3, 480, 640)\n",
      "\n",
      "0: 480x640 (no detections), 46.8ms\n",
      "Speed: 2.0ms preprocess, 46.8ms inference, 0.0ms postprocess per image at shape (1, 3, 480, 640)\n",
      "\n",
      "0: 480x640 (no detections), 61.7ms\n",
      "Speed: 2.0ms preprocess, 61.7ms inference, 1.0ms postprocess per image at shape (1, 3, 480, 640)\n",
      "\n",
      "0: 480x640 (no detections), 61.3ms\n",
      "Speed: 0.0ms preprocess, 61.3ms inference, 0.0ms postprocess per image at shape (1, 3, 480, 640)\n",
      "\n",
      "0: 480x640 (no detections), 52.1ms\n",
      "Speed: 2.5ms preprocess, 52.1ms inference, 0.0ms postprocess per image at shape (1, 3, 480, 640)\n",
      "\n",
      "0: 480x640 (no detections), 65.4ms\n",
      "Speed: 0.0ms preprocess, 65.4ms inference, 0.0ms postprocess per image at shape (1, 3, 480, 640)\n",
      "\n",
      "0: 480x640 (no detections), 62.8ms\n",
      "Speed: 1.0ms preprocess, 62.8ms inference, 1.0ms postprocess per image at shape (1, 3, 480, 640)\n",
      "\n",
      "0: 480x640 (no detections), 61.9ms\n",
      "Speed: 2.1ms preprocess, 61.9ms inference, 0.0ms postprocess per image at shape (1, 3, 480, 640)\n",
      "\n",
      "0: 480x640 (no detections), 64.8ms\n",
      "Speed: 2.0ms preprocess, 64.8ms inference, 0.0ms postprocess per image at shape (1, 3, 480, 640)\n",
      "\n",
      "0: 480x640 (no detections), 66.4ms\n",
      "Speed: 2.0ms preprocess, 66.4ms inference, 1.0ms postprocess per image at shape (1, 3, 480, 640)\n",
      "\n",
      "0: 480x640 (no detections), 70.2ms\n",
      "Speed: 0.0ms preprocess, 70.2ms inference, 0.0ms postprocess per image at shape (1, 3, 480, 640)\n",
      "\n",
      "0: 480x640 (no detections), 64.7ms\n",
      "Speed: 2.7ms preprocess, 64.7ms inference, 1.0ms postprocess per image at shape (1, 3, 480, 640)\n",
      "\n",
      "0: 480x640 (no detections), 59.4ms\n",
      "Speed: 2.0ms preprocess, 59.4ms inference, 1.0ms postprocess per image at shape (1, 3, 480, 640)\n",
      "\n",
      "0: 480x640 (no detections), 56.6ms\n",
      "Speed: 3.8ms preprocess, 56.6ms inference, 1.0ms postprocess per image at shape (1, 3, 480, 640)\n",
      "\n",
      "0: 480x640 (no detections), 55.0ms\n",
      "Speed: 2.3ms preprocess, 55.0ms inference, 1.0ms postprocess per image at shape (1, 3, 480, 640)\n",
      "\n",
      "0: 480x640 (no detections), 58.8ms\n",
      "Speed: 2.9ms preprocess, 58.8ms inference, 0.0ms postprocess per image at shape (1, 3, 480, 640)\n",
      "\n",
      "0: 480x640 (no detections), 59.5ms\n",
      "Speed: 2.0ms preprocess, 59.5ms inference, 0.7ms postprocess per image at shape (1, 3, 480, 640)\n",
      "\n",
      "0: 480x640 (no detections), 61.0ms\n",
      "Speed: 1.0ms preprocess, 61.0ms inference, 0.0ms postprocess per image at shape (1, 3, 480, 640)\n",
      "\n",
      "0: 480x640 (no detections), 57.6ms\n",
      "Speed: 2.5ms preprocess, 57.6ms inference, 0.0ms postprocess per image at shape (1, 3, 480, 640)\n",
      "\n",
      "0: 480x640 (no detections), 59.2ms\n",
      "Speed: 2.2ms preprocess, 59.2ms inference, 1.3ms postprocess per image at shape (1, 3, 480, 640)\n",
      "\n",
      "0: 480x640 (no detections), 59.3ms\n",
      "Speed: 2.2ms preprocess, 59.3ms inference, 1.0ms postprocess per image at shape (1, 3, 480, 640)\n",
      "\n",
      "0: 480x640 (no detections), 59.4ms\n",
      "Speed: 0.0ms preprocess, 59.4ms inference, 0.7ms postprocess per image at shape (1, 3, 480, 640)\n",
      "\n",
      "0: 480x640 (no detections), 60.2ms\n",
      "Speed: 1.0ms preprocess, 60.2ms inference, 1.0ms postprocess per image at shape (1, 3, 480, 640)\n",
      "\n",
      "0: 480x640 (no detections), 58.6ms\n",
      "Speed: 2.0ms preprocess, 58.6ms inference, 0.0ms postprocess per image at shape (1, 3, 480, 640)\n",
      "\n",
      "0: 480x640 (no detections), 61.6ms\n",
      "Speed: 2.5ms preprocess, 61.6ms inference, 0.5ms postprocess per image at shape (1, 3, 480, 640)\n",
      "\n",
      "0: 480x640 (no detections), 54.9ms\n",
      "Speed: 2.0ms preprocess, 54.9ms inference, 1.0ms postprocess per image at shape (1, 3, 480, 640)\n",
      "\n",
      "0: 480x640 (no detections), 55.7ms\n",
      "Speed: 2.0ms preprocess, 55.7ms inference, 1.0ms postprocess per image at shape (1, 3, 480, 640)\n",
      "\n",
      "0: 480x640 (no detections), 54.2ms\n",
      "Speed: 2.6ms preprocess, 54.2ms inference, 1.0ms postprocess per image at shape (1, 3, 480, 640)\n",
      "\n",
      "0: 480x640 (no detections), 55.1ms\n",
      "Speed: 3.0ms preprocess, 55.1ms inference, 0.0ms postprocess per image at shape (1, 3, 480, 640)\n",
      "\n",
      "0: 480x640 (no detections), 55.8ms\n",
      "Speed: 2.4ms preprocess, 55.8ms inference, 0.0ms postprocess per image at shape (1, 3, 480, 640)\n",
      "\n",
      "0: 480x640 (no detections), 60.0ms\n",
      "Speed: 3.1ms preprocess, 60.0ms inference, 0.0ms postprocess per image at shape (1, 3, 480, 640)\n",
      "\n",
      "0: 480x640 (no detections), 58.5ms\n",
      "Speed: 2.0ms preprocess, 58.5ms inference, 0.7ms postprocess per image at shape (1, 3, 480, 640)\n",
      "\n",
      "0: 480x640 (no detections), 59.9ms\n",
      "Speed: 1.9ms preprocess, 59.9ms inference, 1.6ms postprocess per image at shape (1, 3, 480, 640)\n",
      "\n",
      "0: 480x640 (no detections), 58.4ms\n",
      "Speed: 2.0ms preprocess, 58.4ms inference, 0.0ms postprocess per image at shape (1, 3, 480, 640)\n",
      "\n",
      "0: 480x640 (no detections), 55.6ms\n",
      "Speed: 2.0ms preprocess, 55.6ms inference, 1.0ms postprocess per image at shape (1, 3, 480, 640)\n",
      "\n",
      "0: 480x640 (no detections), 76.0ms\n",
      "Speed: 2.8ms preprocess, 76.0ms inference, 0.0ms postprocess per image at shape (1, 3, 480, 640)\n",
      "\n",
      "0: 480x640 (no detections), 64.6ms\n",
      "Speed: 2.0ms preprocess, 64.6ms inference, 0.1ms postprocess per image at shape (1, 3, 480, 640)\n",
      "\n",
      "0: 480x640 (no detections), 51.2ms\n",
      "Speed: 1.3ms preprocess, 51.2ms inference, 0.0ms postprocess per image at shape (1, 3, 480, 640)\n",
      "\n",
      "0: 480x640 (no detections), 59.2ms\n",
      "Speed: 2.0ms preprocess, 59.2ms inference, 1.0ms postprocess per image at shape (1, 3, 480, 640)\n",
      "\n",
      "0: 480x640 (no detections), 59.1ms\n",
      "Speed: 1.0ms preprocess, 59.1ms inference, 1.4ms postprocess per image at shape (1, 3, 480, 640)\n",
      "\n",
      "0: 480x640 (no detections), 59.4ms\n",
      "Speed: 0.0ms preprocess, 59.4ms inference, 1.0ms postprocess per image at shape (1, 3, 480, 640)\n",
      "\n",
      "0: 480x640 (no detections), 78.6ms\n",
      "Speed: 26.1ms preprocess, 78.6ms inference, 0.0ms postprocess per image at shape (1, 3, 480, 640)\n",
      "\n",
      "0: 480x640 (no detections), 59.3ms\n",
      "Speed: 2.0ms preprocess, 59.3ms inference, 0.0ms postprocess per image at shape (1, 3, 480, 640)\n"
     ]
    },
    {
     "name": "stdout",
     "output_type": "stream",
     "text": [
      "\n",
      "0: 480x640 (no detections), 53.1ms\n",
      "Speed: 1.0ms preprocess, 53.1ms inference, 0.0ms postprocess per image at shape (1, 3, 480, 640)\n",
      "\n",
      "0: 480x640 (no detections), 64.1ms\n",
      "Speed: 2.0ms preprocess, 64.1ms inference, 0.0ms postprocess per image at shape (1, 3, 480, 640)\n",
      "\n",
      "0: 480x640 (no detections), 66.5ms\n",
      "Speed: 4.2ms preprocess, 66.5ms inference, 0.0ms postprocess per image at shape (1, 3, 480, 640)\n",
      "\n",
      "0: 480x640 (no detections), 58.7ms\n",
      "Speed: 1.0ms preprocess, 58.7ms inference, 0.0ms postprocess per image at shape (1, 3, 480, 640)\n",
      "\n",
      "0: 480x640 (no detections), 49.6ms\n",
      "Speed: 0.0ms preprocess, 49.6ms inference, 13.9ms postprocess per image at shape (1, 3, 480, 640)\n",
      "\n",
      "0: 480x640 (no detections), 64.9ms\n",
      "Speed: 2.0ms preprocess, 64.9ms inference, 1.0ms postprocess per image at shape (1, 3, 480, 640)\n",
      "\n",
      "0: 480x640 (no detections), 58.5ms\n",
      "Speed: 2.0ms preprocess, 58.5ms inference, 1.0ms postprocess per image at shape (1, 3, 480, 640)\n",
      "\n",
      "0: 480x640 (no detections), 57.4ms\n",
      "Speed: 1.1ms preprocess, 57.4ms inference, 1.0ms postprocess per image at shape (1, 3, 480, 640)\n",
      "\n",
      "0: 480x640 (no detections), 56.0ms\n",
      "Speed: 0.0ms preprocess, 56.0ms inference, 1.0ms postprocess per image at shape (1, 3, 480, 640)\n",
      "\n",
      "0: 480x640 (no detections), 57.8ms\n",
      "Speed: 2.0ms preprocess, 57.8ms inference, 1.0ms postprocess per image at shape (1, 3, 480, 640)\n",
      "\n",
      "0: 480x640 (no detections), 47.3ms\n",
      "Speed: 2.2ms preprocess, 47.3ms inference, 0.0ms postprocess per image at shape (1, 3, 480, 640)\n",
      "\n",
      "0: 480x640 (no detections), 60.6ms\n",
      "Speed: 3.0ms preprocess, 60.6ms inference, 0.5ms postprocess per image at shape (1, 3, 480, 640)\n",
      "\n",
      "0: 480x640 (no detections), 55.0ms\n",
      "Speed: 2.0ms preprocess, 55.0ms inference, 1.0ms postprocess per image at shape (1, 3, 480, 640)\n",
      "\n",
      "0: 480x640 (no detections), 52.8ms\n",
      "Speed: 1.6ms preprocess, 52.8ms inference, 0.0ms postprocess per image at shape (1, 3, 480, 640)\n",
      "\n",
      "0: 480x640 (no detections), 54.5ms\n",
      "Speed: 1.6ms preprocess, 54.5ms inference, 1.0ms postprocess per image at shape (1, 3, 480, 640)\n",
      "\n",
      "0: 480x640 (no detections), 57.7ms\n",
      "Speed: 1.8ms preprocess, 57.7ms inference, 1.0ms postprocess per image at shape (1, 3, 480, 640)\n",
      "\n",
      "0: 480x640 (no detections), 60.8ms\n",
      "Speed: 2.0ms preprocess, 60.8ms inference, 0.0ms postprocess per image at shape (1, 3, 480, 640)\n",
      "\n",
      "0: 480x640 (no detections), 59.8ms\n",
      "Speed: 2.2ms preprocess, 59.8ms inference, 0.0ms postprocess per image at shape (1, 3, 480, 640)\n",
      "\n",
      "0: 480x640 (no detections), 69.5ms\n",
      "Speed: 2.3ms preprocess, 69.5ms inference, 0.0ms postprocess per image at shape (1, 3, 480, 640)\n",
      "\n",
      "0: 480x640 (no detections), 66.5ms\n",
      "Speed: 2.1ms preprocess, 66.5ms inference, 0.5ms postprocess per image at shape (1, 3, 480, 640)\n",
      "\n",
      "0: 480x640 (no detections), 60.2ms\n",
      "Speed: 3.0ms preprocess, 60.2ms inference, 1.0ms postprocess per image at shape (1, 3, 480, 640)\n",
      "\n",
      "0: 480x640 (no detections), 59.5ms\n",
      "Speed: 2.3ms preprocess, 59.5ms inference, 1.0ms postprocess per image at shape (1, 3, 480, 640)\n",
      "\n",
      "0: 480x640 (no detections), 59.5ms\n",
      "Speed: 2.9ms preprocess, 59.5ms inference, 0.0ms postprocess per image at shape (1, 3, 480, 640)\n",
      "\n",
      "0: 480x640 (no detections), 65.0ms\n",
      "Speed: 2.4ms preprocess, 65.0ms inference, 0.0ms postprocess per image at shape (1, 3, 480, 640)\n",
      "\n",
      "0: 480x640 (no detections), 58.0ms\n",
      "Speed: 3.0ms preprocess, 58.0ms inference, 1.0ms postprocess per image at shape (1, 3, 480, 640)\n",
      "\n",
      "0: 480x640 (no detections), 61.3ms\n",
      "Speed: 2.0ms preprocess, 61.3ms inference, 1.3ms postprocess per image at shape (1, 3, 480, 640)\n",
      "\n",
      "0: 480x640 (no detections), 70.2ms\n",
      "Speed: 4.7ms preprocess, 70.2ms inference, 1.1ms postprocess per image at shape (1, 3, 480, 640)\n",
      "\n",
      "0: 480x640 (no detections), 69.4ms\n",
      "Speed: 2.0ms preprocess, 69.4ms inference, 0.0ms postprocess per image at shape (1, 3, 480, 640)\n",
      "\n",
      "0: 480x640 (no detections), 66.6ms\n",
      "Speed: 2.0ms preprocess, 66.6ms inference, 0.0ms postprocess per image at shape (1, 3, 480, 640)\n",
      "\n",
      "0: 480x640 (no detections), 65.1ms\n",
      "Speed: 2.0ms preprocess, 65.1ms inference, 1.0ms postprocess per image at shape (1, 3, 480, 640)\n",
      "\n",
      "0: 480x640 (no detections), 60.7ms\n",
      "Speed: 3.2ms preprocess, 60.7ms inference, 1.4ms postprocess per image at shape (1, 3, 480, 640)\n",
      "\n",
      "0: 480x640 (no detections), 60.4ms\n",
      "Speed: 1.8ms preprocess, 60.4ms inference, 0.0ms postprocess per image at shape (1, 3, 480, 640)\n",
      "\n",
      "0: 480x640 (no detections), 58.0ms\n",
      "Speed: 1.0ms preprocess, 58.0ms inference, 1.0ms postprocess per image at shape (1, 3, 480, 640)\n",
      "\n",
      "0: 480x640 (no detections), 59.7ms\n",
      "Speed: 2.5ms preprocess, 59.7ms inference, 1.0ms postprocess per image at shape (1, 3, 480, 640)\n",
      "\n",
      "0: 480x640 (no detections), 60.0ms\n",
      "Speed: 1.6ms preprocess, 60.0ms inference, 1.0ms postprocess per image at shape (1, 3, 480, 640)\n",
      "\n",
      "0: 480x640 (no detections), 56.0ms\n",
      "Speed: 1.0ms preprocess, 56.0ms inference, 1.0ms postprocess per image at shape (1, 3, 480, 640)\n",
      "\n",
      "0: 480x640 (no detections), 57.6ms\n",
      "Speed: 1.0ms preprocess, 57.6ms inference, 0.0ms postprocess per image at shape (1, 3, 480, 640)\n",
      "\n",
      "0: 480x640 (no detections), 54.3ms\n",
      "Speed: 2.7ms preprocess, 54.3ms inference, 1.0ms postprocess per image at shape (1, 3, 480, 640)\n",
      "\n",
      "0: 480x640 (no detections), 66.9ms\n",
      "Speed: 2.1ms preprocess, 66.9ms inference, 1.0ms postprocess per image at shape (1, 3, 480, 640)\n",
      "\n",
      "0: 480x640 (no detections), 54.6ms\n",
      "Speed: 2.2ms preprocess, 54.6ms inference, 0.0ms postprocess per image at shape (1, 3, 480, 640)\n",
      "\n",
      "0: 480x640 (no detections), 56.4ms\n",
      "Speed: 3.0ms preprocess, 56.4ms inference, 1.0ms postprocess per image at shape (1, 3, 480, 640)\n",
      "\n",
      "0: 480x640 (no detections), 64.7ms\n",
      "Speed: 0.5ms preprocess, 64.7ms inference, 0.0ms postprocess per image at shape (1, 3, 480, 640)\n",
      "\n",
      "0: 480x640 (no detections), 89.8ms\n",
      "Speed: 3.3ms preprocess, 89.8ms inference, 0.0ms postprocess per image at shape (1, 3, 480, 640)\n",
      "\n",
      "0: 480x640 (no detections), 67.6ms\n",
      "Speed: 2.0ms preprocess, 67.6ms inference, 0.0ms postprocess per image at shape (1, 3, 480, 640)\n",
      "\n",
      "0: 480x640 (no detections), 58.2ms\n",
      "Speed: 0.0ms preprocess, 58.2ms inference, 0.0ms postprocess per image at shape (1, 3, 480, 640)\n",
      "\n",
      "0: 480x640 (no detections), 65.0ms\n",
      "Speed: 0.0ms preprocess, 65.0ms inference, 0.0ms postprocess per image at shape (1, 3, 480, 640)\n",
      "\n",
      "0: 480x640 (no detections), 65.8ms\n",
      "Speed: 2.1ms preprocess, 65.8ms inference, 0.0ms postprocess per image at shape (1, 3, 480, 640)\n",
      "\n",
      "0: 480x640 (no detections), 69.1ms\n",
      "Speed: 0.0ms preprocess, 69.1ms inference, 0.0ms postprocess per image at shape (1, 3, 480, 640)\n",
      "\n",
      "0: 480x640 (no detections), 63.8ms\n",
      "Speed: 0.0ms preprocess, 63.8ms inference, 0.0ms postprocess per image at shape (1, 3, 480, 640)\n",
      "\n",
      "0: 480x640 (no detections), 66.5ms\n",
      "Speed: 3.2ms preprocess, 66.5ms inference, 0.0ms postprocess per image at shape (1, 3, 480, 640)\n",
      "\n",
      "0: 480x640 (no detections), 64.0ms\n",
      "Speed: 2.8ms preprocess, 64.0ms inference, 1.0ms postprocess per image at shape (1, 3, 480, 640)\n",
      "\n",
      "0: 480x640 (no detections), 69.2ms\n",
      "Speed: 0.0ms preprocess, 69.2ms inference, 0.0ms postprocess per image at shape (1, 3, 480, 640)\n",
      "\n",
      "0: 480x640 (no detections), 64.7ms\n",
      "Speed: 2.3ms preprocess, 64.7ms inference, 1.0ms postprocess per image at shape (1, 3, 480, 640)\n",
      "\n",
      "0: 480x640 (no detections), 96.6ms\n",
      "Speed: 2.0ms preprocess, 96.6ms inference, 0.6ms postprocess per image at shape (1, 3, 480, 640)\n",
      "\n",
      "0: 480x640 (no detections), 58.8ms\n",
      "Speed: 2.0ms preprocess, 58.8ms inference, 0.0ms postprocess per image at shape (1, 3, 480, 640)\n",
      "\n",
      "0: 480x640 (no detections), 60.6ms\n",
      "Speed: 2.0ms preprocess, 60.6ms inference, 1.0ms postprocess per image at shape (1, 3, 480, 640)\n",
      "\n",
      "0: 480x640 (no detections), 60.7ms\n",
      "Speed: 2.0ms preprocess, 60.7ms inference, 0.0ms postprocess per image at shape (1, 3, 480, 640)\n",
      "\n",
      "0: 480x640 (no detections), 65.1ms\n",
      "Speed: 3.0ms preprocess, 65.1ms inference, 1.1ms postprocess per image at shape (1, 3, 480, 640)\n",
      "\n",
      "0: 480x640 (no detections), 58.6ms\n",
      "Speed: 0.3ms preprocess, 58.6ms inference, 1.0ms postprocess per image at shape (1, 3, 480, 640)\n",
      "\n",
      "0: 480x640 (no detections), 61.4ms\n",
      "Speed: 2.0ms preprocess, 61.4ms inference, 1.0ms postprocess per image at shape (1, 3, 480, 640)\n",
      "\n",
      "0: 480x640 (no detections), 60.5ms\n",
      "Speed: 1.8ms preprocess, 60.5ms inference, 0.0ms postprocess per image at shape (1, 3, 480, 640)\n",
      "\n",
      "0: 480x640 (no detections), 61.7ms\n",
      "Speed: 2.0ms preprocess, 61.7ms inference, 1.0ms postprocess per image at shape (1, 3, 480, 640)\n"
     ]
    },
    {
     "name": "stdout",
     "output_type": "stream",
     "text": [
      "\n",
      "0: 480x640 (no detections), 62.6ms\n",
      "Speed: 2.2ms preprocess, 62.6ms inference, 1.0ms postprocess per image at shape (1, 3, 480, 640)\n",
      "\n",
      "0: 480x640 (no detections), 59.0ms\n",
      "Speed: 3.0ms preprocess, 59.0ms inference, 1.0ms postprocess per image at shape (1, 3, 480, 640)\n",
      "\n",
      "0: 480x640 (no detections), 75.2ms\n",
      "Speed: 2.8ms preprocess, 75.2ms inference, 1.0ms postprocess per image at shape (1, 3, 480, 640)\n",
      "\n",
      "0: 480x640 (no detections), 70.2ms\n",
      "Speed: 0.0ms preprocess, 70.2ms inference, 0.0ms postprocess per image at shape (1, 3, 480, 640)\n",
      "\n",
      "0: 480x640 (no detections), 64.4ms\n",
      "Speed: 2.1ms preprocess, 64.4ms inference, 1.0ms postprocess per image at shape (1, 3, 480, 640)\n",
      "\n",
      "0: 480x640 (no detections), 74.0ms\n",
      "Speed: 0.0ms preprocess, 74.0ms inference, 0.0ms postprocess per image at shape (1, 3, 480, 640)\n",
      "\n",
      "0: 480x640 (no detections), 94.5ms\n",
      "Speed: 0.0ms preprocess, 94.5ms inference, 0.0ms postprocess per image at shape (1, 3, 480, 640)\n",
      "\n",
      "0: 480x640 (no detections), 61.8ms\n",
      "Speed: 0.0ms preprocess, 61.8ms inference, 0.0ms postprocess per image at shape (1, 3, 480, 640)\n",
      "\n",
      "0: 480x640 (no detections), 59.6ms\n",
      "Speed: 2.0ms preprocess, 59.6ms inference, 0.0ms postprocess per image at shape (1, 3, 480, 640)\n",
      "\n",
      "0: 480x640 (no detections), 69.9ms\n",
      "Speed: 2.3ms preprocess, 69.9ms inference, 0.0ms postprocess per image at shape (1, 3, 480, 640)\n",
      "\n",
      "0: 480x640 (no detections), 66.2ms\n",
      "Speed: 2.7ms preprocess, 66.2ms inference, 0.0ms postprocess per image at shape (1, 3, 480, 640)\n",
      "\n",
      "0: 480x640 (no detections), 58.0ms\n",
      "Speed: 0.8ms preprocess, 58.0ms inference, 0.0ms postprocess per image at shape (1, 3, 480, 640)\n",
      "\n",
      "0: 480x640 (no detections), 63.3ms\n",
      "Speed: 3.1ms preprocess, 63.3ms inference, 1.0ms postprocess per image at shape (1, 3, 480, 640)\n",
      "\n",
      "0: 480x640 (no detections), 63.4ms\n",
      "Speed: 3.0ms preprocess, 63.4ms inference, 0.0ms postprocess per image at shape (1, 3, 480, 640)\n",
      "\n",
      "0: 480x640 (no detections), 75.4ms\n",
      "Speed: 1.9ms preprocess, 75.4ms inference, 1.0ms postprocess per image at shape (1, 3, 480, 640)\n",
      "\n",
      "0: 480x640 (no detections), 74.8ms\n",
      "Speed: 1.8ms preprocess, 74.8ms inference, 0.0ms postprocess per image at shape (1, 3, 480, 640)\n",
      "\n",
      "0: 480x640 (no detections), 79.0ms\n",
      "Speed: 3.0ms preprocess, 79.0ms inference, 1.2ms postprocess per image at shape (1, 3, 480, 640)\n",
      "\n",
      "0: 480x640 (no detections), 59.3ms\n",
      "Speed: 0.0ms preprocess, 59.3ms inference, 0.0ms postprocess per image at shape (1, 3, 480, 640)\n",
      "\n",
      "0: 480x640 (no detections), 66.5ms\n",
      "Speed: 2.8ms preprocess, 66.5ms inference, 0.0ms postprocess per image at shape (1, 3, 480, 640)\n",
      "\n",
      "0: 480x640 1 J, 66.6ms\n",
      "Speed: 2.0ms preprocess, 66.6ms inference, 0.0ms postprocess per image at shape (1, 3, 480, 640)\n",
      "Bounding box: (287, 150), (640, 480)\n",
      "Center: (463, 315)\n",
      "\n",
      "0: 480x640 (no detections), 81.1ms\n",
      "Speed: 3.0ms preprocess, 81.1ms inference, 0.0ms postprocess per image at shape (1, 3, 480, 640)\n",
      "\n",
      "0: 480x640 (no detections), 78.0ms\n",
      "Speed: 0.0ms preprocess, 78.0ms inference, 0.0ms postprocess per image at shape (1, 3, 480, 640)\n",
      "\n",
      "0: 480x640 (no detections), 62.3ms\n",
      "Speed: 0.0ms preprocess, 62.3ms inference, 0.0ms postprocess per image at shape (1, 3, 480, 640)\n",
      "\n",
      "0: 480x640 (no detections), 65.2ms\n",
      "Speed: 0.0ms preprocess, 65.2ms inference, 1.0ms postprocess per image at shape (1, 3, 480, 640)\n",
      "\n",
      "0: 480x640 (no detections), 63.3ms\n",
      "Speed: 2.3ms preprocess, 63.3ms inference, 1.0ms postprocess per image at shape (1, 3, 480, 640)\n",
      "\n",
      "0: 480x640 (no detections), 83.2ms\n",
      "Speed: 0.8ms preprocess, 83.2ms inference, 1.0ms postprocess per image at shape (1, 3, 480, 640)\n",
      "\n",
      "0: 480x640 (no detections), 73.4ms\n",
      "Speed: 3.0ms preprocess, 73.4ms inference, 1.0ms postprocess per image at shape (1, 3, 480, 640)\n",
      "\n",
      "0: 480x640 (no detections), 72.3ms\n",
      "Speed: 1.7ms preprocess, 72.3ms inference, 1.0ms postprocess per image at shape (1, 3, 480, 640)\n",
      "\n",
      "0: 480x640 (no detections), 79.4ms\n",
      "Speed: 0.9ms preprocess, 79.4ms inference, 0.0ms postprocess per image at shape (1, 3, 480, 640)\n",
      "\n",
      "0: 480x640 (no detections), 78.3ms\n",
      "Speed: 2.6ms preprocess, 78.3ms inference, 0.0ms postprocess per image at shape (1, 3, 480, 640)\n",
      "\n",
      "0: 480x640 (no detections), 66.0ms\n",
      "Speed: 1.0ms preprocess, 66.0ms inference, 1.0ms postprocess per image at shape (1, 3, 480, 640)\n",
      "\n",
      "0: 480x640 1 J, 61.2ms\n",
      "Speed: 2.4ms preprocess, 61.2ms inference, 1.0ms postprocess per image at shape (1, 3, 480, 640)\n",
      "Bounding box: (177, 151), (640, 480)\n",
      "Center: (408, 315)\n",
      "\n",
      "0: 480x640 (no detections), 58.3ms\n",
      "Speed: 0.0ms preprocess, 58.3ms inference, 0.0ms postprocess per image at shape (1, 3, 480, 640)\n",
      "\n",
      "0: 480x640 (no detections), 77.6ms\n",
      "Speed: 1.0ms preprocess, 77.6ms inference, 1.0ms postprocess per image at shape (1, 3, 480, 640)\n",
      "\n",
      "0: 480x640 (no detections), 73.0ms\n",
      "Speed: 0.0ms preprocess, 73.0ms inference, 1.5ms postprocess per image at shape (1, 3, 480, 640)\n",
      "\n",
      "0: 480x640 (no detections), 72.9ms\n",
      "Speed: 2.0ms preprocess, 72.9ms inference, 1.0ms postprocess per image at shape (1, 3, 480, 640)\n",
      "\n",
      "0: 480x640 (no detections), 76.4ms\n",
      "Speed: 1.8ms preprocess, 76.4ms inference, 1.4ms postprocess per image at shape (1, 3, 480, 640)\n",
      "\n",
      "0: 480x640 (no detections), 71.0ms\n",
      "Speed: 1.0ms preprocess, 71.0ms inference, 1.0ms postprocess per image at shape (1, 3, 480, 640)\n",
      "\n",
      "0: 480x640 (no detections), 77.7ms\n",
      "Speed: 0.8ms preprocess, 77.7ms inference, 1.0ms postprocess per image at shape (1, 3, 480, 640)\n",
      "\n",
      "0: 480x640 (no detections), 75.1ms\n",
      "Speed: 0.0ms preprocess, 75.1ms inference, 0.0ms postprocess per image at shape (1, 3, 480, 640)\n",
      "\n",
      "0: 480x640 (no detections), 82.2ms\n",
      "Speed: 4.8ms preprocess, 82.2ms inference, 0.0ms postprocess per image at shape (1, 3, 480, 640)\n",
      "\n"
     ]
    },
    {
     "ename": "KeyboardInterrupt",
     "evalue": "",
     "output_type": "error",
     "traceback": [
      "\u001b[1;31m---------------------------------------------------------------------------\u001b[0m",
      "\u001b[1;31mKeyboardInterrupt\u001b[0m                         Traceback (most recent call last)",
      "Input \u001b[1;32mIn [11]\u001b[0m, in \u001b[0;36m<cell line: 4>\u001b[1;34m()\u001b[0m\n\u001b[0;32m      5\u001b[0m \u001b[38;5;28;01mif\u001b[39;00m \u001b[38;5;129;01mnot\u001b[39;00m ret:\n\u001b[0;32m      6\u001b[0m     \u001b[38;5;28;01mbreak\u001b[39;00m  \u001b[38;5;66;03m# Break the loop if no frame is captured\u001b[39;00m\n\u001b[1;32m----> 8\u001b[0m results \u001b[38;5;241m=\u001b[39m \u001b[43mmodel\u001b[49m\u001b[43m(\u001b[49m\u001b[43mframe\u001b[49m\u001b[43m)\u001b[49m  \u001b[38;5;66;03m# Perform detection on the current frame\u001b[39;00m\n\u001b[0;32m      9\u001b[0m bounding_boxes \u001b[38;5;241m=\u001b[39m results[\u001b[38;5;241m0\u001b[39m]\u001b[38;5;241m.\u001b[39mboxes\u001b[38;5;241m.\u001b[39mxyxy\u001b[38;5;241m.\u001b[39mnumpy()  \u001b[38;5;66;03m# Extract bounding boxes as numpy array\u001b[39;00m\n\u001b[0;32m     11\u001b[0m \u001b[38;5;66;03m# Draw the bounding boxes and center points on the frame\u001b[39;00m\n",
      "File \u001b[1;32m~\\anaconda3\\lib\\site-packages\\ultralytics\\engine\\model.py:176\u001b[0m, in \u001b[0;36mModel.__call__\u001b[1;34m(self, source, stream, **kwargs)\u001b[0m\n\u001b[0;32m    147\u001b[0m \u001b[38;5;28;01mdef\u001b[39;00m \u001b[38;5;21m__call__\u001b[39m(\n\u001b[0;32m    148\u001b[0m     \u001b[38;5;28mself\u001b[39m,\n\u001b[0;32m    149\u001b[0m     source: Union[\u001b[38;5;28mstr\u001b[39m, Path, \u001b[38;5;28mint\u001b[39m, Image\u001b[38;5;241m.\u001b[39mImage, \u001b[38;5;28mlist\u001b[39m, \u001b[38;5;28mtuple\u001b[39m, np\u001b[38;5;241m.\u001b[39mndarray, torch\u001b[38;5;241m.\u001b[39mTensor] \u001b[38;5;241m=\u001b[39m \u001b[38;5;28;01mNone\u001b[39;00m,\n\u001b[0;32m    150\u001b[0m     stream: \u001b[38;5;28mbool\u001b[39m \u001b[38;5;241m=\u001b[39m \u001b[38;5;28;01mFalse\u001b[39;00m,\n\u001b[0;32m    151\u001b[0m     \u001b[38;5;241m*\u001b[39m\u001b[38;5;241m*\u001b[39mkwargs,\n\u001b[0;32m    152\u001b[0m ) \u001b[38;5;241m-\u001b[39m\u001b[38;5;241m>\u001b[39m \u001b[38;5;28mlist\u001b[39m:\n\u001b[0;32m    153\u001b[0m \u001b[38;5;250m    \u001b[39m\u001b[38;5;124;03m\"\"\"\u001b[39;00m\n\u001b[0;32m    154\u001b[0m \u001b[38;5;124;03m    Alias for the predict method, enabling the model instance to be callable for predictions.\u001b[39;00m\n\u001b[0;32m    155\u001b[0m \n\u001b[1;32m   (...)\u001b[0m\n\u001b[0;32m    174\u001b[0m \u001b[38;5;124;03m        ...     print(f\"Detected {len(r)} objects in image\")\u001b[39;00m\n\u001b[0;32m    175\u001b[0m \u001b[38;5;124;03m    \"\"\"\u001b[39;00m\n\u001b[1;32m--> 176\u001b[0m     \u001b[38;5;28;01mreturn\u001b[39;00m \u001b[38;5;28mself\u001b[39m\u001b[38;5;241m.\u001b[39mpredict(source, stream, \u001b[38;5;241m*\u001b[39m\u001b[38;5;241m*\u001b[39mkwargs)\n",
      "File \u001b[1;32m~\\anaconda3\\lib\\site-packages\\ultralytics\\engine\\model.py:554\u001b[0m, in \u001b[0;36mModel.predict\u001b[1;34m(self, source, stream, predictor, **kwargs)\u001b[0m\n\u001b[0;32m    552\u001b[0m \u001b[38;5;28;01mif\u001b[39;00m prompts \u001b[38;5;129;01mand\u001b[39;00m \u001b[38;5;28mhasattr\u001b[39m(\u001b[38;5;28mself\u001b[39m\u001b[38;5;241m.\u001b[39mpredictor, \u001b[38;5;124m\"\u001b[39m\u001b[38;5;124mset_prompts\u001b[39m\u001b[38;5;124m\"\u001b[39m):  \u001b[38;5;66;03m# for SAM-type models\u001b[39;00m\n\u001b[0;32m    553\u001b[0m     \u001b[38;5;28mself\u001b[39m\u001b[38;5;241m.\u001b[39mpredictor\u001b[38;5;241m.\u001b[39mset_prompts(prompts)\n\u001b[1;32m--> 554\u001b[0m \u001b[38;5;28;01mreturn\u001b[39;00m \u001b[38;5;28mself\u001b[39m\u001b[38;5;241m.\u001b[39mpredictor\u001b[38;5;241m.\u001b[39mpredict_cli(source\u001b[38;5;241m=\u001b[39msource) \u001b[38;5;28;01mif\u001b[39;00m is_cli \u001b[38;5;28;01melse\u001b[39;00m \u001b[38;5;28;43mself\u001b[39;49m\u001b[38;5;241;43m.\u001b[39;49m\u001b[43mpredictor\u001b[49m\u001b[43m(\u001b[49m\u001b[43msource\u001b[49m\u001b[38;5;241;43m=\u001b[39;49m\u001b[43msource\u001b[49m\u001b[43m,\u001b[49m\u001b[43m \u001b[49m\u001b[43mstream\u001b[49m\u001b[38;5;241;43m=\u001b[39;49m\u001b[43mstream\u001b[49m\u001b[43m)\u001b[49m\n",
      "File \u001b[1;32m~\\anaconda3\\lib\\site-packages\\ultralytics\\engine\\predictor.py:168\u001b[0m, in \u001b[0;36mBasePredictor.__call__\u001b[1;34m(self, source, model, stream, *args, **kwargs)\u001b[0m\n\u001b[0;32m    166\u001b[0m     \u001b[38;5;28;01mreturn\u001b[39;00m \u001b[38;5;28mself\u001b[39m\u001b[38;5;241m.\u001b[39mstream_inference(source, model, \u001b[38;5;241m*\u001b[39margs, \u001b[38;5;241m*\u001b[39m\u001b[38;5;241m*\u001b[39mkwargs)\n\u001b[0;32m    167\u001b[0m \u001b[38;5;28;01melse\u001b[39;00m:\n\u001b[1;32m--> 168\u001b[0m     \u001b[38;5;28;01mreturn\u001b[39;00m \u001b[38;5;28;43mlist\u001b[39;49m\u001b[43m(\u001b[49m\u001b[38;5;28;43mself\u001b[39;49m\u001b[38;5;241;43m.\u001b[39;49m\u001b[43mstream_inference\u001b[49m\u001b[43m(\u001b[49m\u001b[43msource\u001b[49m\u001b[43m,\u001b[49m\u001b[43m \u001b[49m\u001b[43mmodel\u001b[49m\u001b[43m,\u001b[49m\u001b[43m \u001b[49m\u001b[38;5;241;43m*\u001b[39;49m\u001b[43margs\u001b[49m\u001b[43m,\u001b[49m\u001b[43m \u001b[49m\u001b[38;5;241;43m*\u001b[39;49m\u001b[38;5;241;43m*\u001b[39;49m\u001b[43mkwargs\u001b[49m\u001b[43m)\u001b[49m\u001b[43m)\u001b[49m\n",
      "File \u001b[1;32m~\\anaconda3\\lib\\site-packages\\torch\\utils\\_contextlib.py:36\u001b[0m, in \u001b[0;36m_wrap_generator.<locals>.generator_context\u001b[1;34m(*args, **kwargs)\u001b[0m\n\u001b[0;32m     33\u001b[0m \u001b[38;5;28;01mtry\u001b[39;00m:\n\u001b[0;32m     34\u001b[0m     \u001b[38;5;66;03m# Issuing `None` to a generator fires it up\u001b[39;00m\n\u001b[0;32m     35\u001b[0m     \u001b[38;5;28;01mwith\u001b[39;00m ctx_factory():\n\u001b[1;32m---> 36\u001b[0m         response \u001b[38;5;241m=\u001b[39m \u001b[43mgen\u001b[49m\u001b[38;5;241;43m.\u001b[39;49m\u001b[43msend\u001b[49m\u001b[43m(\u001b[49m\u001b[38;5;28;43;01mNone\u001b[39;49;00m\u001b[43m)\u001b[49m\n\u001b[0;32m     38\u001b[0m     \u001b[38;5;28;01mwhile\u001b[39;00m \u001b[38;5;28;01mTrue\u001b[39;00m:\n\u001b[0;32m     39\u001b[0m         \u001b[38;5;28;01mtry\u001b[39;00m:\n\u001b[0;32m     40\u001b[0m             \u001b[38;5;66;03m# Forward the response to our caller and get its next request\u001b[39;00m\n",
      "File \u001b[1;32m~\\anaconda3\\lib\\site-packages\\ultralytics\\engine\\predictor.py:254\u001b[0m, in \u001b[0;36mBasePredictor.stream_inference\u001b[1;34m(self, source, model, *args, **kwargs)\u001b[0m\n\u001b[0;32m    252\u001b[0m \u001b[38;5;66;03m# Inference\u001b[39;00m\n\u001b[0;32m    253\u001b[0m \u001b[38;5;28;01mwith\u001b[39;00m profilers[\u001b[38;5;241m1\u001b[39m]:\n\u001b[1;32m--> 254\u001b[0m     preds \u001b[38;5;241m=\u001b[39m \u001b[38;5;28mself\u001b[39m\u001b[38;5;241m.\u001b[39minference(im, \u001b[38;5;241m*\u001b[39margs, \u001b[38;5;241m*\u001b[39m\u001b[38;5;241m*\u001b[39mkwargs)\n\u001b[0;32m    255\u001b[0m     \u001b[38;5;28;01mif\u001b[39;00m \u001b[38;5;28mself\u001b[39m\u001b[38;5;241m.\u001b[39margs\u001b[38;5;241m.\u001b[39membed:\n\u001b[0;32m    256\u001b[0m         \u001b[38;5;28;01myield from\u001b[39;00m [preds] \u001b[38;5;28;01mif\u001b[39;00m \u001b[38;5;28misinstance\u001b[39m(preds, torch\u001b[38;5;241m.\u001b[39mTensor) \u001b[38;5;28;01melse\u001b[39;00m preds  \u001b[38;5;66;03m# yield embedding tensors\u001b[39;00m\n",
      "File \u001b[1;32m~\\anaconda3\\lib\\site-packages\\ultralytics\\engine\\predictor.py:142\u001b[0m, in \u001b[0;36mBasePredictor.inference\u001b[1;34m(self, im, *args, **kwargs)\u001b[0m\n\u001b[0;32m    136\u001b[0m \u001b[38;5;250m\u001b[39m\u001b[38;5;124;03m\"\"\"Runs inference on a given image using the specified model and arguments.\"\"\"\u001b[39;00m\n\u001b[0;32m    137\u001b[0m visualize \u001b[38;5;241m=\u001b[39m (\n\u001b[0;32m    138\u001b[0m     increment_path(\u001b[38;5;28mself\u001b[39m\u001b[38;5;241m.\u001b[39msave_dir \u001b[38;5;241m/\u001b[39m Path(\u001b[38;5;28mself\u001b[39m\u001b[38;5;241m.\u001b[39mbatch[\u001b[38;5;241m0\u001b[39m][\u001b[38;5;241m0\u001b[39m])\u001b[38;5;241m.\u001b[39mstem, mkdir\u001b[38;5;241m=\u001b[39m\u001b[38;5;28;01mTrue\u001b[39;00m)\n\u001b[0;32m    139\u001b[0m     \u001b[38;5;28;01mif\u001b[39;00m \u001b[38;5;28mself\u001b[39m\u001b[38;5;241m.\u001b[39margs\u001b[38;5;241m.\u001b[39mvisualize \u001b[38;5;129;01mand\u001b[39;00m (\u001b[38;5;129;01mnot\u001b[39;00m \u001b[38;5;28mself\u001b[39m\u001b[38;5;241m.\u001b[39msource_type\u001b[38;5;241m.\u001b[39mtensor)\n\u001b[0;32m    140\u001b[0m     \u001b[38;5;28;01melse\u001b[39;00m \u001b[38;5;28;01mFalse\u001b[39;00m\n\u001b[0;32m    141\u001b[0m )\n\u001b[1;32m--> 142\u001b[0m \u001b[38;5;28;01mreturn\u001b[39;00m \u001b[38;5;28mself\u001b[39m\u001b[38;5;241m.\u001b[39mmodel(im, augment\u001b[38;5;241m=\u001b[39m\u001b[38;5;28mself\u001b[39m\u001b[38;5;241m.\u001b[39margs\u001b[38;5;241m.\u001b[39maugment, visualize\u001b[38;5;241m=\u001b[39mvisualize, embed\u001b[38;5;241m=\u001b[39m\u001b[38;5;28mself\u001b[39m\u001b[38;5;241m.\u001b[39margs\u001b[38;5;241m.\u001b[39membed, \u001b[38;5;241m*\u001b[39margs, \u001b[38;5;241m*\u001b[39m\u001b[38;5;241m*\u001b[39mkwargs)\n",
      "File \u001b[1;32m~\\anaconda3\\lib\\site-packages\\torch\\nn\\modules\\module.py:1553\u001b[0m, in \u001b[0;36mModule._wrapped_call_impl\u001b[1;34m(self, *args, **kwargs)\u001b[0m\n\u001b[0;32m   1551\u001b[0m     \u001b[38;5;28;01mreturn\u001b[39;00m \u001b[38;5;28mself\u001b[39m\u001b[38;5;241m.\u001b[39m_compiled_call_impl(\u001b[38;5;241m*\u001b[39margs, \u001b[38;5;241m*\u001b[39m\u001b[38;5;241m*\u001b[39mkwargs)  \u001b[38;5;66;03m# type: ignore[misc]\u001b[39;00m\n\u001b[0;32m   1552\u001b[0m \u001b[38;5;28;01melse\u001b[39;00m:\n\u001b[1;32m-> 1553\u001b[0m     \u001b[38;5;28;01mreturn\u001b[39;00m \u001b[38;5;28mself\u001b[39m\u001b[38;5;241m.\u001b[39m_call_impl(\u001b[38;5;241m*\u001b[39margs, \u001b[38;5;241m*\u001b[39m\u001b[38;5;241m*\u001b[39mkwargs)\n",
      "File \u001b[1;32m~\\anaconda3\\lib\\site-packages\\torch\\nn\\modules\\module.py:1562\u001b[0m, in \u001b[0;36mModule._call_impl\u001b[1;34m(self, *args, **kwargs)\u001b[0m\n\u001b[0;32m   1557\u001b[0m \u001b[38;5;66;03m# If we don't have any hooks, we want to skip the rest of the logic in\u001b[39;00m\n\u001b[0;32m   1558\u001b[0m \u001b[38;5;66;03m# this function, and just call forward.\u001b[39;00m\n\u001b[0;32m   1559\u001b[0m \u001b[38;5;28;01mif\u001b[39;00m \u001b[38;5;129;01mnot\u001b[39;00m (\u001b[38;5;28mself\u001b[39m\u001b[38;5;241m.\u001b[39m_backward_hooks \u001b[38;5;129;01mor\u001b[39;00m \u001b[38;5;28mself\u001b[39m\u001b[38;5;241m.\u001b[39m_backward_pre_hooks \u001b[38;5;129;01mor\u001b[39;00m \u001b[38;5;28mself\u001b[39m\u001b[38;5;241m.\u001b[39m_forward_hooks \u001b[38;5;129;01mor\u001b[39;00m \u001b[38;5;28mself\u001b[39m\u001b[38;5;241m.\u001b[39m_forward_pre_hooks\n\u001b[0;32m   1560\u001b[0m         \u001b[38;5;129;01mor\u001b[39;00m _global_backward_pre_hooks \u001b[38;5;129;01mor\u001b[39;00m _global_backward_hooks\n\u001b[0;32m   1561\u001b[0m         \u001b[38;5;129;01mor\u001b[39;00m _global_forward_hooks \u001b[38;5;129;01mor\u001b[39;00m _global_forward_pre_hooks):\n\u001b[1;32m-> 1562\u001b[0m     \u001b[38;5;28;01mreturn\u001b[39;00m forward_call(\u001b[38;5;241m*\u001b[39margs, \u001b[38;5;241m*\u001b[39m\u001b[38;5;241m*\u001b[39mkwargs)\n\u001b[0;32m   1564\u001b[0m \u001b[38;5;28;01mtry\u001b[39;00m:\n\u001b[0;32m   1565\u001b[0m     result \u001b[38;5;241m=\u001b[39m \u001b[38;5;28;01mNone\u001b[39;00m\n",
      "File \u001b[1;32m~\\anaconda3\\lib\\site-packages\\ultralytics\\nn\\autobackend.py:456\u001b[0m, in \u001b[0;36mAutoBackend.forward\u001b[1;34m(self, im, augment, visualize, embed)\u001b[0m\n\u001b[0;32m    454\u001b[0m \u001b[38;5;66;03m# PyTorch\u001b[39;00m\n\u001b[0;32m    455\u001b[0m \u001b[38;5;28;01mif\u001b[39;00m \u001b[38;5;28mself\u001b[39m\u001b[38;5;241m.\u001b[39mpt \u001b[38;5;129;01mor\u001b[39;00m \u001b[38;5;28mself\u001b[39m\u001b[38;5;241m.\u001b[39mnn_module:\n\u001b[1;32m--> 456\u001b[0m     y \u001b[38;5;241m=\u001b[39m \u001b[38;5;28;43mself\u001b[39;49m\u001b[38;5;241;43m.\u001b[39;49m\u001b[43mmodel\u001b[49m\u001b[43m(\u001b[49m\u001b[43mim\u001b[49m\u001b[43m,\u001b[49m\u001b[43m \u001b[49m\u001b[43maugment\u001b[49m\u001b[38;5;241;43m=\u001b[39;49m\u001b[43maugment\u001b[49m\u001b[43m,\u001b[49m\u001b[43m \u001b[49m\u001b[43mvisualize\u001b[49m\u001b[38;5;241;43m=\u001b[39;49m\u001b[43mvisualize\u001b[49m\u001b[43m,\u001b[49m\u001b[43m \u001b[49m\u001b[43membed\u001b[49m\u001b[38;5;241;43m=\u001b[39;49m\u001b[43membed\u001b[49m\u001b[43m)\u001b[49m\n\u001b[0;32m    458\u001b[0m \u001b[38;5;66;03m# TorchScript\u001b[39;00m\n\u001b[0;32m    459\u001b[0m \u001b[38;5;28;01melif\u001b[39;00m \u001b[38;5;28mself\u001b[39m\u001b[38;5;241m.\u001b[39mjit:\n",
      "File \u001b[1;32m~\\anaconda3\\lib\\site-packages\\torch\\nn\\modules\\module.py:1553\u001b[0m, in \u001b[0;36mModule._wrapped_call_impl\u001b[1;34m(self, *args, **kwargs)\u001b[0m\n\u001b[0;32m   1551\u001b[0m     \u001b[38;5;28;01mreturn\u001b[39;00m \u001b[38;5;28mself\u001b[39m\u001b[38;5;241m.\u001b[39m_compiled_call_impl(\u001b[38;5;241m*\u001b[39margs, \u001b[38;5;241m*\u001b[39m\u001b[38;5;241m*\u001b[39mkwargs)  \u001b[38;5;66;03m# type: ignore[misc]\u001b[39;00m\n\u001b[0;32m   1552\u001b[0m \u001b[38;5;28;01melse\u001b[39;00m:\n\u001b[1;32m-> 1553\u001b[0m     \u001b[38;5;28;01mreturn\u001b[39;00m \u001b[38;5;28mself\u001b[39m\u001b[38;5;241m.\u001b[39m_call_impl(\u001b[38;5;241m*\u001b[39margs, \u001b[38;5;241m*\u001b[39m\u001b[38;5;241m*\u001b[39mkwargs)\n",
      "File \u001b[1;32m~\\anaconda3\\lib\\site-packages\\torch\\nn\\modules\\module.py:1562\u001b[0m, in \u001b[0;36mModule._call_impl\u001b[1;34m(self, *args, **kwargs)\u001b[0m\n\u001b[0;32m   1557\u001b[0m \u001b[38;5;66;03m# If we don't have any hooks, we want to skip the rest of the logic in\u001b[39;00m\n\u001b[0;32m   1558\u001b[0m \u001b[38;5;66;03m# this function, and just call forward.\u001b[39;00m\n\u001b[0;32m   1559\u001b[0m \u001b[38;5;28;01mif\u001b[39;00m \u001b[38;5;129;01mnot\u001b[39;00m (\u001b[38;5;28mself\u001b[39m\u001b[38;5;241m.\u001b[39m_backward_hooks \u001b[38;5;129;01mor\u001b[39;00m \u001b[38;5;28mself\u001b[39m\u001b[38;5;241m.\u001b[39m_backward_pre_hooks \u001b[38;5;129;01mor\u001b[39;00m \u001b[38;5;28mself\u001b[39m\u001b[38;5;241m.\u001b[39m_forward_hooks \u001b[38;5;129;01mor\u001b[39;00m \u001b[38;5;28mself\u001b[39m\u001b[38;5;241m.\u001b[39m_forward_pre_hooks\n\u001b[0;32m   1560\u001b[0m         \u001b[38;5;129;01mor\u001b[39;00m _global_backward_pre_hooks \u001b[38;5;129;01mor\u001b[39;00m _global_backward_hooks\n\u001b[0;32m   1561\u001b[0m         \u001b[38;5;129;01mor\u001b[39;00m _global_forward_hooks \u001b[38;5;129;01mor\u001b[39;00m _global_forward_pre_hooks):\n\u001b[1;32m-> 1562\u001b[0m     \u001b[38;5;28;01mreturn\u001b[39;00m forward_call(\u001b[38;5;241m*\u001b[39margs, \u001b[38;5;241m*\u001b[39m\u001b[38;5;241m*\u001b[39mkwargs)\n\u001b[0;32m   1564\u001b[0m \u001b[38;5;28;01mtry\u001b[39;00m:\n\u001b[0;32m   1565\u001b[0m     result \u001b[38;5;241m=\u001b[39m \u001b[38;5;28;01mNone\u001b[39;00m\n",
      "File \u001b[1;32m~\\anaconda3\\lib\\site-packages\\ultralytics\\nn\\tasks.py:111\u001b[0m, in \u001b[0;36mBaseModel.forward\u001b[1;34m(self, x, *args, **kwargs)\u001b[0m\n\u001b[0;32m    109\u001b[0m \u001b[38;5;28;01mif\u001b[39;00m \u001b[38;5;28misinstance\u001b[39m(x, \u001b[38;5;28mdict\u001b[39m):  \u001b[38;5;66;03m# for cases of training and validating while training.\u001b[39;00m\n\u001b[0;32m    110\u001b[0m     \u001b[38;5;28;01mreturn\u001b[39;00m \u001b[38;5;28mself\u001b[39m\u001b[38;5;241m.\u001b[39mloss(x, \u001b[38;5;241m*\u001b[39margs, \u001b[38;5;241m*\u001b[39m\u001b[38;5;241m*\u001b[39mkwargs)\n\u001b[1;32m--> 111\u001b[0m \u001b[38;5;28;01mreturn\u001b[39;00m \u001b[38;5;28mself\u001b[39m\u001b[38;5;241m.\u001b[39mpredict(x, \u001b[38;5;241m*\u001b[39margs, \u001b[38;5;241m*\u001b[39m\u001b[38;5;241m*\u001b[39mkwargs)\n",
      "File \u001b[1;32m~\\anaconda3\\lib\\site-packages\\ultralytics\\nn\\tasks.py:129\u001b[0m, in \u001b[0;36mBaseModel.predict\u001b[1;34m(self, x, profile, visualize, augment, embed)\u001b[0m\n\u001b[0;32m    127\u001b[0m \u001b[38;5;28;01mif\u001b[39;00m augment:\n\u001b[0;32m    128\u001b[0m     \u001b[38;5;28;01mreturn\u001b[39;00m \u001b[38;5;28mself\u001b[39m\u001b[38;5;241m.\u001b[39m_predict_augment(x)\n\u001b[1;32m--> 129\u001b[0m \u001b[38;5;28;01mreturn\u001b[39;00m \u001b[38;5;28;43mself\u001b[39;49m\u001b[38;5;241;43m.\u001b[39;49m\u001b[43m_predict_once\u001b[49m\u001b[43m(\u001b[49m\u001b[43mx\u001b[49m\u001b[43m,\u001b[49m\u001b[43m \u001b[49m\u001b[43mprofile\u001b[49m\u001b[43m,\u001b[49m\u001b[43m \u001b[49m\u001b[43mvisualize\u001b[49m\u001b[43m,\u001b[49m\u001b[43m \u001b[49m\u001b[43membed\u001b[49m\u001b[43m)\u001b[49m\n",
      "File \u001b[1;32m~\\anaconda3\\lib\\site-packages\\ultralytics\\nn\\tasks.py:150\u001b[0m, in \u001b[0;36mBaseModel._predict_once\u001b[1;34m(self, x, profile, visualize, embed)\u001b[0m\n\u001b[0;32m    148\u001b[0m \u001b[38;5;28;01mif\u001b[39;00m profile:\n\u001b[0;32m    149\u001b[0m     \u001b[38;5;28mself\u001b[39m\u001b[38;5;241m.\u001b[39m_profile_one_layer(m, x, dt)\n\u001b[1;32m--> 150\u001b[0m x \u001b[38;5;241m=\u001b[39m \u001b[43mm\u001b[49m\u001b[43m(\u001b[49m\u001b[43mx\u001b[49m\u001b[43m)\u001b[49m  \u001b[38;5;66;03m# run\u001b[39;00m\n\u001b[0;32m    151\u001b[0m y\u001b[38;5;241m.\u001b[39mappend(x \u001b[38;5;28;01mif\u001b[39;00m m\u001b[38;5;241m.\u001b[39mi \u001b[38;5;129;01min\u001b[39;00m \u001b[38;5;28mself\u001b[39m\u001b[38;5;241m.\u001b[39msave \u001b[38;5;28;01melse\u001b[39;00m \u001b[38;5;28;01mNone\u001b[39;00m)  \u001b[38;5;66;03m# save output\u001b[39;00m\n\u001b[0;32m    152\u001b[0m \u001b[38;5;28;01mif\u001b[39;00m visualize:\n",
      "File \u001b[1;32m~\\anaconda3\\lib\\site-packages\\torch\\nn\\modules\\module.py:1553\u001b[0m, in \u001b[0;36mModule._wrapped_call_impl\u001b[1;34m(self, *args, **kwargs)\u001b[0m\n\u001b[0;32m   1551\u001b[0m     \u001b[38;5;28;01mreturn\u001b[39;00m \u001b[38;5;28mself\u001b[39m\u001b[38;5;241m.\u001b[39m_compiled_call_impl(\u001b[38;5;241m*\u001b[39margs, \u001b[38;5;241m*\u001b[39m\u001b[38;5;241m*\u001b[39mkwargs)  \u001b[38;5;66;03m# type: ignore[misc]\u001b[39;00m\n\u001b[0;32m   1552\u001b[0m \u001b[38;5;28;01melse\u001b[39;00m:\n\u001b[1;32m-> 1553\u001b[0m     \u001b[38;5;28;01mreturn\u001b[39;00m \u001b[38;5;28mself\u001b[39m\u001b[38;5;241m.\u001b[39m_call_impl(\u001b[38;5;241m*\u001b[39margs, \u001b[38;5;241m*\u001b[39m\u001b[38;5;241m*\u001b[39mkwargs)\n",
      "File \u001b[1;32m~\\anaconda3\\lib\\site-packages\\torch\\nn\\modules\\module.py:1562\u001b[0m, in \u001b[0;36mModule._call_impl\u001b[1;34m(self, *args, **kwargs)\u001b[0m\n\u001b[0;32m   1557\u001b[0m \u001b[38;5;66;03m# If we don't have any hooks, we want to skip the rest of the logic in\u001b[39;00m\n\u001b[0;32m   1558\u001b[0m \u001b[38;5;66;03m# this function, and just call forward.\u001b[39;00m\n\u001b[0;32m   1559\u001b[0m \u001b[38;5;28;01mif\u001b[39;00m \u001b[38;5;129;01mnot\u001b[39;00m (\u001b[38;5;28mself\u001b[39m\u001b[38;5;241m.\u001b[39m_backward_hooks \u001b[38;5;129;01mor\u001b[39;00m \u001b[38;5;28mself\u001b[39m\u001b[38;5;241m.\u001b[39m_backward_pre_hooks \u001b[38;5;129;01mor\u001b[39;00m \u001b[38;5;28mself\u001b[39m\u001b[38;5;241m.\u001b[39m_forward_hooks \u001b[38;5;129;01mor\u001b[39;00m \u001b[38;5;28mself\u001b[39m\u001b[38;5;241m.\u001b[39m_forward_pre_hooks\n\u001b[0;32m   1560\u001b[0m         \u001b[38;5;129;01mor\u001b[39;00m _global_backward_pre_hooks \u001b[38;5;129;01mor\u001b[39;00m _global_backward_hooks\n\u001b[0;32m   1561\u001b[0m         \u001b[38;5;129;01mor\u001b[39;00m _global_forward_hooks \u001b[38;5;129;01mor\u001b[39;00m _global_forward_pre_hooks):\n\u001b[1;32m-> 1562\u001b[0m     \u001b[38;5;28;01mreturn\u001b[39;00m forward_call(\u001b[38;5;241m*\u001b[39margs, \u001b[38;5;241m*\u001b[39m\u001b[38;5;241m*\u001b[39mkwargs)\n\u001b[0;32m   1564\u001b[0m \u001b[38;5;28;01mtry\u001b[39;00m:\n\u001b[0;32m   1565\u001b[0m     result \u001b[38;5;241m=\u001b[39m \u001b[38;5;28;01mNone\u001b[39;00m\n",
      "File \u001b[1;32m~\\anaconda3\\lib\\site-packages\\ultralytics\\nn\\modules\\block.py:238\u001b[0m, in \u001b[0;36mC2f.forward\u001b[1;34m(self, x)\u001b[0m\n\u001b[0;32m    236\u001b[0m \u001b[38;5;250m\u001b[39m\u001b[38;5;124;03m\"\"\"Forward pass through C2f layer.\"\"\"\u001b[39;00m\n\u001b[0;32m    237\u001b[0m y \u001b[38;5;241m=\u001b[39m \u001b[38;5;28mlist\u001b[39m(\u001b[38;5;28mself\u001b[39m\u001b[38;5;241m.\u001b[39mcv1(x)\u001b[38;5;241m.\u001b[39mchunk(\u001b[38;5;241m2\u001b[39m, \u001b[38;5;241m1\u001b[39m))\n\u001b[1;32m--> 238\u001b[0m \u001b[43my\u001b[49m\u001b[38;5;241;43m.\u001b[39;49m\u001b[43mextend\u001b[49m\u001b[43m(\u001b[49m\u001b[43mm\u001b[49m\u001b[43m(\u001b[49m\u001b[43my\u001b[49m\u001b[43m[\u001b[49m\u001b[38;5;241;43m-\u001b[39;49m\u001b[38;5;241;43m1\u001b[39;49m\u001b[43m]\u001b[49m\u001b[43m)\u001b[49m\u001b[43m \u001b[49m\u001b[38;5;28;43;01mfor\u001b[39;49;00m\u001b[43m \u001b[49m\u001b[43mm\u001b[49m\u001b[43m \u001b[49m\u001b[38;5;129;43;01min\u001b[39;49;00m\u001b[43m \u001b[49m\u001b[38;5;28;43mself\u001b[39;49m\u001b[38;5;241;43m.\u001b[39;49m\u001b[43mm\u001b[49m\u001b[43m)\u001b[49m\n\u001b[0;32m    239\u001b[0m \u001b[38;5;28;01mreturn\u001b[39;00m \u001b[38;5;28mself\u001b[39m\u001b[38;5;241m.\u001b[39mcv2(torch\u001b[38;5;241m.\u001b[39mcat(y, \u001b[38;5;241m1\u001b[39m))\n",
      "File \u001b[1;32m~\\anaconda3\\lib\\site-packages\\ultralytics\\nn\\modules\\block.py:238\u001b[0m, in \u001b[0;36m<genexpr>\u001b[1;34m(.0)\u001b[0m\n\u001b[0;32m    236\u001b[0m \u001b[38;5;250m\u001b[39m\u001b[38;5;124;03m\"\"\"Forward pass through C2f layer.\"\"\"\u001b[39;00m\n\u001b[0;32m    237\u001b[0m y \u001b[38;5;241m=\u001b[39m \u001b[38;5;28mlist\u001b[39m(\u001b[38;5;28mself\u001b[39m\u001b[38;5;241m.\u001b[39mcv1(x)\u001b[38;5;241m.\u001b[39mchunk(\u001b[38;5;241m2\u001b[39m, \u001b[38;5;241m1\u001b[39m))\n\u001b[1;32m--> 238\u001b[0m y\u001b[38;5;241m.\u001b[39mextend(\u001b[43mm\u001b[49m\u001b[43m(\u001b[49m\u001b[43my\u001b[49m\u001b[43m[\u001b[49m\u001b[38;5;241;43m-\u001b[39;49m\u001b[38;5;241;43m1\u001b[39;49m\u001b[43m]\u001b[49m\u001b[43m)\u001b[49m \u001b[38;5;28;01mfor\u001b[39;00m m \u001b[38;5;129;01min\u001b[39;00m \u001b[38;5;28mself\u001b[39m\u001b[38;5;241m.\u001b[39mm)\n\u001b[0;32m    239\u001b[0m \u001b[38;5;28;01mreturn\u001b[39;00m \u001b[38;5;28mself\u001b[39m\u001b[38;5;241m.\u001b[39mcv2(torch\u001b[38;5;241m.\u001b[39mcat(y, \u001b[38;5;241m1\u001b[39m))\n",
      "File \u001b[1;32m~\\anaconda3\\lib\\site-packages\\torch\\nn\\modules\\module.py:1553\u001b[0m, in \u001b[0;36mModule._wrapped_call_impl\u001b[1;34m(self, *args, **kwargs)\u001b[0m\n\u001b[0;32m   1551\u001b[0m     \u001b[38;5;28;01mreturn\u001b[39;00m \u001b[38;5;28mself\u001b[39m\u001b[38;5;241m.\u001b[39m_compiled_call_impl(\u001b[38;5;241m*\u001b[39margs, \u001b[38;5;241m*\u001b[39m\u001b[38;5;241m*\u001b[39mkwargs)  \u001b[38;5;66;03m# type: ignore[misc]\u001b[39;00m\n\u001b[0;32m   1552\u001b[0m \u001b[38;5;28;01melse\u001b[39;00m:\n\u001b[1;32m-> 1553\u001b[0m     \u001b[38;5;28;01mreturn\u001b[39;00m \u001b[38;5;28mself\u001b[39m\u001b[38;5;241m.\u001b[39m_call_impl(\u001b[38;5;241m*\u001b[39margs, \u001b[38;5;241m*\u001b[39m\u001b[38;5;241m*\u001b[39mkwargs)\n",
      "File \u001b[1;32m~\\anaconda3\\lib\\site-packages\\torch\\nn\\modules\\module.py:1562\u001b[0m, in \u001b[0;36mModule._call_impl\u001b[1;34m(self, *args, **kwargs)\u001b[0m\n\u001b[0;32m   1557\u001b[0m \u001b[38;5;66;03m# If we don't have any hooks, we want to skip the rest of the logic in\u001b[39;00m\n\u001b[0;32m   1558\u001b[0m \u001b[38;5;66;03m# this function, and just call forward.\u001b[39;00m\n\u001b[0;32m   1559\u001b[0m \u001b[38;5;28;01mif\u001b[39;00m \u001b[38;5;129;01mnot\u001b[39;00m (\u001b[38;5;28mself\u001b[39m\u001b[38;5;241m.\u001b[39m_backward_hooks \u001b[38;5;129;01mor\u001b[39;00m \u001b[38;5;28mself\u001b[39m\u001b[38;5;241m.\u001b[39m_backward_pre_hooks \u001b[38;5;129;01mor\u001b[39;00m \u001b[38;5;28mself\u001b[39m\u001b[38;5;241m.\u001b[39m_forward_hooks \u001b[38;5;129;01mor\u001b[39;00m \u001b[38;5;28mself\u001b[39m\u001b[38;5;241m.\u001b[39m_forward_pre_hooks\n\u001b[0;32m   1560\u001b[0m         \u001b[38;5;129;01mor\u001b[39;00m _global_backward_pre_hooks \u001b[38;5;129;01mor\u001b[39;00m _global_backward_hooks\n\u001b[0;32m   1561\u001b[0m         \u001b[38;5;129;01mor\u001b[39;00m _global_forward_hooks \u001b[38;5;129;01mor\u001b[39;00m _global_forward_pre_hooks):\n\u001b[1;32m-> 1562\u001b[0m     \u001b[38;5;28;01mreturn\u001b[39;00m forward_call(\u001b[38;5;241m*\u001b[39margs, \u001b[38;5;241m*\u001b[39m\u001b[38;5;241m*\u001b[39mkwargs)\n\u001b[0;32m   1564\u001b[0m \u001b[38;5;28;01mtry\u001b[39;00m:\n\u001b[0;32m   1565\u001b[0m     result \u001b[38;5;241m=\u001b[39m \u001b[38;5;28;01mNone\u001b[39;00m\n",
      "File \u001b[1;32m~\\anaconda3\\lib\\site-packages\\ultralytics\\nn\\modules\\block.py:346\u001b[0m, in \u001b[0;36mBottleneck.forward\u001b[1;34m(self, x)\u001b[0m\n\u001b[0;32m    344\u001b[0m \u001b[38;5;28;01mdef\u001b[39;00m \u001b[38;5;21mforward\u001b[39m(\u001b[38;5;28mself\u001b[39m, x):\n\u001b[0;32m    345\u001b[0m \u001b[38;5;250m    \u001b[39m\u001b[38;5;124;03m\"\"\"Applies the YOLO FPN to input data.\"\"\"\u001b[39;00m\n\u001b[1;32m--> 346\u001b[0m     \u001b[38;5;28;01mreturn\u001b[39;00m x \u001b[38;5;241m+\u001b[39m \u001b[38;5;28;43mself\u001b[39;49m\u001b[38;5;241;43m.\u001b[39;49m\u001b[43mcv2\u001b[49m\u001b[43m(\u001b[49m\u001b[38;5;28;43mself\u001b[39;49m\u001b[38;5;241;43m.\u001b[39;49m\u001b[43mcv1\u001b[49m\u001b[43m(\u001b[49m\u001b[43mx\u001b[49m\u001b[43m)\u001b[49m\u001b[43m)\u001b[49m \u001b[38;5;28;01mif\u001b[39;00m \u001b[38;5;28mself\u001b[39m\u001b[38;5;241m.\u001b[39madd \u001b[38;5;28;01melse\u001b[39;00m \u001b[38;5;28mself\u001b[39m\u001b[38;5;241m.\u001b[39mcv2(\u001b[38;5;28mself\u001b[39m\u001b[38;5;241m.\u001b[39mcv1(x))\n",
      "File \u001b[1;32m~\\anaconda3\\lib\\site-packages\\torch\\nn\\modules\\module.py:1553\u001b[0m, in \u001b[0;36mModule._wrapped_call_impl\u001b[1;34m(self, *args, **kwargs)\u001b[0m\n\u001b[0;32m   1551\u001b[0m     \u001b[38;5;28;01mreturn\u001b[39;00m \u001b[38;5;28mself\u001b[39m\u001b[38;5;241m.\u001b[39m_compiled_call_impl(\u001b[38;5;241m*\u001b[39margs, \u001b[38;5;241m*\u001b[39m\u001b[38;5;241m*\u001b[39mkwargs)  \u001b[38;5;66;03m# type: ignore[misc]\u001b[39;00m\n\u001b[0;32m   1552\u001b[0m \u001b[38;5;28;01melse\u001b[39;00m:\n\u001b[1;32m-> 1553\u001b[0m     \u001b[38;5;28;01mreturn\u001b[39;00m \u001b[38;5;28mself\u001b[39m\u001b[38;5;241m.\u001b[39m_call_impl(\u001b[38;5;241m*\u001b[39margs, \u001b[38;5;241m*\u001b[39m\u001b[38;5;241m*\u001b[39mkwargs)\n",
      "File \u001b[1;32m~\\anaconda3\\lib\\site-packages\\torch\\nn\\modules\\module.py:1562\u001b[0m, in \u001b[0;36mModule._call_impl\u001b[1;34m(self, *args, **kwargs)\u001b[0m\n\u001b[0;32m   1557\u001b[0m \u001b[38;5;66;03m# If we don't have any hooks, we want to skip the rest of the logic in\u001b[39;00m\n\u001b[0;32m   1558\u001b[0m \u001b[38;5;66;03m# this function, and just call forward.\u001b[39;00m\n\u001b[0;32m   1559\u001b[0m \u001b[38;5;28;01mif\u001b[39;00m \u001b[38;5;129;01mnot\u001b[39;00m (\u001b[38;5;28mself\u001b[39m\u001b[38;5;241m.\u001b[39m_backward_hooks \u001b[38;5;129;01mor\u001b[39;00m \u001b[38;5;28mself\u001b[39m\u001b[38;5;241m.\u001b[39m_backward_pre_hooks \u001b[38;5;129;01mor\u001b[39;00m \u001b[38;5;28mself\u001b[39m\u001b[38;5;241m.\u001b[39m_forward_hooks \u001b[38;5;129;01mor\u001b[39;00m \u001b[38;5;28mself\u001b[39m\u001b[38;5;241m.\u001b[39m_forward_pre_hooks\n\u001b[0;32m   1560\u001b[0m         \u001b[38;5;129;01mor\u001b[39;00m _global_backward_pre_hooks \u001b[38;5;129;01mor\u001b[39;00m _global_backward_hooks\n\u001b[0;32m   1561\u001b[0m         \u001b[38;5;129;01mor\u001b[39;00m _global_forward_hooks \u001b[38;5;129;01mor\u001b[39;00m _global_forward_pre_hooks):\n\u001b[1;32m-> 1562\u001b[0m     \u001b[38;5;28;01mreturn\u001b[39;00m forward_call(\u001b[38;5;241m*\u001b[39margs, \u001b[38;5;241m*\u001b[39m\u001b[38;5;241m*\u001b[39mkwargs)\n\u001b[0;32m   1564\u001b[0m \u001b[38;5;28;01mtry\u001b[39;00m:\n\u001b[0;32m   1565\u001b[0m     result \u001b[38;5;241m=\u001b[39m \u001b[38;5;28;01mNone\u001b[39;00m\n",
      "File \u001b[1;32m~\\anaconda3\\lib\\site-packages\\ultralytics\\nn\\modules\\conv.py:54\u001b[0m, in \u001b[0;36mConv.forward_fuse\u001b[1;34m(self, x)\u001b[0m\n\u001b[0;32m     52\u001b[0m \u001b[38;5;28;01mdef\u001b[39;00m \u001b[38;5;21mforward_fuse\u001b[39m(\u001b[38;5;28mself\u001b[39m, x):\n\u001b[0;32m     53\u001b[0m \u001b[38;5;250m    \u001b[39m\u001b[38;5;124;03m\"\"\"Perform transposed convolution of 2D data.\"\"\"\u001b[39;00m\n\u001b[1;32m---> 54\u001b[0m     \u001b[38;5;28;01mreturn\u001b[39;00m \u001b[38;5;28mself\u001b[39m\u001b[38;5;241m.\u001b[39mact(\u001b[38;5;28;43mself\u001b[39;49m\u001b[38;5;241;43m.\u001b[39;49m\u001b[43mconv\u001b[49m\u001b[43m(\u001b[49m\u001b[43mx\u001b[49m\u001b[43m)\u001b[49m)\n",
      "File \u001b[1;32m~\\anaconda3\\lib\\site-packages\\torch\\nn\\modules\\module.py:1553\u001b[0m, in \u001b[0;36mModule._wrapped_call_impl\u001b[1;34m(self, *args, **kwargs)\u001b[0m\n\u001b[0;32m   1551\u001b[0m     \u001b[38;5;28;01mreturn\u001b[39;00m \u001b[38;5;28mself\u001b[39m\u001b[38;5;241m.\u001b[39m_compiled_call_impl(\u001b[38;5;241m*\u001b[39margs, \u001b[38;5;241m*\u001b[39m\u001b[38;5;241m*\u001b[39mkwargs)  \u001b[38;5;66;03m# type: ignore[misc]\u001b[39;00m\n\u001b[0;32m   1552\u001b[0m \u001b[38;5;28;01melse\u001b[39;00m:\n\u001b[1;32m-> 1553\u001b[0m     \u001b[38;5;28;01mreturn\u001b[39;00m \u001b[38;5;28mself\u001b[39m\u001b[38;5;241m.\u001b[39m_call_impl(\u001b[38;5;241m*\u001b[39margs, \u001b[38;5;241m*\u001b[39m\u001b[38;5;241m*\u001b[39mkwargs)\n",
      "File \u001b[1;32m~\\anaconda3\\lib\\site-packages\\torch\\nn\\modules\\module.py:1562\u001b[0m, in \u001b[0;36mModule._call_impl\u001b[1;34m(self, *args, **kwargs)\u001b[0m\n\u001b[0;32m   1557\u001b[0m \u001b[38;5;66;03m# If we don't have any hooks, we want to skip the rest of the logic in\u001b[39;00m\n\u001b[0;32m   1558\u001b[0m \u001b[38;5;66;03m# this function, and just call forward.\u001b[39;00m\n\u001b[0;32m   1559\u001b[0m \u001b[38;5;28;01mif\u001b[39;00m \u001b[38;5;129;01mnot\u001b[39;00m (\u001b[38;5;28mself\u001b[39m\u001b[38;5;241m.\u001b[39m_backward_hooks \u001b[38;5;129;01mor\u001b[39;00m \u001b[38;5;28mself\u001b[39m\u001b[38;5;241m.\u001b[39m_backward_pre_hooks \u001b[38;5;129;01mor\u001b[39;00m \u001b[38;5;28mself\u001b[39m\u001b[38;5;241m.\u001b[39m_forward_hooks \u001b[38;5;129;01mor\u001b[39;00m \u001b[38;5;28mself\u001b[39m\u001b[38;5;241m.\u001b[39m_forward_pre_hooks\n\u001b[0;32m   1560\u001b[0m         \u001b[38;5;129;01mor\u001b[39;00m _global_backward_pre_hooks \u001b[38;5;129;01mor\u001b[39;00m _global_backward_hooks\n\u001b[0;32m   1561\u001b[0m         \u001b[38;5;129;01mor\u001b[39;00m _global_forward_hooks \u001b[38;5;129;01mor\u001b[39;00m _global_forward_pre_hooks):\n\u001b[1;32m-> 1562\u001b[0m     \u001b[38;5;28;01mreturn\u001b[39;00m forward_call(\u001b[38;5;241m*\u001b[39margs, \u001b[38;5;241m*\u001b[39m\u001b[38;5;241m*\u001b[39mkwargs)\n\u001b[0;32m   1564\u001b[0m \u001b[38;5;28;01mtry\u001b[39;00m:\n\u001b[0;32m   1565\u001b[0m     result \u001b[38;5;241m=\u001b[39m \u001b[38;5;28;01mNone\u001b[39;00m\n",
      "File \u001b[1;32m~\\anaconda3\\lib\\site-packages\\torch\\nn\\modules\\conv.py:458\u001b[0m, in \u001b[0;36mConv2d.forward\u001b[1;34m(self, input)\u001b[0m\n\u001b[0;32m    457\u001b[0m \u001b[38;5;28;01mdef\u001b[39;00m \u001b[38;5;21mforward\u001b[39m(\u001b[38;5;28mself\u001b[39m, \u001b[38;5;28minput\u001b[39m: Tensor) \u001b[38;5;241m-\u001b[39m\u001b[38;5;241m>\u001b[39m Tensor:\n\u001b[1;32m--> 458\u001b[0m     \u001b[38;5;28;01mreturn\u001b[39;00m \u001b[38;5;28;43mself\u001b[39;49m\u001b[38;5;241;43m.\u001b[39;49m\u001b[43m_conv_forward\u001b[49m\u001b[43m(\u001b[49m\u001b[38;5;28;43minput\u001b[39;49m\u001b[43m,\u001b[49m\u001b[43m \u001b[49m\u001b[38;5;28;43mself\u001b[39;49m\u001b[38;5;241;43m.\u001b[39;49m\u001b[43mweight\u001b[49m\u001b[43m,\u001b[49m\u001b[43m \u001b[49m\u001b[38;5;28;43mself\u001b[39;49m\u001b[38;5;241;43m.\u001b[39;49m\u001b[43mbias\u001b[49m\u001b[43m)\u001b[49m\n",
      "File \u001b[1;32m~\\anaconda3\\lib\\site-packages\\torch\\nn\\modules\\conv.py:454\u001b[0m, in \u001b[0;36mConv2d._conv_forward\u001b[1;34m(self, input, weight, bias)\u001b[0m\n\u001b[0;32m    450\u001b[0m \u001b[38;5;28;01mif\u001b[39;00m \u001b[38;5;28mself\u001b[39m\u001b[38;5;241m.\u001b[39mpadding_mode \u001b[38;5;241m!=\u001b[39m \u001b[38;5;124m'\u001b[39m\u001b[38;5;124mzeros\u001b[39m\u001b[38;5;124m'\u001b[39m:\n\u001b[0;32m    451\u001b[0m     \u001b[38;5;28;01mreturn\u001b[39;00m F\u001b[38;5;241m.\u001b[39mconv2d(F\u001b[38;5;241m.\u001b[39mpad(\u001b[38;5;28minput\u001b[39m, \u001b[38;5;28mself\u001b[39m\u001b[38;5;241m.\u001b[39m_reversed_padding_repeated_twice, mode\u001b[38;5;241m=\u001b[39m\u001b[38;5;28mself\u001b[39m\u001b[38;5;241m.\u001b[39mpadding_mode),\n\u001b[0;32m    452\u001b[0m                     weight, bias, \u001b[38;5;28mself\u001b[39m\u001b[38;5;241m.\u001b[39mstride,\n\u001b[0;32m    453\u001b[0m                     _pair(\u001b[38;5;241m0\u001b[39m), \u001b[38;5;28mself\u001b[39m\u001b[38;5;241m.\u001b[39mdilation, \u001b[38;5;28mself\u001b[39m\u001b[38;5;241m.\u001b[39mgroups)\n\u001b[1;32m--> 454\u001b[0m \u001b[38;5;28;01mreturn\u001b[39;00m \u001b[43mF\u001b[49m\u001b[38;5;241;43m.\u001b[39;49m\u001b[43mconv2d\u001b[49m\u001b[43m(\u001b[49m\u001b[38;5;28;43minput\u001b[39;49m\u001b[43m,\u001b[49m\u001b[43m \u001b[49m\u001b[43mweight\u001b[49m\u001b[43m,\u001b[49m\u001b[43m \u001b[49m\u001b[43mbias\u001b[49m\u001b[43m,\u001b[49m\u001b[43m \u001b[49m\u001b[38;5;28;43mself\u001b[39;49m\u001b[38;5;241;43m.\u001b[39;49m\u001b[43mstride\u001b[49m\u001b[43m,\u001b[49m\n\u001b[0;32m    455\u001b[0m \u001b[43m                \u001b[49m\u001b[38;5;28;43mself\u001b[39;49m\u001b[38;5;241;43m.\u001b[39;49m\u001b[43mpadding\u001b[49m\u001b[43m,\u001b[49m\u001b[43m \u001b[49m\u001b[38;5;28;43mself\u001b[39;49m\u001b[38;5;241;43m.\u001b[39;49m\u001b[43mdilation\u001b[49m\u001b[43m,\u001b[49m\u001b[43m \u001b[49m\u001b[38;5;28;43mself\u001b[39;49m\u001b[38;5;241;43m.\u001b[39;49m\u001b[43mgroups\u001b[49m\u001b[43m)\u001b[49m\n",
      "\u001b[1;31mKeyboardInterrupt\u001b[0m: "
     ]
    }
   ],
   "source": [
    "cap = cv2.VideoCapture(0)  # '0' is typically the default webcam\n",
    "\n",
    "while True:  # Loop to continuously capture frames\n",
    "    ret, frame = cap.read()  # Capture frame from the webcam\n",
    "    if not ret:\n",
    "        break  # Break the loop if no frame is captured\n",
    "\n",
    "    results = model(frame)  # Perform detection on the current frame\n",
    "    bounding_boxes = results[0].boxes.xyxy.numpy()  # Extract bounding boxes as numpy array\n",
    "\n",
    "    # Draw the bounding boxes and center points on the frame\n",
    "    for box in bounding_boxes:\n",
    "        x1, y1, x2, y2 = int(box[0]), int(box[1]), int(box[2]), int(box[3])\n",
    "        center_x, center_y = (x1 + x2) // 2, (y1 + y2) // 2\n",
    "\n",
    "        # Draw the bounding box\n",
    "        cv2.rectangle(frame, (x1, y1), (x2, y2), color=(0, 255, 0), thickness=2)  # Green box\n",
    "\n",
    "        # Draw the center point\n",
    "        cv2.circle(frame, (center_x, center_y), radius=5, color=(255, 0, 0), thickness=-1)  # Blue center\n",
    "\n",
    "        # Print bounding box coordinates and center\n",
    "        print(f\"Bounding box: ({x1}, {y1}), ({x2}, {y2})\")\n",
    "        print(f\"Center: ({center_x}, {center_y})\")\n",
    "\n",
    "    # Display the frame with bounding boxes\n",
    "    cv2.imshow('YOLO Object Detection', frame)  # Show the frame in a window\n",
    "\n",
    "    if cv2.waitKey(1) & 0xFF == ord('q'):  # Exit the loop when 'q' is pressed\n",
    "        break  # Exit the while loop\n",
    "\n",
    "# Release the webcam and close all OpenCV windows\n",
    "cap.release()\n",
    "cv2.destroyAllWindows()"
   ]
  },
  {
   "cell_type": "code",
   "execution_count": null,
   "id": "5b2c8e61",
   "metadata": {},
   "outputs": [],
   "source": []
  }
 ],
 "metadata": {
  "kernelspec": {
   "display_name": "Python 3 (ipykernel)",
   "language": "python",
   "name": "python3"
  },
  "language_info": {
   "codemirror_mode": {
    "name": "ipython",
    "version": 3
   },
   "file_extension": ".py",
   "mimetype": "text/x-python",
   "name": "python",
   "nbconvert_exporter": "python",
   "pygments_lexer": "ipython3",
   "version": "3.9.12"
  }
 },
 "nbformat": 4,
 "nbformat_minor": 5
}
